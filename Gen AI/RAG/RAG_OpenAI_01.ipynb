{
  "cells": [
    {
      "cell_type": "markdown",
      "id": "c4ca8276-e829-4cff-8905-47534e4b4d4e",
      "metadata": {
        "id": "c4ca8276-e829-4cff-8905-47534e4b4d4e"
      },
      "source": [
        "# Using `gpt-3.5-turbo` to answer questions posed in natural language, using a custom dataset and Retrieval-Augmented Generation\n",
        "\n",
        "\n",
        "\n",
        "---\n",
        "**Credit**: Adapted from this [OpenAI notebook](https://github.com/openai/openai-cookbook/blob/main/examples/Question_answering_using_embeddings.ipynb)\n",
        "\n",
        "---\n",
        "\n",
        "Many use cases require us to respond to user questions with relevant and accurate answers. For example, a customer support chatbot may need to provide answers to common support questions.\n",
        "\n",
        "The GPT models have picked up a lot of general knowledge in training - remember GPT-3 was trained on 500 billion tokens! - but we often would like to have the model *use our own dataset or library* of more specific information to answer the questions (e.g., we would like our customer service chatbot to consult a library of service manuals when it answers a user question). We'd expect those tailored responses to be more helpful and accurate than generic responses uninformed by our specific data.\n",
        "\n",
        "In this notebook we will demonstrate a method for enabling `gpt-3.5-turbo` to answer questions using a library of text as a reference. We'll be using a dataset of Wikipedia articles about the 2022 Winter Olympic Games but the same approach can be used with a library of books, articles, documentation, service manuals, or much much more."
      ]
    },
    {
      "cell_type": "markdown",
      "id": "KYInMIG5qHYt",
      "metadata": {
        "id": "KYInMIG5qHYt"
      },
      "source": [
        "## Setup\n",
        "\n",
        "Let's get started by installing the openai python package and `tiktoken`, a package that can tokenize inputs using BPE, in a manner compatible with the OpenAI models\n"
      ]
    },
    {
      "cell_type": "code",
      "execution_count": null,
      "id": "HiJ-lzBu9bUg",
      "metadata": {
        "colab": {
          "base_uri": "https://localhost:8080/"
        },
        "collapsed": true,
        "id": "HiJ-lzBu9bUg",
        "outputId": "1c172c30-db09-4100-d9fa-48a9a54e554e"
      },
      "outputs": [],
      "source": [
        "!pip install --upgrade openai\n",
        "!pip install tiktoken"
      ]
    },
    {
      "cell_type": "code",
      "execution_count": 2,
      "id": "9e3839a6-9146-4f60-b74b-19abbc24278d",
      "metadata": {
        "id": "9e3839a6-9146-4f60-b74b-19abbc24278d"
      },
      "outputs": [],
      "source": [
        "import pandas as pd  # for storing text and embeddings data\n",
        "import dotenv\n",
        "import os"
      ]
    },
    {
      "cell_type": "markdown",
      "id": "Z2bUETiOrGBK",
      "metadata": {
        "id": "Z2bUETiOrGBK"
      },
      "source": [
        "\n",
        "We will use `gpt-3.5-turbo` and then `gpt-4o` in this example; this is the GPT variant that powered the initial release of ChatGPT and remains a potential backend for that service.\n",
        "\n",
        "\n",
        "\n",
        "\n",
        "---\n",
        "We will be using **pre-trained contextual embeddings** as well. For that, we will\n",
        "use the `text-embedding-ada-002` model ([link](https://openai.com/blog/new-and-improved-embedding-model)).\n",
        "\n",
        "\n",
        "---\n",
        "\n",
        "Finally, let's set the OpenAI API key. You can get yours [here](https://platform.openai.com/account/api-keys), and then enter it under `OPENAI_API_KEY` in your Colab secrets. We will create an OpenAI API client using this key.\n",
        "\n",
        "\n",
        "\n"
      ]
    },
    {
      "cell_type": "code",
      "execution_count": 3,
      "id": "4bylYKUdq8ug",
      "metadata": {
        "id": "4bylYKUdq8ug"
      },
      "outputs": [],
      "source": [
        "# models\n",
        "EMBEDDING_MODEL = \"text-embedding-ada-002\"\n",
        "GPT_MODEL = \"gpt-3.5-turbo\"\n",
        "\n",
        "dotenv.load_dotenv()\n",
        "\n",
        "# client for OpenAI API\n",
        "from openai import OpenAI # for calling the OpenAI API\n",
        "client = OpenAI(api_key=os.environ.get(\"OPENAI_API_KEY\"))"
      ]
    },
    {
      "cell_type": "markdown",
      "id": "rgSVrSEHrled",
      "metadata": {
        "id": "rgSVrSEHrled"
      },
      "source": [
        "## Prompting without custom data"
      ]
    },
    {
      "cell_type": "markdown",
      "id": "9312f62f-e208-4030-a648-71ad97aee74f",
      "metadata": {
        "id": "9312f62f-e208-4030-a648-71ad97aee74f"
      },
      "source": [
        "Before we try anything fancy, let's simply ask `gpt-3.5-turbo` a question on the 2020 Summer Olympics and see how it responds.\n",
        "\n",
        "First, we prepare the prompt."
      ]
    },
    {
      "cell_type": "code",
      "execution_count": 4,
      "id": "a167516c-7c19-4bda-afa5-031aa0ae13bb",
      "metadata": {
        "id": "a167516c-7c19-4bda-afa5-031aa0ae13bb"
      },
      "outputs": [],
      "source": [
        "query = 'Which athlete won the gold medal in the high jump at the 2020 Summer Olympics?'"
      ]
    },
    {
      "cell_type": "markdown",
      "id": "qKwMS3diCUCe",
      "metadata": {
        "id": "qKwMS3diCUCe"
      },
      "source": [
        "Next, we make the request to the model, using the openai API. [Documentation](https://platform.openai.com/docs/api-reference/completions/create?lang=python).\n"
      ]
    },
    {
      "cell_type": "code",
      "execution_count": 5,
      "id": "0AfZ-QUVCRuL",
      "metadata": {
        "colab": {
          "base_uri": "https://localhost:8080/"
        },
        "id": "0AfZ-QUVCRuL",
        "outputId": "e3b6cd61-7b29-487e-e8c5-39cbf3064e49"
      },
      "outputs": [
        {
          "name": "stdout",
          "output_type": "stream",
          "text": [
            "Mutaz Essa Barshim of Qatar and Gianmarco Tamberi of Italy both won the gold medal in the men's high jump at the 2020 Summer Olympics. They decided to share the gold medal rather than participate in a jump-off.\n"
          ]
        }
      ],
      "source": [
        "response = client.chat.completions.create(\n",
        "    messages=[\n",
        "        {'role': 'system', 'content': 'You answer questions about the Olympics.'},\n",
        "        {'role': 'user', 'content': query},\n",
        "    ],\n",
        "    model=GPT_MODEL,\n",
        "    temperature=0,\n",
        ")\n",
        "\n",
        "print(response.choices[0].message.content)"
      ]
    },
    {
      "cell_type": "markdown",
      "id": "9mFSfDRLUKgA",
      "metadata": {
        "id": "9mFSfDRLUKgA"
      },
      "source": [
        "We can check that this answer is in fact correct [here](https://en.wikipedia.org/wiki/Athletics_at_the_2020_Summer_Olympics_%E2%80%93_Men%27s_high_jump). Impressive. But now lets change the query around and ask something about the 2022 Winter Olmpics."
      ]
    },
    {
      "cell_type": "code",
      "execution_count": 12,
      "id": "qt4krqbQUjfd",
      "metadata": {
        "colab": {
          "base_uri": "https://localhost:8080/"
        },
        "id": "qt4krqbQUjfd",
        "outputId": "0b46d1ea-aad7-493e-d448-447cbcd7ae64"
      },
      "outputs": [
        {
          "name": "stdout",
          "output_type": "stream",
          "text": [
            "The gold medal in curling at the 2022 Winter Olympics was won by the Swedish men's team and the South Korean women's team.\n"
          ]
        }
      ],
      "source": [
        "query = 'Which athletes won the gold medal in curling at the 2022 Winter Olympics?'\n",
        "\n",
        "response = client.chat.completions.create(\n",
        "    messages=[\n",
        "        {'role': 'system', 'content': 'You answer questions about the Winter Olympics.'},\n",
        "        {'role': 'user', 'content': query},\n",
        "    ],\n",
        "    model=GPT_MODEL,\n",
        "    temperature=0,\n",
        ")\n",
        "\n",
        "print(response.choices[0].message.content)"
      ]
    },
    {
      "cell_type": "markdown",
      "id": "47204cce-a7d5-4c81-ab6e-53323026e08c",
      "metadata": {
        "id": "47204cce-a7d5-4c81-ab6e-53323026e08c"
      },
      "source": [
        "If we fact-check this, it turns out that ....\n",
        "<br> <br> <br> <br> <br> <br> <br> <br> <br> <br> <br> <br> <br> <br> <br> <br> <br> <br> <br> <br> <br> <br> <br> <br>\n",
        "\n",
        "\n",
        "\n",
        "\n",
        "\n",
        "\n",
        "\n",
        "\n",
        "\n",
        "\n",
        "\n",
        "\n",
        "\n",
        "... Sweden did win the men's gold and the South Korean team did particpate, but **Great Britain won the women's gold**.\n",
        "\n",
        "\n",
        "<br>\n",
        "\n",
        "<br>\n",
        "\n",
        "\n",
        "\n",
        "Sounds like `gpt-3.5-turbo` could use some help. 😆\n"
      ]
    },
    {
      "cell_type": "markdown",
      "id": "PSQUCBO9s0J3",
      "metadata": {
        "id": "PSQUCBO9s0J3"
      },
      "source": [
        "### \"Engineering\" the prompt to reduce hallucinations\n",
        "\n"
      ]
    },
    {
      "cell_type": "markdown",
      "id": "c8f8w4_jNqdh",
      "metadata": {
        "id": "c8f8w4_jNqdh"
      },
      "source": [
        "One simple thing we can try right off the bat is to tell `gpt-3.5-turbo` to say \"I don't know\" if it doesn't know rather than make stuff up i.e., \"hallucinate\".\n",
        "\n",
        "\n",
        "How? By asking nicely? 😀 Well, almost.\n",
        "\n",
        "\n",
        "\n",
        "By asking **explicitly!**\n",
        "\n",
        "Let's modify our prompt as follows.\n"
      ]
    },
    {
      "cell_type": "code",
      "execution_count": 36,
      "id": "a5451371-17fe-4ef3-aa02-affcf4edb0e0",
      "metadata": {
        "id": "a5451371-17fe-4ef3-aa02-affcf4edb0e0"
      },
      "outputs": [],
      "source": [
        "query = f\"Question: Which athletes won the gold medal in curling at the 2022 Winter Olympics?\""
      ]
    },
    {
      "cell_type": "markdown",
      "id": "QtjF92agtqz2",
      "metadata": {
        "id": "QtjF92agtqz2"
      },
      "source": [
        "Note the explicit extra instruction in the above prompt: *as truthfully as possible, and if you're unsure of the answer, say \"Sorry, I don't know\"*"
      ]
    },
    {
      "cell_type": "code",
      "execution_count": 37,
      "id": "FMZkGsg5tZr6",
      "metadata": {
        "colab": {
          "base_uri": "https://localhost:8080/"
        },
        "id": "FMZkGsg5tZr6",
        "outputId": "4526f480-77a7-4848-852a-edee9f2bb202"
      },
      "outputs": [
        {
          "name": "stdout",
          "output_type": "stream",
          "text": [
            "Sorry, I don't know.\n"
          ]
        }
      ],
      "source": [
        "response = client.chat.completions.create(\n",
        "    messages=[\n",
        "        {'role': 'system', 'content': '''You answer questions about the 2022 Winter Olympics.Answer the question as truthfully as possible, \\\n",
        "and if you're unsure of the answer, say \"Sorry, I don't know'''},\n",
        "        {'role': 'user', 'content': query},\n",
        "    ],\n",
        "    model=GPT_MODEL,\n",
        "    temperature=0,\n",
        ")\n",
        "\n",
        "print(response.choices[0].message.content)"
      ]
    },
    {
      "cell_type": "markdown",
      "id": "TcklGziptw_m",
      "metadata": {
        "id": "TcklGziptw_m"
      },
      "source": [
        "Wow, it worked. The model is being humble and honest 👀."
      ]
    },
    {
      "cell_type": "markdown",
      "id": "stSuIotb5Kh-",
      "metadata": {
        "id": "stSuIotb5Kh-"
      },
      "source": [
        "It is an interesting question as to why ChatGPT knew the High jump answer but not this. Let's check the [cutoff date](https://platform.openai.com/docs/models/gpt-3-5-turbo) for the training data."
      ]
    },
    {
      "cell_type": "markdown",
      "id": "C-IRkW6NFSU8",
      "metadata": {
        "id": "C-IRkW6NFSU8"
      },
      "source": [
        "## Using custom data"
      ]
    },
    {
      "cell_type": "markdown",
      "id": "1af18d66-d47a-496d-ae5f-4c5d53caa434",
      "metadata": {
        "id": "1af18d66-d47a-496d-ae5f-4c5d53caa434"
      },
      "source": [
        "To help the model answer a question, we can provide relevant custom data **in the prompt itself**. This extra information we provide in the prompt is referred to as **context**.\n",
        "\n"
      ]
    },
    {
      "cell_type": "markdown",
      "id": "R-d2d6tgF56x",
      "metadata": {
        "id": "R-d2d6tgF56x"
      },
      "source": [
        "### Manually enriching the prompt with custom data"
      ]
    },
    {
      "cell_type": "markdown",
      "id": "SkCRjOHPF_YP",
      "metadata": {
        "id": "SkCRjOHPF_YP"
      },
      "source": [
        "We will first show how to do this by ***manually*** finding and adding information (that's relevant to the question) to the prompt."
      ]
    },
    {
      "cell_type": "markdown",
      "id": "Il-5WnlKFwip",
      "metadata": {
        "id": "Il-5WnlKFwip"
      },
      "source": [
        "First, we will use the wikipedia article for the 2022 Winter Olympics curling event as context.\n",
        "\n",
        "Second, we will **explicitly tell the model to make use of the provided context**.\n",
        "\n",
        "There's a deeper lesson here: **telling LLMs explicitly what you want them to do often helps**"
      ]
    },
    {
      "cell_type": "code",
      "execution_count": 6,
      "id": "TGAz2Dk4UNAU",
      "metadata": {
        "id": "TGAz2Dk4UNAU"
      },
      "outputs": [],
      "source": [
        "# text copied and pasted from: https://en.wikipedia.org/wiki/Curling_at_the_2022_Winter_Olympics\n",
        "# Only the portion of the article up until the medalists is included.\n",
        "\n",
        "wikipedia_article_on_curling = \"\"\"Curling at the 2022 Winter Olympics\n",
        "\n",
        "Article\n",
        "Talk\n",
        "Read\n",
        "Edit\n",
        "View history\n",
        "From Wikipedia, the free encyclopedia\n",
        "Curling\n",
        "at the XXIV Olympic Winter Games\n",
        "Curling pictogram.svg\n",
        "Curling pictogram\n",
        "Venue\tBeijing National Aquatics Centre\n",
        "Dates\t2–20 February 2022\n",
        "No. of events\t3 (1 men, 1 women, 1 mixed)\n",
        "Competitors\t114 from 14 nations\n",
        "← 20182026 →\n",
        "Men's curling\n",
        "at the XXIV Olympic Winter Games\n",
        "Medalists\n",
        "1st place, gold medalist(s)\t\t Sweden\n",
        "2nd place, silver medalist(s)\t\t Great Britain\n",
        "3rd place, bronze medalist(s)\t\t Canada\n",
        "Women's curling\n",
        "at the XXIV Olympic Winter Games\n",
        "Medalists\n",
        "1st place, gold medalist(s)\t\t Great Britain\n",
        "2nd place, silver medalist(s)\t\t Japan\n",
        "3rd place, bronze medalist(s)\t\t Sweden\n",
        "Mixed doubles's curling\n",
        "at the XXIV Olympic Winter Games\n",
        "Medalists\n",
        "1st place, gold medalist(s)\t\t Italy\n",
        "2nd place, silver medalist(s)\t\t Norway\n",
        "3rd place, bronze medalist(s)\t\t Sweden\n",
        "Curling at the\n",
        "2022 Winter Olympics\n",
        "Curling pictogram.svg\n",
        "Qualification\n",
        "Statistics\n",
        "Tournament\n",
        "Men\n",
        "Women\n",
        "Mixed doubles\n",
        "vte\n",
        "The curling competitions of the 2022 Winter Olympics were held at the \\\n",
        "Beijing National Aquatics Centre, one of the Olympic Green venues. Curling \\\n",
        "competitions were scheduled for every day of the games, from February 2 to \\\n",
        "February 20.[1] This was the eighth time that curling was part of the Olympic \\\n",
        "program.\n",
        "\n",
        "In each of the men's, women's, and mixed doubles competitions, 10 nations \\\n",
        "competed. The mixed doubles competition was expanded for its second appearance \\\n",
        "in the Olympics.[2] A total of 120 quota spots (60 per sex) were distributed to \\\n",
        "the sport of curling, an increase of four from the 2018 Winter Olympics.[3] A \\\n",
        "total of 3 events were contested, one for men, one for women, and one mixed.[4]\n",
        "\n",
        "Qualification\n",
        "Main article: Curling at the 2022 Winter Olympics – Qualification\n",
        "Qualification to the Men's and Women's curling tournaments at the Winter \\\n",
        "Olympics was determined through two methods (in addition to the host nation).\\\n",
        " Nations qualified teams by placing in the top six at the 2021 World Curling \\\n",
        " Championships. Teams could also qualify through Olympic qualification events \\\n",
        " which were held in 2021. Six nations qualified via World Championship \\\n",
        " qualification placement, while three nations qualified through qualification \\\n",
        " events. In men's and women's play, a host will be selected for the Olympic \\\n",
        " Qualification Event (OQE). They would be joined by the teams which competed \\\n",
        " at the 2021 World Championships but did not qualify for the Olympics, and \\\n",
        " two qualifiers from the Pre-Olympic Qualification Event (Pre-OQE). The \\\n",
        " Pre-OQE was open to all member associations.[5]\n",
        "\n",
        "For the mixed doubles competition in 2022, the tournament field was expanded \\\n",
        "from eight competitor nations to ten.[2] The top seven ranked teams at the \\\n",
        "2021 World Mixed Doubles Curling Championship qualified, along with two teams \\\n",
        "from the Olympic Qualification Event (OQE) – Mixed Doubles. This OQE was open \\\n",
        "to a nominated host and the fifteen nations with the highest qualification \\\n",
        "points not already qualified to the Olympics. As the host nation, China \\\n",
        "qualified teams automatically, thus making a total of ten teams per event \\\n",
        "in the curling tournaments.[6]\n",
        "\n",
        "Summary\n",
        "Nations\tMen\tWomen\tMixed doubles\tAthletes\n",
        " Australia\t\t\tYes\t2\n",
        " Canada\tYes\tYes\tYes\t12\n",
        " China\tYes\tYes\tYes\t12\n",
        " Czech Republic\t\t\tYes\t2\n",
        " Denmark\tYes\tYes\t\t10\n",
        " Great Britain\tYes\tYes\tYes\t10\n",
        " Italy\tYes\t\tYes\t6\n",
        " Japan\t\tYes\t\t5\n",
        " Norway\tYes\t\tYes\t6\n",
        " ROC\tYes\tYes\t\t10\n",
        " South Korea\t\tYes\t\t5\n",
        " Sweden\tYes\tYes\tYes\t11\n",
        " Switzerland\tYes\tYes\tYes\t12\n",
        " United States\tYes\tYes\tYes\t11\n",
        "Total: 14 NOCs\t10\t10\t10\t114\n",
        "Competition schedule\n",
        "\n",
        "The Beijing National Aquatics Centre served as the venue of the curling \\\n",
        "competitions.\n",
        "Curling competitions started two days before the Opening Ceremony and finished \\\n",
        "on the last day of the games, meaning the sport was the only one to have had a \\\n",
        "competition every day of the games. The following was the competition schedule \\\n",
        "for the curling competitions:\n",
        "\n",
        "RR\tRound robin\tSF\tSemifinals\tB\t3rd place play-off\tF\tFinal\n",
        "Date\n",
        "Event\n",
        "Wed 2\tThu 3\tFri 4\tSat 5\tSun 6\tMon 7\tTue 8\tWed 9\tThu 10\tFri 11\tSat 12\tSun 13\t\\\n",
        "Mon 14\tTue 15\tWed 16\tThu 17\tFri 18\tSat 19\tSun 20\n",
        "Men's tournament\t\t\t\t\t\t\t\tRR\tRR\tRR\tRR\tRR\tRR\tRR\tRR\tRR\tSF\tB\tF\n",
        "Women's tournament\t\t\t\t\t\t\t\t\tRR\tRR\tRR\tRR\tRR\tRR\tRR\tRR\tSF\tB\tF\n",
        "Mixed doubles\tRR\tRR\tRR\tRR\tRR\tRR\tSF\tB\tF\n",
        "Medal summary\n",
        "Medal table\n",
        "Rank\tNation\tGold\tSilver\tBronze\tTotal\n",
        "1\t Great Britain\t1\t1\t0\t2\n",
        "2\t Sweden\t1\t0\t2\t3\n",
        "3\t Italy\t1\t0\t0\t1\n",
        "4\t Japan\t0\t1\t0\t1\n",
        " Norway\t0\t1\t0\t1\n",
        "6\t Canada\t0\t0\t1\t1\n",
        "Totals (6 entries)\t3\t3\t3\t9\n",
        "Medalists\n",
        "Event\tGold\tSilver\tBronze\n",
        "Men\n",
        "details\t Sweden\n",
        "Niklas Edin\n",
        "Oskar Eriksson\n",
        "Rasmus Wranå\n",
        "Christoffer Sundgren\n",
        "Daniel Magnusson\t Great Britain\n",
        "Bruce Mouat\n",
        "Grant Hardie\n",
        "Bobby Lammie\n",
        "Hammy McMillan Jr.\n",
        "Ross Whyte\t Canada\n",
        "Brad Gushue\n",
        "Mark Nichols\n",
        "Brett Gallant\n",
        "Geoff Walker\n",
        "Marc Kennedy\n",
        "Women\n",
        "details\t Great Britain\n",
        "Eve Muirhead\n",
        "Vicky Wright\n",
        "Jennifer Dodds\n",
        "Hailey Duff\n",
        "Mili Smith\t Japan\n",
        "Satsuki Fujisawa\n",
        "Chinami Yoshida\n",
        "Yumi Suzuki\n",
        "Yurika Yoshida\n",
        "Kotomi Ishizaki\t Sweden\n",
        "Anna Hasselborg\n",
        "Sara McManus\n",
        "Agnes Knochenhauer\n",
        "Sofia Mabergs\n",
        "Johanna Heldin\n",
        "Mixed doubles\n",
        "details\t Italy\n",
        "Stefania Constantini\n",
        "Amos Mosaner\t Norway\n",
        "Kristin Skaslien\n",
        "Magnus Nedregotten\t Sweden\n",
        "Almida de Val\n",
        "Oskar Eriksson\n",
        "\"\"\""
      ]
    },
    {
      "cell_type": "code",
      "execution_count": 7,
      "id": "fceaf665-2602-4788-bc44-9eb256a6f955",
      "metadata": {
        "colab": {
          "base_uri": "https://localhost:8080/"
        },
        "id": "fceaf665-2602-4788-bc44-9eb256a6f955",
        "outputId": "46685f60-39ed-48fc-e1e1-f88446e5738d"
      },
      "outputs": [
        {
          "name": "stdout",
          "output_type": "stream",
          "text": [
            "Use the below article on the 2022 Winter Olympics to answer the subsequent question.\n",
            "\n",
            "Article:\n",
            "```\n",
            "Curling at the 2022 Winter Olympics\n",
            "\n",
            "Article\n",
            "Talk\n",
            "Read\n",
            "Edit\n",
            "View history\n",
            "From Wikipedia, the free encyclopedia\n",
            "Curling\n",
            "at the XXIV Olympic Winter Games\n",
            "Curling pictogram.svg\n",
            "Curling pictogram\n",
            "Venue\tBeijing National Aquatics Centre\n",
            "Dates\t2–20 February 2022\n",
            "No. of events\t3 (1 men, 1 women, 1 mixed)\n",
            "Competitors\t114 from 14 nations\n",
            "← 20182026 →\n",
            "Men's curling\n",
            "at the XXIV Olympic Winter Games\n",
            "Medalists\n",
            "1st place, gold medalist(s)\t\t Sweden\n",
            "2nd place, silver medalist(s)\t\t Great Britain\n",
            "3rd place, bronze medalist(s)\t\t Canada\n",
            "Women's curling\n",
            "at the XXIV Olympic Winter Games\n",
            "Medalists\n",
            "1st place, gold medalist(s)\t\t Great Britain\n",
            "2nd place, silver medalist(s)\t\t Japan\n",
            "3rd place, bronze medalist(s)\t\t Sweden\n",
            "Mixed doubles's curling\n",
            "at the XXIV Olympic Winter Games\n",
            "Medalists\n",
            "1st place, gold medalist(s)\t\t Italy\n",
            "2nd place, silver medalist(s)\t\t Norway\n",
            "3rd place, bronze medalist(s)\t\t Sweden\n",
            "Curling at the\n",
            "2022 Winter Olympics\n",
            "Curling pictogram.svg\n",
            "Qualification\n",
            "Statistics\n",
            "Tournament\n",
            "Men\n",
            "Women\n",
            "Mixed doubles\n",
            "vte\n",
            "The curling competitions of the 2022 Winter Olympics were held at the Beijing National Aquatics Centre, one of the Olympic Green venues. Curling competitions were scheduled for every day of the games, from February 2 to February 20.[1] This was the eighth time that curling was part of the Olympic program.\n",
            "\n",
            "In each of the men's, women's, and mixed doubles competitions, 10 nations competed. The mixed doubles competition was expanded for its second appearance in the Olympics.[2] A total of 120 quota spots (60 per sex) were distributed to the sport of curling, an increase of four from the 2018 Winter Olympics.[3] A total of 3 events were contested, one for men, one for women, and one mixed.[4]\n",
            "\n",
            "Qualification\n",
            "Main article: Curling at the 2022 Winter Olympics – Qualification\n",
            "Qualification to the Men's and Women's curling tournaments at the Winter Olympics was determined through two methods (in addition to the host nation). Nations qualified teams by placing in the top six at the 2021 World Curling  Championships. Teams could also qualify through Olympic qualification events  which were held in 2021. Six nations qualified via World Championship  qualification placement, while three nations qualified through qualification  events. In men's and women's play, a host will be selected for the Olympic  Qualification Event (OQE). They would be joined by the teams which competed  at the 2021 World Championships but did not qualify for the Olympics, and  two qualifiers from the Pre-Olympic Qualification Event (Pre-OQE). The  Pre-OQE was open to all member associations.[5]\n",
            "\n",
            "For the mixed doubles competition in 2022, the tournament field was expanded from eight competitor nations to ten.[2] The top seven ranked teams at the 2021 World Mixed Doubles Curling Championship qualified, along with two teams from the Olympic Qualification Event (OQE) – Mixed Doubles. This OQE was open to a nominated host and the fifteen nations with the highest qualification points not already qualified to the Olympics. As the host nation, China qualified teams automatically, thus making a total of ten teams per event in the curling tournaments.[6]\n",
            "\n",
            "Summary\n",
            "Nations\tMen\tWomen\tMixed doubles\tAthletes\n",
            " Australia\t\t\tYes\t2\n",
            " Canada\tYes\tYes\tYes\t12\n",
            " China\tYes\tYes\tYes\t12\n",
            " Czech Republic\t\t\tYes\t2\n",
            " Denmark\tYes\tYes\t\t10\n",
            " Great Britain\tYes\tYes\tYes\t10\n",
            " Italy\tYes\t\tYes\t6\n",
            " Japan\t\tYes\t\t5\n",
            " Norway\tYes\t\tYes\t6\n",
            " ROC\tYes\tYes\t\t10\n",
            " South Korea\t\tYes\t\t5\n",
            " Sweden\tYes\tYes\tYes\t11\n",
            " Switzerland\tYes\tYes\tYes\t12\n",
            " United States\tYes\tYes\tYes\t11\n",
            "Total: 14 NOCs\t10\t10\t10\t114\n",
            "Competition schedule\n",
            "\n",
            "The Beijing National Aquatics Centre served as the venue of the curling competitions.\n",
            "Curling competitions started two days before the Opening Ceremony and finished on the last day of the games, meaning the sport was the only one to have had a competition every day of the games. The following was the competition schedule for the curling competitions:\n",
            "\n",
            "RR\tRound robin\tSF\tSemifinals\tB\t3rd place play-off\tF\tFinal\n",
            "Date\n",
            "Event\n",
            "Wed 2\tThu 3\tFri 4\tSat 5\tSun 6\tMon 7\tTue 8\tWed 9\tThu 10\tFri 11\tSat 12\tSun 13\tMon 14\tTue 15\tWed 16\tThu 17\tFri 18\tSat 19\tSun 20\n",
            "Men's tournament\t\t\t\t\t\t\t\tRR\tRR\tRR\tRR\tRR\tRR\tRR\tRR\tRR\tSF\tB\tF\n",
            "Women's tournament\t\t\t\t\t\t\t\t\tRR\tRR\tRR\tRR\tRR\tRR\tRR\tRR\tSF\tB\tF\n",
            "Mixed doubles\tRR\tRR\tRR\tRR\tRR\tRR\tSF\tB\tF\n",
            "Medal summary\n",
            "Medal table\n",
            "Rank\tNation\tGold\tSilver\tBronze\tTotal\n",
            "1\t Great Britain\t1\t1\t0\t2\n",
            "2\t Sweden\t1\t0\t2\t3\n",
            "3\t Italy\t1\t0\t0\t1\n",
            "4\t Japan\t0\t1\t0\t1\n",
            " Norway\t0\t1\t0\t1\n",
            "6\t Canada\t0\t0\t1\t1\n",
            "Totals (6 entries)\t3\t3\t3\t9\n",
            "Medalists\n",
            "Event\tGold\tSilver\tBronze\n",
            "Men\n",
            "details\t Sweden\n",
            "Niklas Edin\n",
            "Oskar Eriksson\n",
            "Rasmus Wranå\n",
            "Christoffer Sundgren\n",
            "Daniel Magnusson\t Great Britain\n",
            "Bruce Mouat\n",
            "Grant Hardie\n",
            "Bobby Lammie\n",
            "Hammy McMillan Jr.\n",
            "Ross Whyte\t Canada\n",
            "Brad Gushue\n",
            "Mark Nichols\n",
            "Brett Gallant\n",
            "Geoff Walker\n",
            "Marc Kennedy\n",
            "Women\n",
            "details\t Great Britain\n",
            "Eve Muirhead\n",
            "Vicky Wright\n",
            "Jennifer Dodds\n",
            "Hailey Duff\n",
            "Mili Smith\t Japan\n",
            "Satsuki Fujisawa\n",
            "Chinami Yoshida\n",
            "Yumi Suzuki\n",
            "Yurika Yoshida\n",
            "Kotomi Ishizaki\t Sweden\n",
            "Anna Hasselborg\n",
            "Sara McManus\n",
            "Agnes Knochenhauer\n",
            "Sofia Mabergs\n",
            "Johanna Heldin\n",
            "Mixed doubles\n",
            "details\t Italy\n",
            "Stefania Constantini\n",
            "Amos Mosaner\t Norway\n",
            "Kristin Skaslien\n",
            "Magnus Nedregotten\t Sweden\n",
            "Almida de Val\n",
            "Oskar Eriksson\n",
            "\n",
            "```\n",
            "\n",
            "Question: Which teams won the gold medal in curling at the 2022 Winter Olympics?\n"
          ]
        }
      ],
      "source": [
        "query = f\"\"\"Use the below article on the 2022 Winter Olympics to answer the \\\n",
        "subsequent question.\n",
        "\n",
        "Article:\n",
        "```\n",
        "{wikipedia_article_on_curling}\n",
        "```\n",
        "\n",
        "Question: Which teams won the gold medal in curling at the 2022 Winter Olympics?\"\"\"\n",
        "\n",
        "print(query)"
      ]
    },
    {
      "cell_type": "markdown",
      "id": "8KwCoDatGsFm",
      "metadata": {
        "id": "8KwCoDatGsFm"
      },
      "source": [
        "Take a moment to notice what the prompt has grown to.\n",
        "\n",
        "\n",
        "OK, let's run it."
      ]
    },
    {
      "cell_type": "code",
      "execution_count": 8,
      "id": "mfIYpFbg0tCI",
      "metadata": {
        "colab": {
          "base_uri": "https://localhost:8080/"
        },
        "id": "mfIYpFbg0tCI",
        "outputId": "c45698ff-740b-4d64-e78d-c56457fd3a2a"
      },
      "outputs": [
        {
          "name": "stdout",
          "output_type": "stream",
          "text": [
            "The teams that won the gold medal in curling at the 2022 Winter Olympics were:\n",
            "\n",
            "- Men's Curling: Sweden\n",
            "- Women's Curling: Great Britain\n",
            "- Mixed Doubles Curling: Italy\n"
          ]
        }
      ],
      "source": [
        "response = client.chat.completions.create(\n",
        "    messages=[\n",
        "        {'role': 'system', 'content': '''You answer questions about the Olympics.Answer the question as truthfully as possible, and if \\\n",
        "you're unsure of the answer, say \"Sorry, I don't know'''},\n",
        "        {'role': 'user', 'content': query},\n",
        "    ],\n",
        "    model=GPT_MODEL,\n",
        "    temperature=0,\n",
        ")\n",
        "\n",
        "print(response.choices[0].message.content)"
      ]
    },
    {
      "cell_type": "markdown",
      "id": "m4liRh5k04OA",
      "metadata": {
        "id": "m4liRh5k04OA"
      },
      "source": [
        "Nicely done, `gpt-3.5-turbo`!\n",
        "\n",
        "---\n",
        "\n",
        "But maybe it wasn't super hard since the answer is literally in the context we provided.\n",
        "\n",
        "\n",
        "Let's make it a bit harder.\n",
        "\n",
        "\n",
        "I noticed that Oskar Eriksson actually won two medals in the event...which tempts me to ask whether any athlete won multiple medals.\n",
        "\n",
        "Let's try it."
      ]
    },
    {
      "cell_type": "code",
      "execution_count": 42,
      "id": "qpI9mMx5JSW5",
      "metadata": {
        "id": "qpI9mMx5JSW5"
      },
      "outputs": [],
      "source": [
        "query = f\"\"\"Use the below article on the 2022 Winter Olympics to answer \\\n",
        "the subsequent question. Answer the question as truthfully as possible, \\\n",
        "and if you're unsure of the answer, say \"Sorry, I don't know\"\n",
        "\n",
        "Article:\n",
        "```\n",
        "{wikipedia_article_on_curling}\n",
        "```\n",
        "\n",
        "Question: Did any athlete win multiple medals in curling at the 2022 Winter \\\n",
        "Olympics?\"\"\""
      ]
    },
    {
      "cell_type": "markdown",
      "id": "M8gAZxH-KVhx",
      "metadata": {
        "id": "M8gAZxH-KVhx"
      },
      "source": [
        "Notice that the question has changed. Everything else is unchanged."
      ]
    },
    {
      "cell_type": "code",
      "execution_count": 43,
      "id": "vai7XuvCJe-_",
      "metadata": {
        "colab": {
          "base_uri": "https://localhost:8080/"
        },
        "id": "vai7XuvCJe-_",
        "outputId": "7796e424-e547-41a9-8158-d3dcf06fc851"
      },
      "outputs": [
        {
          "name": "stdout",
          "output_type": "stream",
          "text": [
            "Yes, Oskar Eriksson from Sweden won multiple medals in curling at the 2022 Winter Olympics. He won a gold medal in the men's event and a bronze medal in the mixed doubles event.\n"
          ]
        }
      ],
      "source": [
        "response = client.chat.completions.create(\n",
        "    messages=[\n",
        "        {'role': 'system', 'content': 'You answer questions about the 2022 Winter Olympics.'},\n",
        "        {'role': 'user', 'content': query},\n",
        "    ],\n",
        "    model=GPT_MODEL,\n",
        "    temperature=0,\n",
        ")\n",
        "\n",
        "print(response.choices[0].message.content)"
      ]
    },
    {
      "cell_type": "markdown",
      "id": "I7C-ejVqKcpU",
      "metadata": {
        "id": "I7C-ejVqKcpU"
      },
      "source": [
        "WHOAH!!!!\n",
        "\n",
        "👏 👍\n",
        "\n",
        "Google cannot do this. In fact, poor Oskar doesn't show up anywhere on the results page summary.\n",
        "\n",
        "\n",
        "\n",
        "---\n",
        "\n",
        "\n"
      ]
    },
    {
      "cell_type": "markdown",
      "id": "lsFc2fnWLHyK",
      "metadata": {
        "id": "lsFc2fnWLHyK"
      },
      "source": [
        "### RETRIEVAL AUGMENTED GENERATION: *Automatically* enriching the prompt with custom data\n",
        "\n",
        "\n",
        "\n"
      ]
    },
    {
      "cell_type": "markdown",
      "id": "ee85ee77-d8d2-4788-b57e-0785f2d7e2e3",
      "metadata": {
        "id": "ee85ee77-d8d2-4788-b57e-0785f2d7e2e3"
      },
      "source": [
        "**Manually** adding extra information into the prompt obviously doesn't scale. So, we will now show how to **automatically** enrich the prompt with custom relevant data.\n",
        "\n",
        "First thing to note. We typically can't just include **all** the custom data into the prompt due to an important reason.\n",
        "\n",
        "The prompt for every model has a limit (called the **context window**) on how many tokens you can send in and get out. For `gpt-3.5-turbo`,  the context window is 16,385 tokens ([link](https://platform.openai.com/docs/models/gpt-3-5-turbo)).\n",
        "\n",
        "Note that the context window includes both the prompt and the response - **together**, they can't exceed 16,385 tokens. We will get deeper into this a bit later but for now, understand this is one key reason we can't include ALL data in the prompt. Another reason is expense. OpenAI charges by the token and these charges can easily add up.\n",
        "\n",
        "(BTW, GPT-4's context window is way bigger - it ranges up to 128K tokens, depending on the particular GPT-4 model)"
      ]
    },
    {
      "cell_type": "markdown",
      "id": "O2N4vj7pdaDh",
      "metadata": {
        "id": "O2N4vj7pdaDh"
      },
      "source": [
        "If we can't include all the custom data, the logical thing to do is to only include data that's **relevant** to the question.\n",
        "\n",
        "How can we measure the relevance between a question and a piece of (our custom) data?\n",
        "\n",
        "Using pretrained contextual embeddings!\n",
        "\n",
        "\n",
        "\n",
        "---\n",
        "\n",
        "\n",
        "\n",
        "\n",
        "This is our overall process.\n",
        "\n"
      ]
    },
    {
      "cell_type": "markdown",
      "id": "sEJbDq1EfHj3",
      "metadata": {
        "id": "sEJbDq1EfHj3"
      },
      "source": [
        "**RETRIEVAL AUGMENTED GENERATION**\n",
        "\n",
        "**One-time setup**\n",
        "* Preprocess the custom dataset by splitting it into 'sections'\n",
        "* We calculate an embedding vector for each section using the `text-embedding-ada-002` model and store it somewhere handy\n",
        "\n",
        "\n",
        "**Each time we receive a question, we do this:**\n",
        "* We calculate an embedding vector for the question (again using the same `text-embedding-ada-002` model)\n",
        "* For each section in our custom dataset, we calculate the *cosine similarity* (more or less the dot-product) between that section's embedding vector and the question's embedding vector\n",
        "* We rank the sections from most-cosine-similar to the question to least-cosine-similar\n",
        "* Starting from the most-cosine-similar section, include as many sections into the prompt as can fit into the context window\n",
        "* Send the prompt into `gpt-3.5-turbo`."
      ]
    },
    {
      "cell_type": "markdown",
      "id": "R78WL_sh5ago",
      "metadata": {
        "id": "R78WL_sh5ago"
      },
      "source": [
        "![RAG](https://substackcdn.com/image/fetch/f_auto,q_auto:good,fl_progressive:steep/https%3A%2F%2Fsubstack-post-media.s3.amazonaws.com%2Fpublic%2Fimages%2F4063347e-8920-40c6-86b3-c520084b303c_1272x998.jpeg)"
      ]
    },
    {
      "cell_type": "markdown",
      "id": "-oUGGWsI5zeN",
      "metadata": {
        "id": "-oUGGWsI5zeN"
      },
      "source": [
        "Credit for 👆image: https://magazine.sebastianraschka.com/p/finetuning-large-language-models"
      ]
    },
    {
      "cell_type": "markdown",
      "id": "0c9bfea5-a028-4191-b9f1-f210d76ec4e3",
      "metadata": {
        "id": "0c9bfea5-a028-4191-b9f1-f210d76ec4e3"
      },
      "source": [
        "#### One-time setup\n",
        "\n",
        "We first need to break up the custom dataset into \"sections\".\n",
        "\n",
        "Sections should be large enough to contain enough information to answer a question; but small enough to fit one or several into the `gpt-3.5-turbo` prompt.\n",
        "\n",
        "Approximately a paragraph of text is usually a good length, but you should experiment for your particular use case. In this example, Wikipedia articles are already grouped into headers, so we will use these to define our sections. This preprocessing (for a related dataset) has already been done in [this notebook](https://github.com/openai/openai-cookbook/blob/main/examples/fine-tuned_qa/olympics-1-collect-data.ipynb), so we will load the results and use them."
      ]
    },
    {
      "cell_type": "markdown",
      "id": "2db106ad",
      "metadata": {},
      "source": [
        "### Creating embeddings from `text-embedding-3-small` model"
      ]
    },
    {
      "cell_type": "code",
      "execution_count": 23,
      "id": "806b9e91",
      "metadata": {},
      "outputs": [
        {
          "data": {
            "text/plain": [
              "array([[0.84427697]])"
            ]
          },
          "execution_count": 23,
          "metadata": {},
          "output_type": "execute_result"
        }
      ],
      "source": [
        "from openai import OpenAI\n",
        "import numpy as np\n",
        "\n",
        "client = OpenAI()\n",
        "\n",
        "response = client.embeddings.create(\n",
        "    input=\"Which teams won the gold medal in curling at the 2022 Winter Olympics?\",\n",
        "    model=\"text-embedding-3-small\"\n",
        ")\n",
        "embedding_1 = response.data[0].embedding\n",
        "\n",
        "response = client.embeddings.create(\n",
        "    input=\"In Winter Olympics 2022 who won curling across all formats?\",\n",
        "    model=\"text-embedding-3-small\"\n",
        ")\n",
        "embedding_2 = response.data[0].embedding\n",
        "\n",
        "# Converting embeddings to numpy arrays\n",
        "embedding_1 = np.array(embedding_1)\n",
        "embedding_2 = np.array(embedding_2)\n",
        "\n",
        "# Testing Cosine similarity\n",
        "from sklearn.metrics.pairwise import cosine_similarity\n",
        "\n",
        "cosine_similarity(embedding_1.reshape(1,-1), embedding_2.reshape(1,-1))"
      ]
    },
    {
      "cell_type": "code",
      "execution_count": 24,
      "id": "cc9c8d69-e234-48b4-87e3-935970e1523a",
      "metadata": {
        "colab": {
          "background_save": true
        },
        "id": "cc9c8d69-e234-48b4-87e3-935970e1523a"
      },
      "outputs": [],
      "source": [
        "# OpenAI has hosted the processed dataset, so we can download it directly without having to recreate it.\n",
        "# This dataset has already been split into 'chunks' (apparently one row for each section of the Wikipedia page)\n",
        "# and a contextual embedding for each chunk has been computed.\n",
        "# This file is ~200 MB, so may take a minute depending on your connection speed\n",
        "\n",
        "embeddings_path = \"https://cdn.openai.com/API/examples/data/winter_olympics_2022.csv\"\n",
        "\n",
        "df = pd.read_csv(embeddings_path)\n",
        "\n",
        "import ast  # for converting embeddings saved as strings to arrays\n",
        "df['embedding'] = df['embedding'].apply(ast.literal_eval)"
      ]
    },
    {
      "cell_type": "code",
      "execution_count": null,
      "id": "56e0422e",
      "metadata": {},
      "outputs": [],
      "source": [
        "df.shape"
      ]
    },
    {
      "cell_type": "code",
      "execution_count": 44,
      "id": "b153613a",
      "metadata": {},
      "outputs": [
        {
          "data": {
            "text/html": [
              "<div>\n",
              "<style scoped>\n",
              "    .dataframe tbody tr th:only-of-type {\n",
              "        vertical-align: middle;\n",
              "    }\n",
              "\n",
              "    .dataframe tbody tr th {\n",
              "        vertical-align: top;\n",
              "    }\n",
              "\n",
              "    .dataframe thead th {\n",
              "        text-align: right;\n",
              "    }\n",
              "</style>\n",
              "<table border=\"1\" class=\"dataframe\">\n",
              "  <thead>\n",
              "    <tr style=\"text-align: right;\">\n",
              "      <th></th>\n",
              "      <th>text</th>\n",
              "      <th>embedding</th>\n",
              "    </tr>\n",
              "  </thead>\n",
              "  <tbody>\n",
              "    <tr>\n",
              "      <th>0</th>\n",
              "      <td>Lviv bid for the 2022 Winter Olympics\\n\\n{{Olympic bid|2022|Winter|\\n| Paralympics = yes\\n| logo = Lviv 2022 Winter Olympics bid.svg\\n| logo-size = 220px\\n| fullname = [[Lviv]], [[Ukraine]]\\n| chair = \\n| committee = [[National Olympic Committee of Ukraine]] (UKR)\\n| history = None\\n}}\\n\\n'''Lviv 2022''' ({{lang-uk|Львів 2022}}; {{lang-pl|Lwów 2022}}; {{lang-ru|Львов 2022}}; {{lang-de|Lemberg 2022}}) was a bid by the city of [[Lviv]] and the [[National Olympic Committee of Ukraine]] for the ...</td>\n",
              "      <td>[-0.005021067801862955, 0.00026050032465718687, -0.0046091326512396336, 0.016684994101524353, -0.029633380472660065, 0.03277317062020302, -0.016217919066548347, -0.01712612248957157, -0.0022461817134171724, -0.02706446312367916, 0.030411841347813606, 0.01922796480357647, -0.00896526500582695, -0.027972666546702385, -0.02758343517780304, -0.027479641139507294, 0.013921461068093777, 0.00766783207654953, 0.00015092799731064588, -0.01711314730346203, -0.003931223414838314, -0.006850448902696371,...</td>\n",
              "    </tr>\n",
              "    <tr>\n",
              "      <th>1</th>\n",
              "      <td>Lviv bid for the 2022 Winter Olympics\\n\\n==History==\\n\\n[[Image:Lwów - Rynek 01.JPG|thumb|right|200px|View of Rynok Square in Lviv]]\\n\\nOn 27 May 2010, [[President of Ukraine]] [[Viktor Yanukovych]] stated during a visit to [[Lviv]] that Ukraine \"will start working on the official nomination of our country as the holder of the Winter Olympic Games in [[Carpathian Mountains|Carpathians]]\".\\n\\nIn September 2012, [[government of Ukraine]] approved a document about the technical-economic substan...</td>\n",
              "      <td>[0.0033927420154213905, -0.007447326090186834, 0.008918799459934235, 0.005885893478989601, -0.03870810195803642, 0.016732387244701385, -0.019855251535773277, -0.022168485447764397, 1.1226058632018976e-05, -0.033387668430805206, 0.027887312695384026, 0.0068176123313605785, -0.008905948139727116, -0.031742699444293976, -0.025831105187535286, -0.02021508850157261, 0.010801514610648155, -0.001778298057615757, 0.0004293136007618159, -0.023839153349399567, -0.011206329800188541, -0.003370252437889...</td>\n",
              "    </tr>\n",
              "    <tr>\n",
              "      <th>2</th>\n",
              "      <td>Lviv bid for the 2022 Winter Olympics\\n\\n==Venues==\\n\\n{{Location map+\\n|Ukraine\\n|border =\\n|caption = Venue areas\\n|float = left\\n|width = 350\\n|places =\\n{{location map~ |Ukraine |lat=49.85 |long=24.01 |label='''[[Lviv]]''' |position=top}}\\n{{location map~ |Ukraine |lat=48.9828 |long=23.2774 |label='''[[Tysovets, Skole Raion|Tysovets]]''' |position=right}}\\n{{location map~ |Ukraine |lat=48.711111 |long=23.188333 |label='''[[Volovets|Borzhava]]''' |position=bottom}} }}\\nThe German companie...</td>\n",
              "      <td>[-0.00915789045393467, -0.008366798982024193, -0.004565536975860596, 3.061394454562105e-05, -0.028935180976986885, 0.036282945424318314, -0.015044148080050945, -0.017202889546751976, -0.00545719126239419, -0.03960821405053139, 0.024510430172085762, 0.006466167978942394, -0.00027947992202825844, -0.011149028316140175, -0.011102098971605301, -0.02180194854736328, -0.00016446156951133162, -0.0009561816696077585, -0.00996239110827446, -0.02874746359884739, -0.015553665347397327, -0.0019559403881...</td>\n",
              "    </tr>\n",
              "    <tr>\n",
              "      <th>3</th>\n",
              "      <td>Lviv bid for the 2022 Winter Olympics\\n\\n==Venues==\\n\\n===City zone===\\n\\nThe main Olympic Park would be centered around the [[Arena Lviv]], hosting the opening and closing ceremonies.  The Olympic Park would have two ice rinks (ice hockey, short track speed skating and figure skating), a temporary speed skating oval and a temporary curling rink.  The Olympic Park would also host the Olympic Village and International Broadcast Centre.  A second ice rink for hockey competitions would be locat...</td>\n",
              "      <td>[0.0030951891094446182, -0.006064314860850573, 0.013017709366977215, 0.016268819570541382, -0.03091871738433838, 0.02446957677602768, -0.017648881301283836, -0.02371319569647312, -0.005088982172310352, -0.016083041206002235, 0.034766968339681625, 0.013973137363791466, 0.0015517413849011064, -0.004133553709834814, -0.025743480771780014, -0.011723900213837624, -0.006827330682426691, 0.003271014429628849, -0.008585583418607712, -0.03213954344391823, -0.02036919817328453, -0.012553264386951923, ...</td>\n",
              "    </tr>\n",
              "    <tr>\n",
              "      <th>4</th>\n",
              "      <td>Lviv bid for the 2022 Winter Olympics\\n\\n==Venues==\\n\\n===Mountain zone===\\n\\n====Venue cluster Tysovets-Panasivka====\\n\\nAn existing military ski training facility in [[Tysovets, Skole Raion|Tysovets]], 139&amp;nbsp;km south of Lviv, along with two disused ski jumps, are proposed to be rebuilt to host all Nordic events.  Additionally, a ski hill would be developed to host all of the snowboard and freestyle skiing events.&lt;ref name=concept_study /&gt;\\n*Tysovets Nordic Arena - biathlon, cross countr...</td>\n",
              "      <td>[-0.002936174161732197, -0.006185177247971296, 0.005705732852220535, 0.003036483423784375, -0.023625405505299568, 0.03688664361834526, -0.0189057644456625, -0.034465618431568146, -0.004981465172022581, -0.035145681351423264, 0.024890324100852013, 0.012860001064836979, 0.001692507998086512, -0.01909618265926838, -0.012030323036015034, -0.021558012813329697, 0.00392396654933691, -0.004321803338825703, -0.009337271563708782, -0.02959636226296425, -0.009622897952795029, -0.012757991440594196, 0....</td>\n",
              "    </tr>\n",
              "  </tbody>\n",
              "</table>\n",
              "</div>"
            ],
            "text/plain": [
              "                                                                                                                                                                                                                                                                                                                                                                                                                                                                                                                  text  \\\n",
              "0  Lviv bid for the 2022 Winter Olympics\\n\\n{{Olympic bid|2022|Winter|\\n| Paralympics = yes\\n| logo = Lviv 2022 Winter Olympics bid.svg\\n| logo-size = 220px\\n| fullname = [[Lviv]], [[Ukraine]]\\n| chair = \\n| committee = [[National Olympic Committee of Ukraine]] (UKR)\\n| history = None\\n}}\\n\\n'''Lviv 2022''' ({{lang-uk|Львів 2022}}; {{lang-pl|Lwów 2022}}; {{lang-ru|Львов 2022}}; {{lang-de|Lemberg 2022}}) was a bid by the city of [[Lviv]] and the [[National Olympic Committee of Ukraine]] for the ...   \n",
              "1  Lviv bid for the 2022 Winter Olympics\\n\\n==History==\\n\\n[[Image:Lwów - Rynek 01.JPG|thumb|right|200px|View of Rynok Square in Lviv]]\\n\\nOn 27 May 2010, [[President of Ukraine]] [[Viktor Yanukovych]] stated during a visit to [[Lviv]] that Ukraine \"will start working on the official nomination of our country as the holder of the Winter Olympic Games in [[Carpathian Mountains|Carpathians]]\".\\n\\nIn September 2012, [[government of Ukraine]] approved a document about the technical-economic substan...   \n",
              "2  Lviv bid for the 2022 Winter Olympics\\n\\n==Venues==\\n\\n{{Location map+\\n|Ukraine\\n|border =\\n|caption = Venue areas\\n|float = left\\n|width = 350\\n|places =\\n{{location map~ |Ukraine |lat=49.85 |long=24.01 |label='''[[Lviv]]''' |position=top}}\\n{{location map~ |Ukraine |lat=48.9828 |long=23.2774 |label='''[[Tysovets, Skole Raion|Tysovets]]''' |position=right}}\\n{{location map~ |Ukraine |lat=48.711111 |long=23.188333 |label='''[[Volovets|Borzhava]]''' |position=bottom}} }}\\nThe German companie...   \n",
              "3  Lviv bid for the 2022 Winter Olympics\\n\\n==Venues==\\n\\n===City zone===\\n\\nThe main Olympic Park would be centered around the [[Arena Lviv]], hosting the opening and closing ceremonies.  The Olympic Park would have two ice rinks (ice hockey, short track speed skating and figure skating), a temporary speed skating oval and a temporary curling rink.  The Olympic Park would also host the Olympic Village and International Broadcast Centre.  A second ice rink for hockey competitions would be locat...   \n",
              "4  Lviv bid for the 2022 Winter Olympics\\n\\n==Venues==\\n\\n===Mountain zone===\\n\\n====Venue cluster Tysovets-Panasivka====\\n\\nAn existing military ski training facility in [[Tysovets, Skole Raion|Tysovets]], 139&nbsp;km south of Lviv, along with two disused ski jumps, are proposed to be rebuilt to host all Nordic events.  Additionally, a ski hill would be developed to host all of the snowboard and freestyle skiing events.<ref name=concept_study />\\n*Tysovets Nordic Arena - biathlon, cross countr...   \n",
              "\n",
              "                                                                                                                                                                                                                                                                                                                                                                                                                                                                                                             embedding  \n",
              "0  [-0.005021067801862955, 0.00026050032465718687, -0.0046091326512396336, 0.016684994101524353, -0.029633380472660065, 0.03277317062020302, -0.016217919066548347, -0.01712612248957157, -0.0022461817134171724, -0.02706446312367916, 0.030411841347813606, 0.01922796480357647, -0.00896526500582695, -0.027972666546702385, -0.02758343517780304, -0.027479641139507294, 0.013921461068093777, 0.00766783207654953, 0.00015092799731064588, -0.01711314730346203, -0.003931223414838314, -0.006850448902696371,...  \n",
              "1  [0.0033927420154213905, -0.007447326090186834, 0.008918799459934235, 0.005885893478989601, -0.03870810195803642, 0.016732387244701385, -0.019855251535773277, -0.022168485447764397, 1.1226058632018976e-05, -0.033387668430805206, 0.027887312695384026, 0.0068176123313605785, -0.008905948139727116, -0.031742699444293976, -0.025831105187535286, -0.02021508850157261, 0.010801514610648155, -0.001778298057615757, 0.0004293136007618159, -0.023839153349399567, -0.011206329800188541, -0.003370252437889...  \n",
              "2  [-0.00915789045393467, -0.008366798982024193, -0.004565536975860596, 3.061394454562105e-05, -0.028935180976986885, 0.036282945424318314, -0.015044148080050945, -0.017202889546751976, -0.00545719126239419, -0.03960821405053139, 0.024510430172085762, 0.006466167978942394, -0.00027947992202825844, -0.011149028316140175, -0.011102098971605301, -0.02180194854736328, -0.00016446156951133162, -0.0009561816696077585, -0.00996239110827446, -0.02874746359884739, -0.015553665347397327, -0.0019559403881...  \n",
              "3  [0.0030951891094446182, -0.006064314860850573, 0.013017709366977215, 0.016268819570541382, -0.03091871738433838, 0.02446957677602768, -0.017648881301283836, -0.02371319569647312, -0.005088982172310352, -0.016083041206002235, 0.034766968339681625, 0.013973137363791466, 0.0015517413849011064, -0.004133553709834814, -0.025743480771780014, -0.011723900213837624, -0.006827330682426691, 0.003271014429628849, -0.008585583418607712, -0.03213954344391823, -0.02036919817328453, -0.012553264386951923, ...  \n",
              "4  [-0.002936174161732197, -0.006185177247971296, 0.005705732852220535, 0.003036483423784375, -0.023625405505299568, 0.03688664361834526, -0.0189057644456625, -0.034465618431568146, -0.004981465172022581, -0.035145681351423264, 0.024890324100852013, 0.012860001064836979, 0.001692507998086512, -0.01909618265926838, -0.012030323036015034, -0.021558012813329697, 0.00392396654933691, -0.004321803338825703, -0.009337271563708782, -0.02959636226296425, -0.009622897952795029, -0.012757991440594196, 0....  "
            ]
          },
          "execution_count": 44,
          "metadata": {},
          "output_type": "execute_result"
        }
      ],
      "source": [
        "df.head()"
      ]
    },
    {
      "cell_type": "markdown",
      "id": "pPEIe3Q8Pbud",
      "metadata": {
        "id": "pPEIe3Q8Pbud"
      },
      "source": [
        "Let's print out 5 randomly chosen chunks."
      ]
    },
    {
      "cell_type": "code",
      "execution_count": 22,
      "id": "KMGvMVoFQWy-",
      "metadata": {
        "colab": {
          "base_uri": "https://localhost:8080/",
          "height": 362
        },
        "id": "KMGvMVoFQWy-",
        "outputId": "f2f793a7-de45-433f-cb14-2ec845e56f70"
      },
      "outputs": [
        {
          "data": {
            "text/html": [
              "<div>\n",
              "<style scoped>\n",
              "    .dataframe tbody tr th:only-of-type {\n",
              "        vertical-align: middle;\n",
              "    }\n",
              "\n",
              "    .dataframe tbody tr th {\n",
              "        vertical-align: top;\n",
              "    }\n",
              "\n",
              "    .dataframe thead th {\n",
              "        text-align: right;\n",
              "    }\n",
              "</style>\n",
              "<table border=\"1\" class=\"dataframe\">\n",
              "  <thead>\n",
              "    <tr style=\"text-align: right;\">\n",
              "      <th></th>\n",
              "      <th>text</th>\n",
              "    </tr>\n",
              "  </thead>\n",
              "  <tbody>\n",
              "    <tr>\n",
              "      <th>1903</th>\n",
              "      <td>Ronja Savolainen\\n\\n==Career statistics==\\n\\n===International===\\n\\n{| border=\"0\" cellpadding=\"1\" cellspacing=\"0\" style=\"text-align:center; width:40em\"\\n|- ALIGN=\"centre\" bgcolor=\"#e0e0e0\"\\n! Year\\n! Team\\n! Event\\n! Result\\n! rowspan=\"99\" bgcolor=\"#ffffff\" | &amp;nbsp;\\n! GP\\n! G\\n! A\\n! Pts\\n! PIM\\n|-\\n| [[2014 IIHF World Women's U18 Championship|2014]]\\n| [[Finland women's national under-18 ice hockey team|Finland U18]]\\n| [[IIHF World Women's U18 Championship|WW18]]\\n| 5th\\n| 5\\n| 0\\n| 1\\n| ...</td>\n",
              "    </tr>\n",
              "    <tr>\n",
              "      <th>1846</th>\n",
              "      <td>Artyom Minulin\\n\\n==International play==\\n\\n{{MedalTableTop|name = }}\\n{{MedalSport|[[Ice hockey]]}}\\n{{MedalCountry | {{flagIOC|ROC|2022 Winter}} }}\\n{{MedalOlympic}}\\n{{MedalSilver|[[Ice hockey at the 2022 Winter Olympics – Men's tournament|2022 Beijing]]|}}\\n{{MedalBottom}}\\nMinulin represented [[Russia men's national junior ice hockey team|Russia]] at the [[2018 World Junior Ice Hockey Championships]].\\n\\nOn 23 January 2022, Minulin was named to the roster to represent [[Russian Olympic ...</td>\n",
              "    </tr>\n",
              "    <tr>\n",
              "      <th>2729</th>\n",
              "      <td>Anna Hasselborg\\n\\n==Grand Slam record==\\n\\nHasselborg and her rink became the first women's team to win a career \"Grand Slam\" (winning all four 'majors') when she won the [[2022 Players' Championship]]. \\n\\n{{Curling GS key}}\\n{{clear}}\\n{| class=\"wikitable\" border=\"1\"\\n|-\\n! Event\\n! [[2010–11 curling season|2010–11]]\\n! [[2011–12 curling season|2011–12]]\\n! [[2012–13 curling season|2012–13]]\\n! [[2013–14 curling season|2013–14]]\\n! [[2014–15 curling season|2014–15]]\\n! [[2015–16 curling s...</td>\n",
              "    </tr>\n",
              "    <tr>\n",
              "      <th>6022</th>\n",
              "      <td>Israel at the 2022 Winter Olympics\\n\\n==Competitors==\\n\\nThe Israeli delegation included 6 athletes, competing in 3 disciplines.\\n\\n{|class=\"wikitable sortable\" style=\"text-align:center;\"\\n|-\\n! width=180|Sport\\n! width=55|Men\\n! width=55|Women\\n! width=55|Total\\n|-\\n|align=left|[[Alpine skiing at the 2022 Winter Olympics|Alpine skiing]]\\n|1 ||1 ||2\\n|-\\n|align=left|[[Figure skating at the 2022 Winter Olympics|Figure skating]]\\n|2 ||1 ||3\\n|-\\n|align=left|[[Short track speed skating at the 2...</td>\n",
              "    </tr>\n",
              "    <tr>\n",
              "      <th>1020</th>\n",
              "      <td>Vetle Sjåstad Christiansen\\n\\n==Career==\\n\\n===Leaving the national team (2015–16 World Cup season)===\\n\\nDue to his illness, he left the national biathlon team ahead of the [[2015–16 Biathlon World Cup|2015–16 season]] and joined a private biathlon team called Team Norgesbakeriet. The team was composed of [[Vetle Ravnsborg Gurigard]], [[Kristoffer Langøien Skjelvik]], [[Håkon Svaland]], [[Martin Eng]], [[Tore Leren]] and Christiansen, with [[Knut Tore Berland]] as coach. He did not particip...</td>\n",
              "    </tr>\n",
              "  </tbody>\n",
              "</table>\n",
              "</div>"
            ],
            "text/plain": [
              "                                                                                                                                                                                                                                                                                                                                                                                                                                                                                                                     text\n",
              "1903  Ronja Savolainen\\n\\n==Career statistics==\\n\\n===International===\\n\\n{| border=\"0\" cellpadding=\"1\" cellspacing=\"0\" style=\"text-align:center; width:40em\"\\n|- ALIGN=\"centre\" bgcolor=\"#e0e0e0\"\\n! Year\\n! Team\\n! Event\\n! Result\\n! rowspan=\"99\" bgcolor=\"#ffffff\" | &nbsp;\\n! GP\\n! G\\n! A\\n! Pts\\n! PIM\\n|-\\n| [[2014 IIHF World Women's U18 Championship|2014]]\\n| [[Finland women's national under-18 ice hockey team|Finland U18]]\\n| [[IIHF World Women's U18 Championship|WW18]]\\n| 5th\\n| 5\\n| 0\\n| 1\\n| ...\n",
              "1846  Artyom Minulin\\n\\n==International play==\\n\\n{{MedalTableTop|name = }}\\n{{MedalSport|[[Ice hockey]]}}\\n{{MedalCountry | {{flagIOC|ROC|2022 Winter}} }}\\n{{MedalOlympic}}\\n{{MedalSilver|[[Ice hockey at the 2022 Winter Olympics – Men's tournament|2022 Beijing]]|}}\\n{{MedalBottom}}\\nMinulin represented [[Russia men's national junior ice hockey team|Russia]] at the [[2018 World Junior Ice Hockey Championships]].\\n\\nOn 23 January 2022, Minulin was named to the roster to represent [[Russian Olympic ...\n",
              "2729  Anna Hasselborg\\n\\n==Grand Slam record==\\n\\nHasselborg and her rink became the first women's team to win a career \"Grand Slam\" (winning all four 'majors') when she won the [[2022 Players' Championship]]. \\n\\n{{Curling GS key}}\\n{{clear}}\\n{| class=\"wikitable\" border=\"1\"\\n|-\\n! Event\\n! [[2010–11 curling season|2010–11]]\\n! [[2011–12 curling season|2011–12]]\\n! [[2012–13 curling season|2012–13]]\\n! [[2013–14 curling season|2013–14]]\\n! [[2014–15 curling season|2014–15]]\\n! [[2015–16 curling s...\n",
              "6022  Israel at the 2022 Winter Olympics\\n\\n==Competitors==\\n\\nThe Israeli delegation included 6 athletes, competing in 3 disciplines.\\n\\n{|class=\"wikitable sortable\" style=\"text-align:center;\"\\n|-\\n! width=180|Sport\\n! width=55|Men\\n! width=55|Women\\n! width=55|Total\\n|-\\n|align=left|[[Alpine skiing at the 2022 Winter Olympics|Alpine skiing]]\\n|1 ||1 ||2\\n|-\\n|align=left|[[Figure skating at the 2022 Winter Olympics|Figure skating]]\\n|2 ||1 ||3\\n|-\\n|align=left|[[Short track speed skating at the 2...\n",
              "1020  Vetle Sjåstad Christiansen\\n\\n==Career==\\n\\n===Leaving the national team (2015–16 World Cup season)===\\n\\nDue to his illness, he left the national biathlon team ahead of the [[2015–16 Biathlon World Cup|2015–16 season]] and joined a private biathlon team called Team Norgesbakeriet. The team was composed of [[Vetle Ravnsborg Gurigard]], [[Kristoffer Langøien Skjelvik]], [[Håkon Svaland]], [[Martin Eng]], [[Tore Leren]] and Christiansen, with [[Knut Tore Berland]] as coach. He did not particip..."
            ]
          },
          "execution_count": 22,
          "metadata": {},
          "output_type": "execute_result"
        }
      ],
      "source": [
        "pd.set_option('display.max_colwidth', 500)\n",
        "df[['text']].sample(5)"
      ]
    },
    {
      "cell_type": "markdown",
      "id": "ygZKOYP6hFvO",
      "metadata": {
        "id": "ygZKOYP6hFvO"
      },
      "source": [
        "Next, we define a function to calculate the embedding using the `text-embedding-ada-002` model, given a piece of text. The API call is simple (see below). [Link](https://openai.com/blog/new-and-improved-embedding-model)."
      ]
    },
    {
      "cell_type": "code",
      "execution_count": 27,
      "id": "ba475f30-ef7f-431c-b60d-d5970b62ad09",
      "metadata": {
        "id": "ba475f30-ef7f-431c-b60d-d5970b62ad09"
      },
      "outputs": [],
      "source": [
        "def get_embedding(text: str, model: str=EMBEDDING_MODEL) -> list[float]:\n",
        "    result = client.embeddings.create(\n",
        "      model=EMBEDDING_MODEL,  # which embedding model we want to use\n",
        "      input=text,            # feed in the text for which you want to calc the embedding\n",
        "    )\n",
        "    return result.data[0].embedding"
      ]
    },
    {
      "cell_type": "markdown",
      "id": "Gm_jlpKEIY2f",
      "metadata": {
        "id": "Gm_jlpKEIY2f"
      },
      "source": [
        "Let's try it on \"GenAI is amazing!!\" 😃"
      ]
    },
    {
      "cell_type": "code",
      "execution_count": 51,
      "id": "60l0L2BwIfd4",
      "metadata": {
        "id": "60l0L2BwIfd4"
      },
      "outputs": [],
      "source": [
        "e = get_embedding(\"Narendra Modi is addressing the media\")"
      ]
    },
    {
      "cell_type": "markdown",
      "id": "U1hadXcQiOq5",
      "metadata": {
        "id": "U1hadXcQiOq5"
      },
      "source": [
        "Let's see how long the embedding vector is."
      ]
    },
    {
      "cell_type": "code",
      "execution_count": 52,
      "id": "3Ohnow38iuj9",
      "metadata": {
        "colab": {
          "base_uri": "https://localhost:8080/"
        },
        "collapsed": true,
        "id": "3Ohnow38iuj9",
        "outputId": "ab148eb2-b89e-4b61-f6e8-d7bd68182a7a"
      },
      "outputs": [
        {
          "data": {
            "text/plain": [
              "[-0.0163012333214283,\n",
              " -0.013816753402352333,\n",
              " 0.00012527374201454222,\n",
              " 0.011338611133396626,\n",
              " -0.006170004140585661,\n",
              " 0.02956024743616581,\n",
              " -0.012511133216321468,\n",
              " -0.008670330047607422,\n",
              " -0.011731564067304134,\n",
              " -0.00823301076889038,\n",
              " 0.058258529752492905,\n",
              " 0.008816102519631386,\n",
              " -0.015794197097420692,\n",
              " 0.0019774436950683594,\n",
              " -0.011947055347263813,\n",
              " -0.017961779609322548,\n",
              " 0.025174377486109734,\n",
              " -0.011909027583897114,\n",
              " 0.04436572268605232,\n",
              " -0.018963176757097244,\n",
              " 0.014323790557682514,\n",
              " 0.016985733062028885,\n",
              " 0.014589984901249409,\n",
              " 0.028064487501978874,\n",
              " -0.011864661239087582,\n",
              " -0.008530894294381142,\n",
              " 0.011325934901833534,\n",
              " -0.00913300085812807,\n",
              " -0.01859557442367077,\n",
              " -0.010559041984379292,\n",
              " -0.006914714816957712,\n",
              " -0.009462574496865273,\n",
              " 0.012555499561131,\n",
              " -0.005659798625856638,\n",
              " -0.008505542762577534,\n",
              " -0.016884326934814453,\n",
              " -0.01873501017689705,\n",
              " -0.00501966429874301,\n",
              " 5.0357073632767424e-05,\n",
              " -0.0009158352622762322,\n",
              " 0.030041931197047234,\n",
              " -0.008030195720493793,\n",
              " 0.0054094488732516766,\n",
              " -0.00206775963306427,\n",
              " -0.0068006315268576145,\n",
              " 0.014932234771549702,\n",
              " -0.00915201473981142,\n",
              " -0.01893782429397106,\n",
              " -0.01644066907465458,\n",
              " 0.003097678069025278,\n",
              " 0.019102612510323524,\n",
              " 0.0069210524670779705,\n",
              " -0.03313485532999039,\n",
              " -0.022842008620500565,\n",
              " -0.020382879301905632,\n",
              " -0.028318006545305252,\n",
              " -0.016554752364754677,\n",
              " 0.020649073645472527,\n",
              " -0.0030818332452327013,\n",
              " 0.008359769359230995,\n",
              " -1.7144677258329466e-05,\n",
              " -0.0013072042493149638,\n",
              " 0.006775279529392719,\n",
              " 0.018747685477137566,\n",
              " -0.0154519472271204,\n",
              " -0.024249035865068436,\n",
              " -0.002443283563479781,\n",
              " 0.012270291335880756,\n",
              " 0.010077356360852718,\n",
              " -0.0008936523809097707,\n",
              " 0.04406150057911873,\n",
              " 0.024667341262102127,\n",
              " -0.015705466270446777,\n",
              " -0.02606169320642948,\n",
              " 0.02722787670791149,\n",
              " -0.003961225040256977,\n",
              " -0.019280074164271355,\n",
              " -0.01442519761621952,\n",
              " 0.002785533433780074,\n",
              " -0.005720009095966816,\n",
              " 0.017873048782348633,\n",
              " -0.026695488020777702,\n",
              " -0.0014838749775663018,\n",
              " 0.005418955814093351,\n",
              " 0.02419833280146122,\n",
              " -0.006442536599934101,\n",
              " -0.0049721295945346355,\n",
              " 0.01851951889693737,\n",
              " 0.027963081374764442,\n",
              " -0.02366594411432743,\n",
              " 0.03432639315724373,\n",
              " 0.0004626711015589535,\n",
              " 0.024363119155168533,\n",
              " 0.015920955687761307,\n",
              " -0.022702572867274284,\n",
              " 0.0063633122481405735,\n",
              " -0.0026857105549424887,\n",
              " 0.033312320709228516,\n",
              " 0.013195632956922054,\n",
              " -0.014133651740849018,\n",
              " -0.015426595695316792,\n",
              " -0.01446322537958622,\n",
              " -0.014843503013253212,\n",
              " 0.0017334321746602654,\n",
              " -0.01717587187886238,\n",
              " 0.00700978422537446,\n",
              " -0.022842008620500565,\n",
              " 0.0008072977070696652,\n",
              " 0.01879839040338993,\n",
              " -0.003222852712497115,\n",
              " 0.007941463962197304,\n",
              " 0.027151821181178093,\n",
              " -0.010723828338086605,\n",
              " -0.047636110335588455,\n",
              " 0.00500065041705966,\n",
              " -0.005390434991568327,\n",
              " 0.020027954131364822,\n",
              " -0.002145399572327733,\n",
              " -0.02279130555689335,\n",
              " -0.0037964382208883762,\n",
              " 0.01922937110066414,\n",
              " 0.020661750808358192,\n",
              " 0.0023878265637904406,\n",
              " 0.0006013139500282705,\n",
              " -0.0053143794648349285,\n",
              " -0.010977347381412983,\n",
              " -0.009285111911594868,\n",
              " -0.0080935750156641,\n",
              " -0.006591478828340769,\n",
              " 0.010869601741433144,\n",
              " 0.03450385481119156,\n",
              " -0.0007613474735990167,\n",
              " -0.002520923735573888,\n",
              " 0.007383723743259907,\n",
              " -0.013144929893314838,\n",
              " 0.013043521903455257,\n",
              " -0.01246676780283451,\n",
              " 0.020205417647957802,\n",
              " -0.04398544505238533,\n",
              " -0.05455716326832771,\n",
              " 0.009056945331394672,\n",
              " 0.013449152000248432,\n",
              " 3.419651477543084e-07,\n",
              " 0.0017144182929769158,\n",
              " -0.009975949302315712,\n",
              " 0.002478142501786351,\n",
              " 0.032501060515642166,\n",
              " 0.008328080177307129,\n",
              " 0.024426499381661415,\n",
              " -0.003276725532487035,\n",
              " 0.008663991466164589,\n",
              " 0.0007134166662581265,\n",
              " 0.03293204307556152,\n",
              " 0.020344851538538933,\n",
              " 0.00580240273848176,\n",
              " 0.017061788588762283,\n",
              " 0.01632658578455448,\n",
              " 0.013728021644055843,\n",
              " -0.0001534974726382643,\n",
              " -0.013005494140088558,\n",
              " 0.015084345825016499,\n",
              " 0.006781617645174265,\n",
              " -0.0016304402379319072,\n",
              " 0.006673872005194426,\n",
              " 0.00876539945602417,\n",
              " 0.02473072148859501,\n",
              " 0.010780869983136654,\n",
              " -0.015882927924394608,\n",
              " -0.013550559058785439,\n",
              " 0.013943512924015522,\n",
              " 0.007846394553780556,\n",
              " 0.029712358489632607,\n",
              " -0.028140543028712273,\n",
              " 0.019394157454371452,\n",
              " -0.004870722535997629,\n",
              " 0.019001204520463943,\n",
              " 0.031512338668107986,\n",
              " 0.008372445590794086,\n",
              " -0.015756169334053993,\n",
              " -0.001806318643502891,\n",
              " -0.029585598036646843,\n",
              " 0.0047693150117993355,\n",
              " 0.01763220503926277,\n",
              " 0.029585598036646843,\n",
              " -0.009779472835361958,\n",
              " 0.013170281425118446,\n",
              " 0.023222286254167557,\n",
              " -0.029179969802498817,\n",
              " 0.002589056733995676,\n",
              " -0.01760685443878174,\n",
              " 0.027177173644304276,\n",
              " 0.014995614066720009,\n",
              " -0.003091340186074376,\n",
              " -4.4093387259636074e-05,\n",
              " -0.6652323007583618,\n",
              " -0.02504761889576912,\n",
              " -0.0010251650819554925,\n",
              " 0.01051467563956976,\n",
              " 0.0028726805467158556,\n",
              " -0.001013281405903399,\n",
              " -0.0016890664119273424,\n",
              " 0.00024658627808094025,\n",
              " -0.008689343929290771,\n",
              " 0.01393083669245243,\n",
              " -0.005026002414524555,\n",
              " -0.00034621107624843717,\n",
              " 0.0064361984841525555,\n",
              " -0.026695488020777702,\n",
              " -0.020192740485072136,\n",
              " -0.013119577430188656,\n",
              " -0.008759060874581337,\n",
              " -0.029687006026506424,\n",
              " 0.04106998071074486,\n",
              " -0.008156955242156982,\n",
              " 0.004034111741930246,\n",
              " 0.006711899768561125,\n",
              " -0.011351286433637142,\n",
              " 0.011287907138466835,\n",
              " -0.011313258670270443,\n",
              " -0.011997758410871029,\n",
              " 0.003612637287005782,\n",
              " -0.005941837560385466,\n",
              " 0.0016954044112935662,\n",
              " 0.03219683840870857,\n",
              " -0.027202526107430458,\n",
              " -0.0259602852165699,\n",
              " 0.005935499910265207,\n",
              " 0.020522315055131912,\n",
              " 0.031334877014160156,\n",
              " 0.005805571563541889,\n",
              " -0.023006794974207878,\n",
              " 0.023044822737574577,\n",
              " 0.030979949980974197,\n",
              " 0.005311210639774799,\n",
              " -0.025618035346269608,\n",
              " 0.006150990258902311,\n",
              " -0.00948792602866888,\n",
              " 0.009411870501935482,\n",
              " -0.003195916535332799,\n",
              " 0.0011241957545280457,\n",
              " 0.010812560096383095,\n",
              " -0.033489782363176346,\n",
              " -0.018456140533089638,\n",
              " 0.0037298896349966526,\n",
              " 0.0028156389016658068,\n",
              " -0.011256217025220394,\n",
              " -0.005079875234514475,\n",
              " -0.0009982287883758545,\n",
              " -0.0016938198823481798,\n",
              " 0.0049245948903262615,\n",
              " 0.005520363338291645,\n",
              " 0.001209758105687797,\n",
              " 0.019280074164271355,\n",
              " -0.006952742580324411,\n",
              " -0.006730913650244474,\n",
              " 0.006220708135515451,\n",
              " -0.01532518770545721,\n",
              " -0.006775279529392719,\n",
              " 0.0074851312674582005,\n",
              " 0.003669678932055831,\n",
              " -0.012232263572514057,\n",
              " 0.012327332980930805,\n",
              " 0.03513765335083008,\n",
              " -0.02130822278559208,\n",
              " -0.0030992624815553427,\n",
              " 0.039802391082048416,\n",
              " 0.009817500598728657,\n",
              " -0.003097678069025278,\n",
              " 0.024527905508875847,\n",
              " 0.006455212365835905,\n",
              " 0.015920955687761307,\n",
              " -0.020687101408839226,\n",
              " 0.006952742580324411,\n",
              " 0.0211687870323658,\n",
              " -0.008841454982757568,\n",
              " -0.022727925330400467,\n",
              " -0.019837815314531326,\n",
              " 0.016491372138261795,\n",
              " -0.03769818693399429,\n",
              " -0.0022895880974829197,\n",
              " -0.013335068710148335,\n",
              " 0.01862092688679695,\n",
              " 0.004157701972872019,\n",
              " -0.009582995437085629,\n",
              " 0.02073780633509159,\n",
              " -0.0005914109060540795,\n",
              " 0.01400689221918583,\n",
              " -0.010210453532636166,\n",
              " 0.004886567126959562,\n",
              " 0.003647496225312352,\n",
              " -0.005514025222510099,\n",
              " 0.02059837058186531,\n",
              " 0.03369259834289551,\n",
              " 0.019673028960824013,\n",
              " -0.014792799018323421,\n",
              " -2.514140032872092e-05,\n",
              " 0.006192187312990427,\n",
              " -0.0019299088744446635,\n",
              " 0.018189946189522743,\n",
              " 0.02395748905837536,\n",
              " -0.0251490268856287,\n",
              " 0.01491955853998661,\n",
              " 0.020623723044991493,\n",
              " 0.002595394616946578,\n",
              " 0.015097021125257015,\n",
              " -0.008410473354160786,\n",
              " -0.025440571829676628,\n",
              " 0.0010616083163768053,\n",
              " -0.0011780683416873217,\n",
              " -0.03174050524830818,\n",
              " 0.01569278910756111,\n",
              " 0.0016954044112935662,\n",
              " 0.009887217544019222,\n",
              " 0.00034621107624843717,\n",
              " 0.03201937675476074,\n",
              " -0.007447103504091501,\n",
              " 0.015147725120186806,\n",
              " -0.012130855582654476,\n",
              " -0.01671953871846199,\n",
              " 0.02623915486037731,\n",
              " -0.013677318580448627,\n",
              " -0.01569278910756111,\n",
              " 0.002083604456856847,\n",
              " -0.015147725120186806,\n",
              " 0.0075802006758749485,\n",
              " -0.005662967450916767,\n",
              " 0.018253326416015625,\n",
              " -0.010552703402936459,\n",
              " 0.024071572348475456,\n",
              " 0.004423896316438913,\n",
              " 0.012257615104317665,\n",
              " -0.003599961521103978,\n",
              " -0.0019600142259150743,\n",
              " -0.018506843596696854,\n",
              " -0.00230543315410614,\n",
              " 0.01051467563956976,\n",
              " 0.001128156902268529,\n",
              " 0.0202814731746912,\n",
              " -0.02461663819849491,\n",
              " -0.015794197097420692,\n",
              " -0.02158709242939949,\n",
              " 0.0004682168073486537,\n",
              " -0.039067186415195465,\n",
              " 0.005048185121268034,\n",
              " -0.008023858070373535,\n",
              " 0.004015097860246897,\n",
              " 0.004886567126959562,\n",
              " 0.017518121749162674,\n",
              " 0.027532098814845085,\n",
              " 0.010609745047986507,\n",
              " 0.000514959276188165,\n",
              " -0.009747782722115517,\n",
              " -0.01703643798828125,\n",
              " -0.034301042556762695,\n",
              " 0.022449055686593056,\n",
              " 0.006699224002659321,\n",
              " -0.025947609916329384,\n",
              " -0.0038851695135235786,\n",
              " -0.0068957009352743626,\n",
              " -0.010787208564579487,\n",
              " -0.010856925509870052,\n",
              " 0.03227289393544197,\n",
              " 0.01986316777765751,\n",
              " -0.014729419723153114,\n",
              " 0.018367409706115723,\n",
              " 0.010444958694279194,\n",
              " 0.004385868553072214,\n",
              " -0.012587188743054867,\n",
              " -0.0026793726719915867,\n",
              " -0.007865408435463905,\n",
              " -0.01612377166748047,\n",
              " -0.017556149512529373,\n",
              " -0.004205236677080393,\n",
              " 0.0017445235280320048,\n",
              " -0.0012192650465294719,\n",
              " 0.026010988280177116,\n",
              " -0.027202526107430458,\n",
              " -0.027456043288111687,\n",
              " 0.021358925849199295,\n",
              " 0.0014648610958829522,\n",
              " 0.010913967154920101,\n",
              " 0.009437222965061665,\n",
              " 0.00629676366224885,\n",
              " 0.01495758630335331,\n",
              " -0.020027954131364822,\n",
              " 0.017480093985795975,\n",
              " -0.014653364196419716,\n",
              " 0.0064583816565573215,\n",
              " -0.010425944812595844,\n",
              " 4.639584949472919e-05,\n",
              " 0.006106624845415354,\n",
              " -0.012840707786381245,\n",
              " 0.0050513544119894505,\n",
              " 0.0012778912205249071,\n",
              " 0.025389868766069412,\n",
              " -0.005298534873872995,\n",
              " 0.0032894012983888388,\n",
              " 0.006398170720785856,\n",
              " -0.012232263572514057,\n",
              " -0.009582995437085629,\n",
              " 0.016554752364754677,\n",
              " 0.0004915880272164941,\n",
              " 0.007852733135223389,\n",
              " 0.026365915313363075,\n",
              " 0.03719114884734154,\n",
              " -0.02222088910639286,\n",
              " -0.017150521278381348,\n",
              " 0.009056945331394672,\n",
              " -0.00020202247833367437,\n",
              " 0.031030653044581413,\n",
              " 0.003425667528063059,\n",
              " 0.014843503013253212,\n",
              " -0.0014458472141996026,\n",
              " 0.002440114738419652,\n",
              " 0.003432005411013961,\n",
              " -0.010387917049229145,\n",
              " -0.009563981555402279,\n",
              " -0.03201937675476074,\n",
              " -0.015185752883553505,\n",
              " 0.022334972396492958,\n",
              " -0.01306887436658144,\n",
              " 0.03949816897511482,\n",
              " 0.017023760825395584,\n",
              " -0.010540028102695942,\n",
              " -0.0129611287266016,\n",
              " 0.010299185290932655,\n",
              " -0.007840056903660297,\n",
              " 0.010400592349469662,\n",
              " -0.00721259880810976,\n",
              " 0.004772483836859465,\n",
              " -0.007827380672097206,\n",
              " -0.01735333539545536,\n",
              " 0.023932138457894325,\n",
              " -0.0021438151597976685,\n",
              " 0.01802515983581543,\n",
              " 0.011471708305180073,\n",
              " 0.023222286254167557,\n",
              " -0.012086490169167519,\n",
              " 0.009297787211835384,\n",
              " 0.006876687053591013,\n",
              " 0.02885039523243904,\n",
              " 0.012675920501351357,\n",
              " -0.012282966636121273,\n",
              " 0.013335068710148335,\n",
              " -0.006978094112128019,\n",
              " -0.028089839965105057,\n",
              " -0.006870348937809467,\n",
              " -0.006252397783100605,\n",
              " 0.012992818839848042,\n",
              " 0.006426691543310881,\n",
              " -0.0024892338551580906,\n",
              " 0.006521760951727629,\n",
              " 0.008283713832497597,\n",
              " 0.025174377486109734,\n",
              " 0.00604007625952363,\n",
              " 0.00872737169265747,\n",
              " 0.006353805307298899,\n",
              " 0.0026952174957841635,\n",
              " 0.007516820915043354,\n",
              " -0.008917510509490967,\n",
              " 0.027785617858171463,\n",
              " 0.01792375184595585,\n",
              " 0.015122373588383198,\n",
              " -0.029129264876246452,\n",
              " -0.01950824074447155,\n",
              " 0.010502000339329243,\n",
              " 0.019660351797938347,\n",
              " -0.019622324034571648,\n",
              " 0.0007847187225706875,\n",
              " -0.009538630023598671,\n",
              " 0.002904370194301009,\n",
              " 0.013816753402352333,\n",
              " -5.580376091529615e-05,\n",
              " 0.02419833280146122,\n",
              " -0.019901195541024208,\n",
              " -0.011522411368787289,\n",
              " -0.001460899831727147,\n",
              " 0.011915365234017372,\n",
              " 0.008106251247227192,\n",
              " -0.03541652113199234,\n",
              " -0.010064681060612202,\n",
              " -0.0006682586972601712,\n",
              " -0.03255176544189453,\n",
              " 0.023513833060860634,\n",
              " 0.0014680300373584032,\n",
              " 0.011306921020150185,\n",
              " -0.0024955717381089926,\n",
              " -0.011123119853436947,\n",
              " -0.0036189754027873278,\n",
              " -0.01646602153778076,\n",
              " 0.011712550185620785,\n",
              " -0.006781617645174265,\n",
              " 0.01012172270566225,\n",
              " -0.027430692687630653,\n",
              " 0.02621380425989628,\n",
              " -0.0038439729250967503,\n",
              " 0.03277993202209473,\n",
              " -0.017061788588762283,\n",
              " 0.001639947178773582,\n",
              " -0.00770695973187685,\n",
              " -0.0018855432281270623,\n",
              " -0.004186222795397043,\n",
              " 0.016605455428361893,\n",
              " -0.007916112430393696,\n",
              " 0.002802962902933359,\n",
              " -0.005155930761247873,\n",
              " -0.022144833579659462,\n",
              " -0.014716743491590023,\n",
              " -0.008619626052677631,\n",
              " 0.005957682617008686,\n",
              " -0.030143339186906815,\n",
              " -0.0011923287529498339,\n",
              " 0.026188451796770096,\n",
              " -0.0004412804846651852,\n",
              " -0.00012834370136260986,\n",
              " -0.008961875922977924,\n",
              " -0.006496409419924021,\n",
              " -0.002043992280960083,\n",
              " 0.12635357677936554,\n",
              " 0.03346443176269531,\n",
              " -0.01650404930114746,\n",
              " 0.001779382349923253,\n",
              " -0.03027009777724743,\n",
              " 0.0055013494566082954,\n",
              " -0.024996915832161903,\n",
              " -0.0259602852165699,\n",
              " 0.0044143893755972385,\n",
              " -0.001963183283805847,\n",
              " -0.0202814731746912,\n",
              " 0.004208405502140522,\n",
              " 0.006074934732168913,\n",
              " -0.0010291263461112976,\n",
              " 0.017758965492248535,\n",
              " -0.005957682617008686,\n",
              " 0.02310820296406746,\n",
              " -0.0007680815760977566,\n",
              " -0.012498457916080952,\n",
              " 0.0041323499754071236,\n",
              " 0.025630710646510124,\n",
              " -0.001175691606476903,\n",
              " 0.004899243358522654,\n",
              " 0.029053209349513054,\n",
              " -0.017822343856096268,\n",
              " 0.010793546214699745,\n",
              " 0.034301042556762695,\n",
              " 0.012409726157784462,\n",
              " 0.013411124236881733,\n",
              " -0.036633409559726715,\n",
              " 0.003812283044680953,\n",
              " 0.028368709608912468,\n",
              " 0.0044270651414990425,\n",
              " 0.0002307413669768721,\n",
              " -0.014108299277722836,\n",
              " 0.02338707260787487,\n",
              " 0.014754771254956722,\n",
              " 0.006699224002659321,\n",
              " 0.005095719825476408,\n",
              " 0.005526701454073191,\n",
              " 0.0032608804758638144,\n",
              " 0.009177366271615028,\n",
              " 0.006401340011507273,\n",
              " -0.019178668037056923,\n",
              " 0.01745474338531494,\n",
              " -0.0011337026953697205,\n",
              " -0.007168232928961515,\n",
              " 0.004506289958953857,\n",
              " -0.026010988280177116,\n",
              " -0.021815259009599686,\n",
              " 0.041779834777116776,\n",
              " 0.005434800870716572,\n",
              " -0.022373000159859657,\n",
              " -0.007161895278841257,\n",
              " -0.0031911630649119616,\n",
              " 0.015971660614013672,\n",
              " -0.008942862041294575,\n",
              " -0.0041323499754071236,\n",
              " 0.0025779653806239367,\n",
              " -0.011351286433637142,\n",
              " -0.03417428210377693,\n",
              " -0.016985733062028885,\n",
              " -0.0012850214261561632,\n",
              " -0.013461827300488949,\n",
              " -0.021118083968758583,\n",
              " -0.013487179763615131,\n",
              " -0.02902785874903202,\n",
              " 0.00019528840493876487,\n",
              " -0.02134625054895878,\n",
              " 0.01919134333729744,\n",
              " 0.0012279797811061144,\n",
              " -0.009988625533878803,\n",
              " -0.04165307432413101,\n",
              " 0.004468262195587158,\n",
              " 0.001963183283805847,\n",
              " 0.029053209349513054,\n",
              " 0.0015171492705121636,\n",
              " -0.009754120372235775,\n",
              " -0.009348491206765175,\n",
              " 0.00033690218697302043,\n",
              " -0.014184354804456234,\n",
              " -0.037089742720127106,\n",
              " -0.003432005411013961,\n",
              " -0.020167389884591103,\n",
              " -0.026619432494044304,\n",
              " 0.005840430501848459,\n",
              " -0.011858323588967323,\n",
              " 0.012530147098004818,\n",
              " -0.03065037541091442,\n",
              " 0.011452694423496723,\n",
              " -0.008968213573098183,\n",
              " 0.003935873508453369,\n",
              " 0.03029545024037361,\n",
              " -0.002676203614100814,\n",
              " -0.033667244017124176,\n",
              " 0.01756882667541504,\n",
              " -0.005422125104814768,\n",
              " -0.008955538272857666,\n",
              " -0.017150521278381348,\n",
              " 0.009589334018528461,\n",
              " -0.011547763831913471,\n",
              " -0.03632918745279312,\n",
              " -0.028799692168831825,\n",
              " 0.00011249879753449932,\n",
              " 0.010387917049229145,\n",
              " -0.011287907138466835,\n",
              " 0.004011929035186768,\n",
              " 0.0036284823436290026,\n",
              " 0.010216792114078999,\n",
              " 0.0020424076355993748,\n",
              " 0.02271525003015995,\n",
              " -0.03214613348245621,\n",
              " -0.004274954088032246,\n",
              " 0.006090779788792133,\n",
              " 0.0015876590041443706,\n",
              " 0.023019472137093544,\n",
              " 0.01749277114868164,\n",
              " 0.033844709396362305,\n",
              " -0.0010703230509534478,\n",
              " 0.01490688230842352,\n",
              " 0.006876687053591013,\n",
              " -0.020167389884591103,\n",
              " 0.018582899123430252,\n",
              " 0.004148195032030344,\n",
              " 0.005533039104193449,\n",
              " 0.013436475768685341,\n",
              " -0.009304125793278217,\n",
              " -0.0125935273244977,\n",
              " -0.022144833579659462,\n",
              " 0.01590828038752079,\n",
              " 0.008816102519631386,\n",
              " 0.009107649326324463,\n",
              " 0.013994215987622738,\n",
              " -0.03896578028798103,\n",
              " -0.04434036836028099,\n",
              " -0.0018380085239186883,\n",
              " 0.005507687572389841,\n",
              " 0.01986316777765751,\n",
              " -0.00554571533575654,\n",
              " -0.018215298652648926,\n",
              " -0.023095527663826942,\n",
              " -0.02938278391957283,\n",
              " -0.007079501636326313,\n",
              " -0.013056198135018349,\n",
              " 0.011547763831913471,\n",
              " -0.012314656749367714,\n",
              " -0.004360516555607319,\n",
              " -0.014792799018323421,\n",
              " 0.0018015651730820537,\n",
              " -0.0007058902992866933,\n",
              " 0.0008053170749917626,\n",
              " -0.0073456959798932076,\n",
              " -0.019812462851405144,\n",
              " 0.005552052985876799,\n",
              " -0.007421751506626606,\n",
              " -0.030219394713640213,\n",
              " -0.014323790557682514,\n",
              " -0.020116684958338737,\n",
              " 0.006832321174442768,\n",
              " 0.00811258889734745,\n",
              " 0.02892645075917244,\n",
              " -0.00820132065564394,\n",
              " 0.0028726805467158556,\n",
              " 2.7357211365597323e-05,\n",
              " -0.01338577177375555,\n",
              " 0.0009839683771133423,\n",
              " 0.0068259830586612225,\n",
              " -0.010977347381412983,\n",
              " -0.027532098814845085,\n",
              " -0.003932704217731953,\n",
              " 0.01351253129541874,\n",
              " -0.013233660720288754,\n",
              " 0.004886567126959562,\n",
              " 0.01739136315882206,\n",
              " -0.011788605712354183,\n",
              " 0.004370023496448994,\n",
              " -0.0005878458032384515,\n",
              " 0.00454114843159914,\n",
              " -0.03891507536172867,\n",
              " -0.028875747695565224,\n",
              " -0.04013196378946304,\n",
              " 0.0046615698374807835,\n",
              " -0.024211008101701736,\n",
              " 0.021637795493006706,\n",
              " -0.011332272551953793,\n",
              " -0.014247735030949116,\n",
              " 0.02162512019276619,\n",
              " -0.0009435638203285635,\n",
              " 0.01102171279489994,\n",
              " -0.010609745047986507,\n",
              " -0.00019617968064267188,\n",
              " -0.0002755032037384808,\n",
              " 0.009475250728428364,\n",
              " -0.005121071822941303,\n",
              " 0.0017920582322403789,\n",
              " -0.022005397826433182,\n",
              " 0.00872737169265747,\n",
              " -0.003365456825122237,\n",
              " 0.010920305736362934,\n",
              " 0.02314623072743416,\n",
              " 0.021156111732125282,\n",
              " 0.008283713832497597,\n",
              " 0.011002698913216591,\n",
              " 0.007396399509161711,\n",
              " -0.0009451483492739499,\n",
              " 0.023932138457894325,\n",
              " -0.013195632956922054,\n",
              " -0.004585514310747385,\n",
              " 0.011560439132153988,\n",
              " -0.03975168615579605,\n",
              " -0.003419329645112157,\n",
              " -0.019039232283830643,\n",
              " -0.01901387982070446,\n",
              " -0.04903046041727066,\n",
              " 0.00880342721939087,\n",
              " 0.005270014051347971,\n",
              " -0.01338577177375555,\n",
              " -0.003999252803623676,\n",
              " -0.0075802006758749485,\n",
              " -0.02314623072743416,\n",
              " 0.008061885833740234,\n",
              " -0.006150990258902311,\n",
              " 0.017619529739022255,\n",
              " -0.01009003259241581,\n",
              " 0.013170281425118446,\n",
              " -0.0055615599267184734,\n",
              " -0.012004096992313862,\n",
              " 0.0003426459734328091,\n",
              " 0.021422306075692177,\n",
              " -0.012168883346021175,\n",
              " -0.013436475768685341,\n",
              " 0.00811258889734745,\n",
              " -0.020053306594491005,\n",
              " 0.0016684680012986064,\n",
              " -0.045455850660800934,\n",
              " -0.02380537800490856,\n",
              " 0.02328566648066044,\n",
              " 0.0064710574224591255,\n",
              " -0.0002687691303435713,\n",
              " 0.017442066222429276,\n",
              " -0.013436475768685341,\n",
              " -0.022626517340540886,\n",
              " -0.012517471797764301,\n",
              " -0.013816753402352333,\n",
              " -0.028318006545305252,\n",
              " 0.02140962891280651,\n",
              " 0.0008564168820157647,\n",
              " 0.010216792114078999,\n",
              " -0.024172980338335037,\n",
              " -0.0323743000626564,\n",
              " -0.013905485160648823,\n",
              " 0.0015298251528292894,\n",
              " -0.0390925370156765,\n",
              " -0.008023858070373535,\n",
              " 0.01576884463429451,\n",
              " -0.018899796530604362,\n",
              " -0.0035936234053224325,\n",
              " 0.010964671149849892,\n",
              " -0.02222088910639286,\n",
              " -0.022246239706873894,\n",
              " -0.021777231246232986,\n",
              " 0.004268616437911987,\n",
              " 0.003145212773233652,\n",
              " -0.006857673171907663,\n",
              " 0.010406930930912495,\n",
              " 0.00655345106497407,\n",
              " -0.02285468392074108,\n",
              " 0.007459779269993305,\n",
              " 0.006857673171907663,\n",
              " 0.019204018637537956,\n",
              " -0.01650404930114746,\n",
              " -0.013259013183414936,\n",
              " 0.026087043806910515,\n",
              " 0.016554752364754677,\n",
              " 0.006217538844794035,\n",
              " -0.0045221345499157906,\n",
              " 0.0012921516317874193,\n",
              " -0.023856082931160927,\n",
              " 0.00263659143820405,\n",
              " 0.0028378216084092855,\n",
              " -0.0024258543271571398,\n",
              " 0.00917102862149477,\n",
              " -0.02659408189356327,\n",
              " -0.021840611472725868,\n",
              " -0.008752723224461079,\n",
              " -0.006604154594242573,\n",
              " -0.009310463443398476,\n",
              " 0.0020154714584350586,\n",
              " 0.015274484641849995,\n",
              " 0.009145677089691162,\n",
              " -0.022867361083626747,\n",
              " 0.005875288974493742,\n",
              " -0.008600612170994282,\n",
              " 0.003330598119646311,\n",
              " -0.004297137260437012,\n",
              " -0.01604771614074707,\n",
              " -0.016922354698181152,\n",
              " 0.006927390582859516,\n",
              " -0.04205870255827904,\n",
              " -0.013119577430188656,\n",
              " 7.313412061193958e-05,\n",
              " 0.005374590400606394,\n",
              " -0.018215298652648926,\n",
              " -0.0026619432028383017,\n",
              " 0.02222088910639286,\n",
              " -0.03607567027211189,\n",
              " 0.024464527145028114,\n",
              " -0.021637795493006706,\n",
              " -0.027101118117570877,\n",
              " 0.004351009614765644,\n",
              " 0.004959453828632832,\n",
              " -0.009424546733498573,\n",
              " 0.014120975509285927,\n",
              " -0.0034827091731131077,\n",
              " 0.026112396270036697,\n",
              " 0.017302632331848145,\n",
              " -0.007897098548710346,\n",
              " -0.023830730468034744,\n",
              " -0.003270387416705489,\n",
              " 0.021181462332606316,\n",
              " 0.0034288365859538317,\n",
              " -0.013816753402352333,\n",
              " 0.013487179763615131,\n",
              " 0.0002717400493565947,\n",
              " 0.022664545103907585,\n",
              " 0.003321091178804636,\n",
              " -0.01562941074371338,\n",
              " 0.03318556025624275,\n",
              " -0.029154617339372635,\n",
              " -0.0017239252338185906,\n",
              " 0.005231986287981272,\n",
              " 0.009760458953678608,\n",
              " -0.019178668037056923,\n",
              " -0.027354637160897255,\n",
              " 0.003951718099415302,\n",
              " -0.005612263921648264,\n",
              " -0.007960477843880653,\n",
              " 0.017277279868721962,\n",
              " 0.003127783304080367,\n",
              " -0.01433646585792303,\n",
              " 0.02631521038711071,\n",
              " 0.016060391440987587,\n",
              " 0.025275785475969315,\n",
              " 0.0007221313426271081,\n",
              " -0.02218286134302616,\n",
              " -0.008974552154541016,\n",
              " -0.0055615599267184734,\n",
              " -0.02384340576827526,\n",
              " -0.019127963110804558,\n",
              " -0.023006794974207878,\n",
              " -0.03207007795572281,\n",
              " 0.0033496120013296604,\n",
              " 0.006486902479082346,\n",
              " 0.00580240273848176,\n",
              " -0.003853479865938425,\n",
              " -0.0018364239949733019,\n",
              " -0.030320802703499794,\n",
              " 0.012276628986001015,\n",
              " -0.013766049407422543,\n",
              " 0.026087043806910515,\n",
              " 0.007909774780273438,\n",
              " -0.002405255800113082,\n",
              " 0.0101407365873456,\n",
              " 0.01841811276972294,\n",
              " -0.007098515518009663,\n",
              " 0.021105406805872917,\n",
              " -0.016136446967720985,\n",
              " 0.013613938353955746,\n",
              " 0.008619626052677631,\n",
              " -0.03044756129384041,\n",
              " 0.001782551291398704,\n",
              " 0.016554752364754677,\n",
              " -0.0029867638368159533,\n",
              " 0.01753079891204834,\n",
              " 0.019533593207597733,\n",
              " -0.0007276770775206387,\n",
              " 0.0053143794648349285,\n",
              " 0.0300926361232996,\n",
              " -0.01490688230842352,\n",
              " 0.0056312778033316135,\n",
              " -0.018925148993730545,\n",
              " -2.3173166482592933e-05,\n",
              " 0.021637795493006706,\n",
              " 0.0034541883505880833,\n",
              " 0.012206911109387875,\n",
              " -0.011674522422254086,\n",
              " -0.015426595695316792,\n",
              " 0.0012549160746857524,\n",
              " 0.01246676780283451,\n",
              " -0.0030786641873419285,\n",
              " 0.014716743491590023,\n",
              " 0.01208015251904726,\n",
              " -0.012618878856301308,\n",
              " 0.0043319957330822945,\n",
              " -0.005948175676167011,\n",
              " -0.015135048888623714,\n",
              " 0.010799883864820004,\n",
              " -0.031208116561174393,\n",
              " 0.011173823848366737,\n",
              " 0.004202067852020264,\n",
              " -0.013613938353955746,\n",
              " 0.016035038977861404,\n",
              " -0.03764748200774193,\n",
              " -0.00277285766787827,\n",
              " -0.006616830360144377,\n",
              " 0.002074097516015172,\n",
              " -0.016351938247680664,\n",
              " -0.023272989317774773,\n",
              " 0.012498457916080952,\n",
              " -0.01261254120618105,\n",
              " 0.004468262195587158,\n",
              " 0.015071669593453407,\n",
              " -0.01580687239766121,\n",
              " -0.008537232875823975,\n",
              " -0.01247310545295477,\n",
              " -0.014171679504215717,\n",
              " -0.006223876960575581,\n",
              " -0.01441252138465643,\n",
              " -0.0017714599380269647,\n",
              " 0.0032862324733287096,\n",
              " -0.012587188743054867,\n",
              " 0.021777231246232986,\n",
              " 0.014450549148023129,\n",
              " -0.011788605712354183,\n",
              " -0.0032418665941804647,\n",
              " 0.0016954044112935662,\n",
              " 0.0019394158152863383,\n",
              " -0.025706766173243523,\n",
              " -0.014944910071790218,\n",
              " -0.008898496627807617,\n",
              " -0.015375891700387001,\n",
              " -0.010559041984379292,\n",
              " -0.005425293929874897,\n",
              " -0.009988625533878803,\n",
              " -0.004620373249053955,\n",
              " 0.037799593061208725,\n",
              " 0.22106805443763733,\n",
              " -0.022309619933366776,\n",
              " 0.005859444383531809,\n",
              " 0.02000260166823864,\n",
              " -0.009145677089691162,\n",
              " 0.018950501456856728,\n",
              " 0.022373000159859657,\n",
              " 0.01067312527447939,\n",
              " 0.014792799018323421,\n",
              " -0.000671031535603106,\n",
              " -0.011655508540570736,\n",
              " -0.009754120372235775,\n",
              " -0.0341489315032959,\n",
              " -0.001985365990549326,\n",
              " -0.0016763905296102166,\n",
              " -0.018113890662789345,\n",
              " -0.04522768408060074,\n",
              " -0.018088538199663162,\n",
              " -0.010026653297245502,\n",
              " -0.02447720244526863,\n",
              " 0.0003040240262635052,\n",
              " -0.0373179093003273,\n",
              " 0.015667438507080078,\n",
              " -0.015097021125257015,\n",
              " 0.010882277972996235,\n",
              " 0.0047566392458975315,\n",
              " 0.00023589095508214086,\n",
              " 0.01707446575164795,\n",
              " 0.03513765335083008,\n",
              " 0.010166088119149208,\n",
              " -0.017835021018981934,\n",
              " 0.005945006851106882,\n",
              " -0.009266098029911518,\n",
              " 0.0020313162822276354,\n",
              " 0.0033971467055380344,\n",
              " 0.00015528002404607832,\n",
              " -0.0020012110471725464,\n",
              " 0.011199175380170345,\n",
              " -0.010013977065682411,\n",
              " 0.014894207008183002,\n",
              " 0.014349142089486122,\n",
              " -0.0027205694932490587,\n",
              " 0.005384097341448069,\n",
              " -0.010343550704419613,\n",
              " 0.009956935420632362,\n",
              " 0.019520917907357216,\n",
              " ...]"
            ]
          },
          "execution_count": 52,
          "metadata": {},
          "output_type": "execute_result"
        }
      ],
      "source": [
        "e"
      ]
    },
    {
      "cell_type": "code",
      "execution_count": 53,
      "id": "4XDc41gHNpyi",
      "metadata": {
        "id": "4XDc41gHNpyi"
      },
      "outputs": [],
      "source": [
        "f = get_embedding(\"The Prime Minister is speaking to the press\")"
      ]
    },
    {
      "cell_type": "code",
      "execution_count": 54,
      "id": "3yq3kTfNUD10",
      "metadata": {
        "colab": {
          "base_uri": "https://localhost:8080/"
        },
        "id": "3yq3kTfNUD10",
        "outputId": "2996f3a7-9852-4900-e1e9-4c9e78302767"
      },
      "outputs": [
        {
          "data": {
            "text/plain": [
              "(1536, 1536)"
            ]
          },
          "execution_count": 54,
          "metadata": {},
          "output_type": "execute_result"
        }
      ],
      "source": [
        "len(f), len(e)"
      ]
    },
    {
      "cell_type": "markdown",
      "id": "TpGeo8e9NyPT",
      "metadata": {
        "id": "TpGeo8e9NyPT"
      },
      "source": [
        "Let's calculate the cosine similarity. The `scipy.spatial.distance.cosine` function is handy here."
      ]
    },
    {
      "cell_type": "code",
      "execution_count": 29,
      "id": "zAwsfqyBNx1o",
      "metadata": {
        "colab": {
          "base_uri": "https://localhost:8080/"
        },
        "id": "zAwsfqyBNx1o",
        "outputId": "821f0e45-2a59-4c97-a54a-1b134ff397d4"
      },
      "outputs": [],
      "source": [
        "from scipy import spatial  # for calculating cosine similarities for search\n",
        "\n",
        "1-spatial.distance.cosine(e, f)"
      ]
    },
    {
      "cell_type": "markdown",
      "id": "Dm1_rELVhRQO",
      "metadata": {
        "id": "Dm1_rELVhRQO"
      },
      "source": [
        "Given a dataframe like `df` with a column of text chunks, we can use the `get_embedding` function to calculate the embeddings for all the text chunks in the column."
      ]
    },
    {
      "cell_type": "code",
      "execution_count": null,
      "id": "kg73ks73hEip",
      "metadata": {
        "id": "kg73ks73hEip"
      },
      "outputs": [],
      "source": [
        "def compute_doc_embeddings(df: pd.DataFrame) -> dict[tuple[str, str], list[float]]:\n",
        "    \"\"\"\n",
        "    Create an embedding for each row in the dataframe using the OpenAI Embeddings API.\n",
        "\n",
        "    Return a dictionary that maps between each embedding vector and the index of the row that it corresponds to.\n",
        "    \"\"\"\n",
        "    return {\n",
        "        idx: get_embedding(r.text) for idx, r in df.iterrows()\n",
        "    }"
      ]
    },
    {
      "cell_type": "markdown",
      "id": "d-oqqBSN8KKX",
      "metadata": {
        "id": "d-oqqBSN8KKX"
      },
      "source": [
        "To calculate the embeddings from scratch, uncomment the below line and run. Warning - it will take some time!"
      ]
    },
    {
      "cell_type": "code",
      "execution_count": null,
      "id": "k-07jQpM8Ios",
      "metadata": {
        "id": "k-07jQpM8Ios"
      },
      "outputs": [],
      "source": [
        "#document_embeddings = compute_doc_embeddings(df)"
      ]
    },
    {
      "cell_type": "markdown",
      "id": "cfe9c723-f838-4c75-8ed8-286b2e491a60",
      "metadata": {
        "id": "cfe9c723-f838-4c75-8ed8-286b2e491a60"
      },
      "source": [
        "But happily for us, OpenAI has calculated the embeddings for us so we don't have to; in fact, these are already avaiable in the embedding column of the dataframe `df` we downloaded."
      ]
    },
    {
      "cell_type": "code",
      "execution_count": 56,
      "id": "ufCTcT-OQOAy",
      "metadata": {
        "colab": {
          "base_uri": "https://localhost:8080/",
          "height": 640
        },
        "id": "ufCTcT-OQOAy",
        "outputId": "f79716f0-8764-420a-b67a-5f2a156008a9"
      },
      "outputs": [
        {
          "data": {
            "text/html": [
              "<div>\n",
              "<style scoped>\n",
              "    .dataframe tbody tr th:only-of-type {\n",
              "        vertical-align: middle;\n",
              "    }\n",
              "\n",
              "    .dataframe tbody tr th {\n",
              "        vertical-align: top;\n",
              "    }\n",
              "\n",
              "    .dataframe thead th {\n",
              "        text-align: right;\n",
              "    }\n",
              "</style>\n",
              "<table border=\"1\" class=\"dataframe\">\n",
              "  <thead>\n",
              "    <tr style=\"text-align: right;\">\n",
              "      <th></th>\n",
              "      <th>text</th>\n",
              "      <th>embedding</th>\n",
              "    </tr>\n",
              "  </thead>\n",
              "  <tbody>\n",
              "    <tr>\n",
              "      <th>154</th>\n",
              "      <td>Johan Clarey\\n\\n==World Cup results==\\n\\n===Season standings===\\n\\n{|class=\"wikitable\" style=\"text-align:center; font-size:100%;\"\\n!Season !! Age !! Overall !! &amp;nbsp;Slalom&amp;nbsp; !! Giant&lt;br&gt;&amp;nbsp;Slalom&amp;nbsp; !! Super-G !! Downhill !!Combined\\n|-\\n| [[2003–04 FIS Alpine Ski World Cup|2004]] ||''23''|| 140 || — || — || — || 54 || —\\n|-\\n| [[2004–05 FIS Alpine Ski World Cup|2005]] ||''24''|| colspan=6 rowspan=2 |\\n|-\\n| [[2005–06 FIS Alpine Ski World Cup|2006]] ||''25''\\n|-\\n| [[2006–07 FIS A...</td>\n",
              "      <td>[-0.0020646711345762014, 0.010536017827689648, 0.03841996192932129, -0.005110605154186487, -0.031614750623703, 0.023938797414302826, -0.019317150115966797, -0.0016468807589262724, -0.023831628262996674, -0.05066398158669472, 0.011889021843671799, 0.029417794197797775, -0.02112562023103237, 0.01813829503953457, -0.013208536431193352, 0.001173831638880074, 0.014226638711988926, -0.023376161232590675, -0.0031229613814502954, -0.005381875671446323, 9.487146598985419e-05, 0.015860959887504578, -0...</td>\n",
              "    </tr>\n",
              "    <tr>\n",
              "      <th>1186</th>\n",
              "      <td>Karl Geiger\\n\\n==World Cup==\\n\\n===Individual starts===\\n\\n| –\\n| –\\n|20\\n|q\\n|31\\n|36\\n| –\\n| –\\n| –\\n| –\\n!\\n!\\n!\\n|-\\n|colspan=33|\\n|-align=center\\n| rowspan=2 width=66px|[[2014–15 FIS Ski Jumping World Cup|2014/15]]\\n! [[File:Flag of Germany.svg|15px|link=Germany|Klingenthal]]\\n! [[File:Flag of Finland (bordered).svg|15px|link=Finland|Kuusamo]]\\n! [[File:Flag of Finland (bordered).svg|15px|link=Finland|Kuusamo]]\\n! [[File:Flag of Norway.svg|15px|link=Norway|Lillehammer]]\\n! [[File:Flag o...</td>\n",
              "      <td>[-0.0034302170388400555, 0.021217146888375282, 0.026759039610624313, -0.030226068571209908, -0.022328203544020653, 0.02525978349149227, -0.014805152080953121, -0.010655425488948822, -0.0012608139077201486, -0.05097470059990883, 0.001322725205682218, 0.022930582985281944, -0.013647244311869144, 0.00175192067399621, 0.0021401208359748125, -0.01175309531390667, 0.01780366338789463, -0.003955625928938389, 0.007449427619576454, -0.01801784336566925, -0.0006065627676434815, 0.03552700951695442, 0....</td>\n",
              "    </tr>\n",
              "    <tr>\n",
              "      <th>3470</th>\n",
              "      <td>Fabien Claude\\n\\n==Career==\\n\\nHis first year in biathlon was 2006. He made his international debut in 2011. He won the Junior Men's pursuit and placed 2nd with the French relay team at the [[Biathlon Junior World Championships 2014]]. He was part of the French relay team that achieved 3rd place in the relay in [[2019-20 Biathlon World Cup - Stage 2|Hochfilzen]] during the 2019–20 season. His first individual podium position was 3rd place in the individual discipline in [[2019-20 Biathlon Wo...</td>\n",
              "      <td>[-0.012693449854850769, 0.00015936909767333418, 0.013696258887648582, -0.01316186785697937, -0.011618069373071194, 0.046050041913986206, -0.005317526403814554, 0.0035988965537399054, -0.026152202859520912, -0.023090995848178864, 0.014738652855157852, 0.029107850044965744, -0.0069602858275175095, -0.03760533407330513, 0.020016593858599663, -0.01790541782975197, 0.020755507051944733, -0.023790322244167328, -0.010905547067523003, -0.016058137640357018, -0.022550007328391075, 0.01405252050608396...</td>\n",
              "    </tr>\n",
              "    <tr>\n",
              "      <th>543</th>\n",
              "      <td>Andorra at the 2022 Winter Olympics\\n\\n==Alpine skiing==\\n\\n{{main article|Alpine skiing at the 2022 Winter Olympics|Alpine skiing at the 2022 Winter Olympics – Qualification}}\\nBy meeting the basic qualification standards, Andorra qualified one male and one female alpine skier.\\n\\n{|class=wikitable style=font-size:90%;text-align:center\\n!rowspan=2|Athlete\\n!rowspan=2|Event\\n!colspan=2|Run 1\\n!colspan=2|Run 2\\n!colspan=2|Total\\n|-style=\"font-size: 95%\"\\n!Time\\n!Rank\\n!Time\\n!Rank\\n!Time\\n!Ra...</td>\n",
              "      <td>[-0.009727440774440765, 0.006078820675611496, 0.008545540273189545, -0.0011013919720426202, -0.02865777164697647, 0.05123339965939522, -0.028471853584051132, -0.010823022574186325, -0.007582755759358406, -0.03840513154864311, 0.04310617595911026, 0.013598497025668621, 0.014780398458242416, -0.020517263561487198, -0.029507676139473915, -0.008751376532018185, 0.018299540504813194, 0.005325193051248789, -0.0031655682250857353, -0.0020019272342324257, -0.0007976169581525028, 0.03936127573251724,...</td>\n",
              "    </tr>\n",
              "    <tr>\n",
              "      <th>2145</th>\n",
              "      <td>2021 Olympic Qualification Event – Curling\\n\\n==Mixed doubles==\\n\\n===Playoffs===\\n\\n====Semifinal 2====\\n\\n''Thursday, December 9, 9:00''\\n{{Curlingbox8\\n| sheet = B\\n| team1 = {{flagIOC|ROC|2022 Winter}} {{X}}\\n|2|0|0|2|1|0|5|X| |10\\n| team2 = {{flagIOC|FIN|2022 Winter}}\\n|0|3|1|0|0|1|0|X| |5\\n}}\\n{| class=\"wikitable\"\\n!colspan=4 width=400|Player percentages\\n|-\\n!colspan=2 width=200 style=\"white-space:nowrap;\"| {{flagIOC|ROC|2022 Winter}}\\n!colspan=2 width=200 style=\"white-space:nowrap;\"|...</td>\n",
              "      <td>[-0.01521895918995142, -0.005543465260416269, -0.0024529662914574146, -0.016759946942329407, -0.036956433206796646, 0.039902038872241974, -0.010261887684464455, -0.003920654766261578, -0.031501609832048416, -0.02591041475534439, 0.03774738311767578, 0.014864396303892136, -0.012723377905786037, -0.01138012669980526, -0.013841615989804268, -0.0009562988416291773, 0.006300321780145168, -0.010493718087673187, 0.02015557512640953, -0.008720899932086468, -0.004401361104100943, 0.011271030642092228...</td>\n",
              "    </tr>\n",
              "  </tbody>\n",
              "</table>\n",
              "</div>"
            ],
            "text/plain": [
              "                                                                                                                                                                                                                                                                                                                                                                                                                                                                                                                     text  \\\n",
              "154   Johan Clarey\\n\\n==World Cup results==\\n\\n===Season standings===\\n\\n{|class=\"wikitable\" style=\"text-align:center; font-size:100%;\"\\n!Season !! Age !! Overall !! &nbsp;Slalom&nbsp; !! Giant<br>&nbsp;Slalom&nbsp; !! Super-G !! Downhill !!Combined\\n|-\\n| [[2003–04 FIS Alpine Ski World Cup|2004]] ||''23''|| 140 || — || — || — || 54 || —\\n|-\\n| [[2004–05 FIS Alpine Ski World Cup|2005]] ||''24''|| colspan=6 rowspan=2 |\\n|-\\n| [[2005–06 FIS Alpine Ski World Cup|2006]] ||''25''\\n|-\\n| [[2006–07 FIS A...   \n",
              "1186  Karl Geiger\\n\\n==World Cup==\\n\\n===Individual starts===\\n\\n| –\\n| –\\n|20\\n|q\\n|31\\n|36\\n| –\\n| –\\n| –\\n| –\\n!\\n!\\n!\\n|-\\n|colspan=33|\\n|-align=center\\n| rowspan=2 width=66px|[[2014–15 FIS Ski Jumping World Cup|2014/15]]\\n! [[File:Flag of Germany.svg|15px|link=Germany|Klingenthal]]\\n! [[File:Flag of Finland (bordered).svg|15px|link=Finland|Kuusamo]]\\n! [[File:Flag of Finland (bordered).svg|15px|link=Finland|Kuusamo]]\\n! [[File:Flag of Norway.svg|15px|link=Norway|Lillehammer]]\\n! [[File:Flag o...   \n",
              "3470  Fabien Claude\\n\\n==Career==\\n\\nHis first year in biathlon was 2006. He made his international debut in 2011. He won the Junior Men's pursuit and placed 2nd with the French relay team at the [[Biathlon Junior World Championships 2014]]. He was part of the French relay team that achieved 3rd place in the relay in [[2019-20 Biathlon World Cup - Stage 2|Hochfilzen]] during the 2019–20 season. His first individual podium position was 3rd place in the individual discipline in [[2019-20 Biathlon Wo...   \n",
              "543   Andorra at the 2022 Winter Olympics\\n\\n==Alpine skiing==\\n\\n{{main article|Alpine skiing at the 2022 Winter Olympics|Alpine skiing at the 2022 Winter Olympics – Qualification}}\\nBy meeting the basic qualification standards, Andorra qualified one male and one female alpine skier.\\n\\n{|class=wikitable style=font-size:90%;text-align:center\\n!rowspan=2|Athlete\\n!rowspan=2|Event\\n!colspan=2|Run 1\\n!colspan=2|Run 2\\n!colspan=2|Total\\n|-style=\"font-size: 95%\"\\n!Time\\n!Rank\\n!Time\\n!Rank\\n!Time\\n!Ra...   \n",
              "2145  2021 Olympic Qualification Event – Curling\\n\\n==Mixed doubles==\\n\\n===Playoffs===\\n\\n====Semifinal 2====\\n\\n''Thursday, December 9, 9:00''\\n{{Curlingbox8\\n| sheet = B\\n| team1 = {{flagIOC|ROC|2022 Winter}} {{X}}\\n|2|0|0|2|1|0|5|X| |10\\n| team2 = {{flagIOC|FIN|2022 Winter}}\\n|0|3|1|0|0|1|0|X| |5\\n}}\\n{| class=\"wikitable\"\\n!colspan=4 width=400|Player percentages\\n|-\\n!colspan=2 width=200 style=\"white-space:nowrap;\"| {{flagIOC|ROC|2022 Winter}}\\n!colspan=2 width=200 style=\"white-space:nowrap;\"|...   \n",
              "\n",
              "                                                                                                                                                                                                                                                                                                                                                                                                                                                                                                                embedding  \n",
              "154   [-0.0020646711345762014, 0.010536017827689648, 0.03841996192932129, -0.005110605154186487, -0.031614750623703, 0.023938797414302826, -0.019317150115966797, -0.0016468807589262724, -0.023831628262996674, -0.05066398158669472, 0.011889021843671799, 0.029417794197797775, -0.02112562023103237, 0.01813829503953457, -0.013208536431193352, 0.001173831638880074, 0.014226638711988926, -0.023376161232590675, -0.0031229613814502954, -0.005381875671446323, 9.487146598985419e-05, 0.015860959887504578, -0...  \n",
              "1186  [-0.0034302170388400555, 0.021217146888375282, 0.026759039610624313, -0.030226068571209908, -0.022328203544020653, 0.02525978349149227, -0.014805152080953121, -0.010655425488948822, -0.0012608139077201486, -0.05097470059990883, 0.001322725205682218, 0.022930582985281944, -0.013647244311869144, 0.00175192067399621, 0.0021401208359748125, -0.01175309531390667, 0.01780366338789463, -0.003955625928938389, 0.007449427619576454, -0.01801784336566925, -0.0006065627676434815, 0.03552700951695442, 0....  \n",
              "3470  [-0.012693449854850769, 0.00015936909767333418, 0.013696258887648582, -0.01316186785697937, -0.011618069373071194, 0.046050041913986206, -0.005317526403814554, 0.0035988965537399054, -0.026152202859520912, -0.023090995848178864, 0.014738652855157852, 0.029107850044965744, -0.0069602858275175095, -0.03760533407330513, 0.020016593858599663, -0.01790541782975197, 0.020755507051944733, -0.023790322244167328, -0.010905547067523003, -0.016058137640357018, -0.022550007328391075, 0.01405252050608396...  \n",
              "543   [-0.009727440774440765, 0.006078820675611496, 0.008545540273189545, -0.0011013919720426202, -0.02865777164697647, 0.05123339965939522, -0.028471853584051132, -0.010823022574186325, -0.007582755759358406, -0.03840513154864311, 0.04310617595911026, 0.013598497025668621, 0.014780398458242416, -0.020517263561487198, -0.029507676139473915, -0.008751376532018185, 0.018299540504813194, 0.005325193051248789, -0.0031655682250857353, -0.0020019272342324257, -0.0007976169581525028, 0.03936127573251724,...  \n",
              "2145  [-0.01521895918995142, -0.005543465260416269, -0.0024529662914574146, -0.016759946942329407, -0.036956433206796646, 0.039902038872241974, -0.010261887684464455, -0.003920654766261578, -0.031501609832048416, -0.02591041475534439, 0.03774738311767578, 0.014864396303892136, -0.012723377905786037, -0.01138012669980526, -0.013841615989804268, -0.0009562988416291773, 0.006300321780145168, -0.010493718087673187, 0.02015557512640953, -0.008720899932086468, -0.004401361104100943, 0.011271030642092228...  "
            ]
          },
          "execution_count": 56,
          "metadata": {},
          "output_type": "execute_result"
        }
      ],
      "source": [
        "df.sample(5)"
      ]
    },
    {
      "cell_type": "markdown",
      "id": "aa32cf88-9edb-4dc6-b4cf-a16a8de7d304",
      "metadata": {
        "id": "aa32cf88-9edb-4dc6-b4cf-a16a8de7d304"
      },
      "source": [
        "So we have a custom data-set split into sections, and embedding vectors calculated for each. We also have a function that can calculate the embedding for any question.\n",
        "\n",
        "Next we will use these embeddings to answer our users' questions.\n"
      ]
    },
    {
      "cell_type": "markdown",
      "id": "ifOWmFZakFg8",
      "metadata": {
        "id": "ifOWmFZakFg8"
      },
      "source": [
        "\n",
        "#### Each time we receive a question\n",
        "\n",
        "* We calculate an embedding vector for the question with the `get_embedding` funtion we defined above.\n",
        "* For each chunk in our custom dataset, we calculate the cosine similarity between that chunk's embedding vector and the question's embedding vector\n",
        "* We rank the sections from most-cosine-similar to the question to least-cosine-similar"
      ]
    },
    {
      "cell_type": "markdown",
      "id": "UrIamAaN4YdS",
      "metadata": {
        "id": "UrIamAaN4YdS"
      },
      "source": [
        "We first define a couple of helper functions."
      ]
    },
    {
      "cell_type": "code",
      "execution_count": 25,
      "id": "_ElgwsIYcQCR",
      "metadata": {
        "id": "_ElgwsIYcQCR"
      },
      "outputs": [],
      "source": [
        "from IPython import embed\n",
        "\n",
        "# search function\n",
        "def strings_ranked_by_relatedness(\n",
        "    query: str,\n",
        "    df: pd.DataFrame,\n",
        "    relatedness_fn=lambda x, y: 1 - spatial.distance.cosine(x, y),\n",
        "    top_n: int = 100\n",
        ") -> tuple[list[str], list[float]]:\n",
        "\n",
        "    \"\"\"Returns a list of strings and relatednesses, sorted from most related to least.\"\"\"\n",
        "\n",
        "    query_embedding = get_embedding(query)\n",
        "\n",
        "    strings_and_relatednesses = [\n",
        "        (row[\"text\"], relatedness_fn(query_embedding, row[\"embedding\"]))\n",
        "        for i, row in df.iterrows()\n",
        "    ]\n",
        "    strings_and_relatednesses.sort(key=lambda x: x[1], reverse=True)\n",
        "    strings, relatednesses = zip(*strings_and_relatednesses)\n",
        "    return strings[:top_n], relatednesses[:top_n]"
      ]
    },
    {
      "cell_type": "markdown",
      "id": "6I5LexJy5K-j",
      "metadata": {
        "id": "6I5LexJy5K-j"
      },
      "source": [
        "Let's examine this function to see what it pulls up as documents most similar to the query string \"curling gold medal\""
      ]
    },
    {
      "cell_type": "code",
      "execution_count": 30,
      "id": "e3a27d73-f47f-480d-b336-079414f749cb",
      "metadata": {
        "colab": {
          "base_uri": "https://localhost:8080/",
          "height": 492
        },
        "id": "e3a27d73-f47f-480d-b336-079414f749cb",
        "outputId": "0c220ab3-52e1-4e77-f49a-9b4578525e05"
      },
      "outputs": [
        {
          "name": "stdout",
          "output_type": "stream",
          "text": [
            "relatedness=0.879\n"
          ]
        },
        {
          "data": {
            "text/plain": [
              "'Curling at the 2022 Winter Olympics\\n\\n==Medal summary==\\n\\n===Medal table===\\n\\n{{Medals table\\n | caption        = \\n | host           = \\n | flag_template  = flagIOC\\n | event          = 2022 Winter\\n | team           = \\n | gold_CAN = 0 | silver_CAN = 0 | bronze_CAN = 1\\n | gold_ITA = 1 | silver_ITA = 0 | bronze_ITA = 0\\n | gold_NOR = 0 | silver_NOR = 1 | bronze_NOR = 0\\n | gold_SWE = 1 | silver_SWE = 0 | bronze_SWE = 2\\n | gold_GBR = 1 | silver_GBR = 1 | bronze_GBR = 0\\n | gold_JPN = 0 | silver_JPN = 1 | bronze_JPN - 0\\n}}'"
            ]
          },
          "metadata": {},
          "output_type": "display_data"
        },
        {
          "name": "stdout",
          "output_type": "stream",
          "text": [
            "relatedness=0.872\n"
          ]
        },
        {
          "data": {
            "text/plain": [
              "\"Curling at the 2022 Winter Olympics\\n\\n==Results summary==\\n\\n===Women's tournament===\\n\\n====Playoffs====\\n\\n=====Gold medal game=====\\n\\n''Sunday, 20 February, 9:05''\\n{{#lst:Curling at the 2022 Winter Olympics – Women's tournament|GM}}\\n{{Player percentages\\n| team1 = {{flagIOC|JPN|2022 Winter}}\\n| [[Yurika Yoshida]] | 97%\\n| [[Yumi Suzuki]] | 82%\\n| [[Chinami Yoshida]] | 64%\\n| [[Satsuki Fujisawa]] | 69%\\n| teampct1 = 78%\\n| team2 = {{flagIOC|GBR|2022 Winter}}\\n| [[Hailey Duff]] | 90%\\n| [[Jennifer Dodds]] | 89%\\n| [[Vicky Wright]] | 89%\\n| [[Eve Muirhead]] | 88%\\n| teampct2 = 89%\\n}}\""
            ]
          },
          "metadata": {},
          "output_type": "display_data"
        },
        {
          "name": "stdout",
          "output_type": "stream",
          "text": [
            "relatedness=0.869\n"
          ]
        },
        {
          "data": {
            "text/plain": [
              "'Curling at the 2022 Winter Olympics\\n\\n==Results summary==\\n\\n===Mixed doubles tournament===\\n\\n====Playoffs====\\n\\n=====Gold medal game=====\\n\\n\\'\\'Tuesday, 8 February, 20:05\\'\\'\\n{{#lst:Curling at the 2022 Winter Olympics – Mixed doubles tournament|GM}}\\n{| class=\"wikitable\"\\n!colspan=4 width=400|Player percentages\\n|-\\n!colspan=2 width=200 style=\"white-space:nowrap;\"| {{flagIOC|ITA|2022 Winter}}\\n!colspan=2 width=200 style=\"white-space:nowrap;\"| {{flagIOC|NOR|2022 Winter}}\\n|-\\n| [[Stefania Constantini]] || 83%\\n| [[Kristin Skaslien]] || 70%\\n|-\\n| [[Amos Mosaner]] || 90%\\n| [[Magnus Nedregotten]] || 69%\\n|-\\n| \\'\\'\\'Total\\'\\'\\' || 87%\\n| \\'\\'\\'Total\\'\\'\\' || 69%\\n|}'"
            ]
          },
          "metadata": {},
          "output_type": "display_data"
        },
        {
          "name": "stdout",
          "output_type": "stream",
          "text": [
            "relatedness=0.868\n"
          ]
        },
        {
          "data": {
            "text/plain": [
              "\"Curling at the 2022 Winter Olympics\\n\\n==Medal summary==\\n\\n===Medalists===\\n\\n{| {{MedalistTable|type=Event|columns=1}}\\n|-\\n|Men<br/>{{DetailsLink|Curling at the 2022 Winter Olympics – Men's tournament}}\\n|{{flagIOC|SWE|2022 Winter}}<br>[[Niklas Edin]]<br>[[Oskar Eriksson]]<br>[[Rasmus Wranå]]<br>[[Christoffer Sundgren]]<br>[[Daniel Magnusson (curler)|Daniel Magnusson]]\\n|{{flagIOC|GBR|2022 Winter}}<br>[[Bruce Mouat]]<br>[[Grant Hardie]]<br>[[Bobby Lammie]]<br>[[Hammy McMillan Jr.]]<br>[[Ross Whyte]]\\n|{{flagIOC|CAN|2022 Winter}}<br>[[Brad Gushue]]<br>[[Mark Nichols (curler)|Mark Nichols]]<br>[[Brett Gallant]]<br>[[Geoff Walker (curler)|Geoff Walker]]<br>[[Marc Kennedy]]\\n|-\\n|Women<br/>{{DetailsLink|Curling at the 2022 Winter Olympics – Women's tournament}}\\n|{{flagIOC|GBR|2022 Winter}}<br>[[Eve Muirhead]]<br>[[Vicky Wright]]<br>[[Jennifer Dodds]]<br>[[Hailey Duff]]<br>[[Mili Smith]]\\n|{{flagIOC|JPN|2022 Winter}}<br>[[Satsuki Fujisawa]]<br>[[Chinami Yoshida]]<br>[[Yumi Suzuki]]<br>[[Yurika Yoshida]]<br>[[Kotomi Ishizaki]]\\n|{{flagIOC|SWE|2022 Winter}}<br>[[Anna Hasselborg]]<br>[[Sara McManus]]<br>[[Agnes Knochenhauer]]<br>[[Sofia Mabergs]]<br>[[Johanna Heldin]]\\n|-\\n|Mixed doubles<br/>{{DetailsLink|Curling at the 2022 Winter Olympics – Mixed doubles tournament}}\\n|{{flagIOC|ITA|2022 Winter}}<br>[[Stefania Constantini]]<br>[[Amos Mosaner]]\\n|{{flagIOC|NOR|2022 Winter}}<br>[[Kristin Skaslien]]<br>[[Magnus Nedregotten]]\\n|{{flagIOC|SWE|2022 Winter}}<br>[[Almida de Val]]<br>[[Oskar Eriksson]]\\n|}\""
            ]
          },
          "metadata": {},
          "output_type": "display_data"
        },
        {
          "name": "stdout",
          "output_type": "stream",
          "text": [
            "relatedness=0.867\n"
          ]
        },
        {
          "data": {
            "text/plain": [
              "\"Curling at the 2022 Winter Olympics\\n\\n==Results summary==\\n\\n===Men's tournament===\\n\\n====Playoffs====\\n\\n=====Gold medal game=====\\n\\n''Saturday, 19 February, 14:50''\\n{{#lst:Curling at the 2022 Winter Olympics – Men's tournament|GM}}\\n{{Player percentages\\n| team1 = {{flagIOC|GBR|2022 Winter}}\\n| [[Hammy McMillan Jr.]] | 95%\\n| [[Bobby Lammie]] | 80%\\n| [[Grant Hardie]] | 94%\\n| [[Bruce Mouat]] | 89%\\n| teampct1 = 90%\\n| team2 = {{flagIOC|SWE|2022 Winter}}\\n| [[Christoffer Sundgren]] | 99%\\n| [[Rasmus Wranå]] | 95%\\n| [[Oskar Eriksson]] | 93%\\n| [[Niklas Edin]] | 87%\\n| teampct2 = 94%\\n}}\""
            ]
          },
          "metadata": {},
          "output_type": "display_data"
        }
      ],
      "source": [
        "strings, relatednesses = strings_ranked_by_relatedness(\"curling gold medal\", df, top_n=5)\n",
        "for string, relatedness in zip(strings, relatednesses):\n",
        "    print(f\"{relatedness=:.3f}\")\n",
        "    display(string)"
      ]
    },
    {
      "cell_type": "markdown",
      "id": "3cf71fae-abb1-46b2-a483-c1b2f1a915c2",
      "metadata": {
        "id": "3cf71fae-abb1-46b2-a483-c1b2f1a915c2"
      },
      "source": [
        "We can see that what was pulled up were several sections of the Wikipedia page for curling at the 2022 Winter Olympics. Cool."
      ]
    },
    {
      "cell_type": "markdown",
      "id": "a0efa0f6-4469-457a-89a4-a2f5736a01e0",
      "metadata": {
        "id": "a0efa0f6-4469-457a-89a4-a2f5736a01e0"
      },
      "source": [
        "#### Starting from the most-cosine-similar section, include as many sections into the prompt as can fit into the context window\n",
        "\n",
        "\n",
        "Once we've calculated the most relevant pieces of context, we construct a prompt by simply prepending them to the supplied query. We write a fewer helper functions to do just this."
      ]
    },
    {
      "cell_type": "code",
      "execution_count": 31,
      "id": "QtWjlkMKDvVb",
      "metadata": {
        "id": "QtWjlkMKDvVb"
      },
      "outputs": [],
      "source": [
        "HEADER = \"\"\"\n",
        "Use the below articles to answer the subsequent question. \\\n",
        "Answer the question as truthfully as possible, and if you're unsure \\\n",
        "of the answer, say \"Sorry, I don't know\"\n",
        "\"\"\""
      ]
    },
    {
      "cell_type": "markdown",
      "id": "8dzXzJl5RmDq",
      "metadata": {
        "id": "8dzXzJl5RmDq"
      },
      "source": [
        "Since we don't want to exceed the context window, we will need to count the tokens in our prompt. We use the `tiktoken` package for this."
      ]
    },
    {
      "cell_type": "code",
      "execution_count": 32,
      "id": "b763ace2-1946-48e0-8ff1-91ba335d47a0",
      "metadata": {
        "id": "b763ace2-1946-48e0-8ff1-91ba335d47a0"
      },
      "outputs": [],
      "source": [
        "import tiktoken  # for counting tokens\n",
        "\n",
        "def num_tokens(text: str, model: str = GPT_MODEL) -> int:\n",
        "    \"\"\"Return the number of tokens in a string.\"\"\"\n",
        "    encoding = tiktoken.encoding_for_model(model)\n",
        "    return len(encoding.encode(text))"
      ]
    },
    {
      "cell_type": "code",
      "execution_count": 33,
      "id": "d725c0e9",
      "metadata": {},
      "outputs": [
        {
          "data": {
            "text/plain": [
              "5"
            ]
          },
          "execution_count": 33,
          "metadata": {},
          "output_type": "execute_result"
        }
      ],
      "source": [
        "num_tokens(\"Curling gold medal\", GPT_MODEL)"
      ]
    },
    {
      "cell_type": "code",
      "execution_count": 34,
      "id": "0c5c0509-eeb9-4552-a5d4-6ace04ef73dd",
      "metadata": {
        "id": "0c5c0509-eeb9-4552-a5d4-6ace04ef73dd"
      },
      "outputs": [],
      "source": [
        "def query_message(\n",
        "    query: str,\n",
        "    df: pd.DataFrame,\n",
        "    model: str,\n",
        "    token_budget: int\n",
        ") -> str:\n",
        "    \"\"\"Return a message for GPT, with relevant source texts pulled from a dataframe.\"\"\"\n",
        "    strings, relatednesses = strings_ranked_by_relatedness(query, df,top_n=5)\n",
        "    introduction = HEADER\n",
        "    question = f\"\\n\\nQuestion: {query}\"\n",
        "    message = introduction\n",
        "    for string in strings:\n",
        "      # useful to indicate the start of each new potentially relevant\n",
        "      # article here with the header 'Wikipedia article section:'\n",
        "\n",
        "        next_article = f'\\n\\nWikipedia article section:\\n\"\"\"\\n{string}\\n\"\"\"'\n",
        "        if (\n",
        "            num_tokens(message + next_article + question, model=model)\n",
        "            > token_budget\n",
        "        ):\n",
        "            break\n",
        "        else:\n",
        "            message += next_article\n",
        "    return message + question"
      ]
    },
    {
      "cell_type": "markdown",
      "id": "7bVyIS15gGAm",
      "metadata": {
        "id": "7bVyIS15gGAm"
      },
      "source": [
        "Query message first begins with the `HEADER` and then pulls the related articles sorted in descending order of similarity to the query. We then add these articles to the query until the token budget is consumed. Below we pass in our query about 2022 curling with a token budget of 3700 tokens. We could go higher (how much higher?) but OpenAI charges by the token 😰\n",
        "\n"
      ]
    },
    {
      "cell_type": "code",
      "execution_count": 35,
      "id": "f614045a-3917-4b28-9643-7e0c299ec1a7",
      "metadata": {
        "colab": {
          "base_uri": "https://localhost:8080/"
        },
        "collapsed": true,
        "id": "f614045a-3917-4b28-9643-7e0c299ec1a7",
        "outputId": "dda74eee-37a5-4145-ebfb-8cd98ebdeae2"
      },
      "outputs": [
        {
          "name": "stdout",
          "output_type": "stream",
          "text": [
            "\n",
            "Use the below articles to answer the subsequent question. Answer the question as truthfully as possible, and if you're unsure of the answer, say \"Sorry, I don't know\"\n",
            "\n",
            "\n",
            "Wikipedia article section:\n",
            "\"\"\"\n",
            "List of 2022 Winter Olympics medal winners\n",
            "\n",
            "==Curling==\n",
            "\n",
            "{{main|Curling at the 2022 Winter Olympics}}\n",
            "{|{{MedalistTable|type=Event|columns=1|width=225|labelwidth=200}}\n",
            "|-valign=\"top\"\n",
            "|Men<br/>{{DetailsLink|Curling at the 2022 Winter Olympics – Men's tournament}}\n",
            "|{{flagIOC|SWE|2022 Winter}}<br/>[[Niklas Edin]]<br/>[[Oskar Eriksson]]<br/>[[Rasmus Wranå]]<br/>[[Christoffer Sundgren]]<br/>[[Daniel Magnusson (curler)|Daniel Magnusson]]\n",
            "|{{flagIOC|GBR|2022 Winter}}<br/>[[Bruce Mouat]]<br/>[[Grant Hardie]]<br/>[[Bobby Lammie]]<br/>[[Hammy McMillan Jr.]]<br/>[[Ross Whyte]]\n",
            "|{{flagIOC|CAN|2022 Winter}}<br/>[[Brad Gushue]]<br/>[[Mark Nichols (curler)|Mark Nichols]]<br/>[[Brett Gallant]]<br/>[[Geoff Walker (curler)|Geoff Walker]]<br/>[[Marc Kennedy]]\n",
            "|-valign=\"top\"\n",
            "|Women<br/>{{DetailsLink|Curling at the 2022 Winter Olympics – Women's tournament}}\n",
            "|{{flagIOC|GBR|2022 Winter}}<br/>[[Eve Muirhead]]<br/>[[Vicky Wright]]<br/>[[Jennifer Dodds]]<br/>[[Hailey Duff]]<br/>[[Mili Smith]]\n",
            "|{{flagIOC|JPN|2022 Winter}}<br/>[[Satsuki Fujisawa]]<br/>[[Chinami Yoshida]]<br/>[[Yumi Suzuki]]<br/>[[Yurika Yoshida]]<br/>[[Kotomi Ishizaki]]\n",
            "|{{flagIOC|SWE|2022 Winter}}<br/>[[Anna Hasselborg]]<br/>[[Sara McManus]]<br/>[[Agnes Knochenhauer]]<br/>[[Sofia Mabergs]]<br/>[[Johanna Heldin]]\n",
            "|-valign=\"top\"\n",
            "|Mixed doubles<br/>{{DetailsLink|Curling at the 2022 Winter Olympics – Mixed doubles tournament}}\n",
            "|{{flagIOC|ITA|2022 Winter}}<br/>[[Stefania Constantini]]<br/>[[Amos Mosaner]]\n",
            "|{{flagIOC|NOR|2022 Winter}}<br/>[[Kristin Skaslien]]<br/>[[Magnus Nedregotten]]\n",
            "|{{flagIOC|SWE|2022 Winter}}<br/>[[Almida de Val]]<br/>[[Oskar Eriksson]]\n",
            "|}\n",
            "\"\"\"\n",
            "\n",
            "Wikipedia article section:\n",
            "\"\"\"\n",
            "Curling at the 2022 Winter Olympics\n",
            "\n",
            "==Medal summary==\n",
            "\n",
            "===Medal table===\n",
            "\n",
            "{{Medals table\n",
            " | caption        = \n",
            " | host           = \n",
            " | flag_template  = flagIOC\n",
            " | event          = 2022 Winter\n",
            " | team           = \n",
            " | gold_CAN = 0 | silver_CAN = 0 | bronze_CAN = 1\n",
            " | gold_ITA = 1 | silver_ITA = 0 | bronze_ITA = 0\n",
            " | gold_NOR = 0 | silver_NOR = 1 | bronze_NOR = 0\n",
            " | gold_SWE = 1 | silver_SWE = 0 | bronze_SWE = 2\n",
            " | gold_GBR = 1 | silver_GBR = 1 | bronze_GBR = 0\n",
            " | gold_JPN = 0 | silver_JPN = 1 | bronze_JPN - 0\n",
            "}}\n",
            "\"\"\"\n",
            "\n",
            "Wikipedia article section:\n",
            "\"\"\"\n",
            "Curling at the 2022 Winter Olympics\n",
            "\n",
            "==Results summary==\n",
            "\n",
            "===Women's tournament===\n",
            "\n",
            "====Playoffs====\n",
            "\n",
            "=====Gold medal game=====\n",
            "\n",
            "''Sunday, 20 February, 9:05''\n",
            "{{#lst:Curling at the 2022 Winter Olympics – Women's tournament|GM}}\n",
            "{{Player percentages\n",
            "| team1 = {{flagIOC|JPN|2022 Winter}}\n",
            "| [[Yurika Yoshida]] | 97%\n",
            "| [[Yumi Suzuki]] | 82%\n",
            "| [[Chinami Yoshida]] | 64%\n",
            "| [[Satsuki Fujisawa]] | 69%\n",
            "| teampct1 = 78%\n",
            "| team2 = {{flagIOC|GBR|2022 Winter}}\n",
            "| [[Hailey Duff]] | 90%\n",
            "| [[Jennifer Dodds]] | 89%\n",
            "| [[Vicky Wright]] | 89%\n",
            "| [[Eve Muirhead]] | 88%\n",
            "| teampct2 = 89%\n",
            "}}\n",
            "\"\"\"\n",
            "\n",
            "Wikipedia article section:\n",
            "\"\"\"\n",
            "Curling at the 2022 Winter Olympics\n",
            "\n",
            "==Medal summary==\n",
            "\n",
            "===Medalists===\n",
            "\n",
            "{| {{MedalistTable|type=Event|columns=1}}\n",
            "|-\n",
            "|Men<br/>{{DetailsLink|Curling at the 2022 Winter Olympics – Men's tournament}}\n",
            "|{{flagIOC|SWE|2022 Winter}}<br>[[Niklas Edin]]<br>[[Oskar Eriksson]]<br>[[Rasmus Wranå]]<br>[[Christoffer Sundgren]]<br>[[Daniel Magnusson (curler)|Daniel Magnusson]]\n",
            "|{{flagIOC|GBR|2022 Winter}}<br>[[Bruce Mouat]]<br>[[Grant Hardie]]<br>[[Bobby Lammie]]<br>[[Hammy McMillan Jr.]]<br>[[Ross Whyte]]\n",
            "|{{flagIOC|CAN|2022 Winter}}<br>[[Brad Gushue]]<br>[[Mark Nichols (curler)|Mark Nichols]]<br>[[Brett Gallant]]<br>[[Geoff Walker (curler)|Geoff Walker]]<br>[[Marc Kennedy]]\n",
            "|-\n",
            "|Women<br/>{{DetailsLink|Curling at the 2022 Winter Olympics – Women's tournament}}\n",
            "|{{flagIOC|GBR|2022 Winter}}<br>[[Eve Muirhead]]<br>[[Vicky Wright]]<br>[[Jennifer Dodds]]<br>[[Hailey Duff]]<br>[[Mili Smith]]\n",
            "|{{flagIOC|JPN|2022 Winter}}<br>[[Satsuki Fujisawa]]<br>[[Chinami Yoshida]]<br>[[Yumi Suzuki]]<br>[[Yurika Yoshida]]<br>[[Kotomi Ishizaki]]\n",
            "|{{flagIOC|SWE|2022 Winter}}<br>[[Anna Hasselborg]]<br>[[Sara McManus]]<br>[[Agnes Knochenhauer]]<br>[[Sofia Mabergs]]<br>[[Johanna Heldin]]\n",
            "|-\n",
            "|Mixed doubles<br/>{{DetailsLink|Curling at the 2022 Winter Olympics – Mixed doubles tournament}}\n",
            "|{{flagIOC|ITA|2022 Winter}}<br>[[Stefania Constantini]]<br>[[Amos Mosaner]]\n",
            "|{{flagIOC|NOR|2022 Winter}}<br>[[Kristin Skaslien]]<br>[[Magnus Nedregotten]]\n",
            "|{{flagIOC|SWE|2022 Winter}}<br>[[Almida de Val]]<br>[[Oskar Eriksson]]\n",
            "|}\n",
            "\"\"\"\n",
            "\n",
            "Wikipedia article section:\n",
            "\"\"\"\n",
            "Curling at the 2022 Winter Olympics\n",
            "\n",
            "==Results summary==\n",
            "\n",
            "===Men's tournament===\n",
            "\n",
            "====Playoffs====\n",
            "\n",
            "=====Gold medal game=====\n",
            "\n",
            "''Saturday, 19 February, 14:50''\n",
            "{{#lst:Curling at the 2022 Winter Olympics – Men's tournament|GM}}\n",
            "{{Player percentages\n",
            "| team1 = {{flagIOC|GBR|2022 Winter}}\n",
            "| [[Hammy McMillan Jr.]] | 95%\n",
            "| [[Bobby Lammie]] | 80%\n",
            "| [[Grant Hardie]] | 94%\n",
            "| [[Bruce Mouat]] | 89%\n",
            "| teampct1 = 90%\n",
            "| team2 = {{flagIOC|SWE|2022 Winter}}\n",
            "| [[Christoffer Sundgren]] | 99%\n",
            "| [[Rasmus Wranå]] | 95%\n",
            "| [[Oskar Eriksson]] | 93%\n",
            "| [[Niklas Edin]] | 87%\n",
            "| teampct2 = 94%\n",
            "}}\n",
            "\"\"\"\n",
            "\n",
            "Question: 'Which athletes won the gold medal in curling at the 2022 Winter Olympics?\n"
          ]
        }
      ],
      "source": [
        "query = query_message(\"'Which athletes won the gold medal in curling at \\\n",
        "the 2022 Winter Olympics?\", df, GPT_MODEL, 3700)\n",
        "\n",
        "print(query)"
      ]
    },
    {
      "cell_type": "markdown",
      "id": "8ln0tkZ3iQUp",
      "metadata": {
        "id": "8ln0tkZ3iQUp"
      },
      "source": [
        "We have now obtained the sections that are most relevant to the question and crafted a query. As a final step, let's put it all together to get an answer to the question.\n"
      ]
    },
    {
      "cell_type": "code",
      "execution_count": 36,
      "id": "GiE7Y4DWiL8-",
      "metadata": {
        "id": "GiE7Y4DWiL8-"
      },
      "outputs": [],
      "source": [
        "def ask(\n",
        "    query: str,\n",
        "    df: pd.DataFrame = df,\n",
        "    model: str = GPT_MODEL,\n",
        "    token_budget: int = 4096 - 500,\n",
        ") -> str:\n",
        "    \"\"\"Answers a query using GPT and a dataframe of relevant texts and embeddings.\"\"\"\n",
        "    message = query_message(query, df, model=model, token_budget=token_budget)\n",
        "\n",
        "    messages = [\n",
        "        {\"role\": \"system\", \"content\": \"You answer questions about the 2022 Winter Olympics.\"},\n",
        "        {\"role\": \"user\", \"content\": message},\n",
        "    ]\n",
        "\n",
        "    response = client.chat.completions.create(\n",
        "        model=model,\n",
        "        messages=messages,\n",
        "        temperature=0\n",
        "    )\n",
        "    response_message = response.choices[0].message.content\n",
        "    return response_message"
      ]
    },
    {
      "cell_type": "markdown",
      "id": "1b022fd4-0a3c-4ae1-bed1-4c80e4f0fb56",
      "metadata": {
        "id": "1b022fd4-0a3c-4ae1-bed1-4c80e4f0fb56"
      },
      "source": [
        "#### Send the query into `gpt-3.5-turbo`!\n",
        "\n",
        "Now that we've retrieved the relevant sections and constructed our prompt, we can finally answer the user's query."
      ]
    },
    {
      "cell_type": "code",
      "execution_count": 40,
      "id": "kUJw_C5UgkCZ",
      "metadata": {
        "colab": {
          "base_uri": "https://localhost:8080/"
        },
        "id": "kUJw_C5UgkCZ",
        "outputId": "0381e496-b395-437a-94fd-5df61670bd74"
      },
      "outputs": [
        {
          "name": "stdout",
          "output_type": "stream",
          "text": [
            "The men athletes who won the gold medal in curling at the 2022 Winter Olympics specifically for Great Britain were Hammy McMillan Jr., Bobby Lammie, Grant Hardie, Bruce Mouat, and Ross Whyte.\n"
          ]
        }
      ],
      "source": [
        "print(ask('Which men athletes won the gold medal in curling at the 2022 Winter Olympics specifically for GBR ?'))"
      ]
    },
    {
      "cell_type": "markdown",
      "id": "wF_dng2dEJFH",
      "metadata": {
        "id": "wF_dng2dEJFH"
      },
      "source": [
        "Nice!\n",
        "\n",
        "Let's ask a question for an Olympics event that never happened!"
      ]
    },
    {
      "cell_type": "code",
      "execution_count": 69,
      "id": "vC9LfXISED8l",
      "metadata": {
        "colab": {
          "base_uri": "https://localhost:8080/"
        },
        "id": "vC9LfXISED8l",
        "outputId": "083239c8-a2da-4dbd-feaf-a33076f5bd7d"
      },
      "outputs": [
        {
          "name": "stdout",
          "output_type": "stream",
          "text": [
            "Sorry, I don't know.\n"
          ]
        }
      ],
      "source": [
        "print(ask('Which athletes won the gold medal in curling at the 2016 Winter Olympics?'))"
      ]
    },
    {
      "cell_type": "markdown",
      "id": "8eDW-Li0lo9T",
      "metadata": {
        "id": "8eDW-Li0lo9T"
      },
      "source": [
        "Good, it is trying to be humble and say \"I don't know\"."
      ]
    },
    {
      "cell_type": "markdown",
      "id": "QmSnLQNbEb8n",
      "metadata": {
        "id": "QmSnLQNbEb8n"
      },
      "source": [
        "Let's change the header to \"allow it to lie\" if it wants 👀 and see if it takes the bait."
      ]
    },
    {
      "cell_type": "code",
      "execution_count": 70,
      "id": "pJvZaDWfEbY9",
      "metadata": {
        "id": "pJvZaDWfEbY9"
      },
      "outputs": [],
      "source": [
        "HEADER = \"\"\"\n",
        "Answer the question.\"\\n\\nContext:\\n\n",
        "\"\"\""
      ]
    },
    {
      "cell_type": "code",
      "execution_count": 71,
      "id": "0D5ixg3aEpIB",
      "metadata": {
        "colab": {
          "base_uri": "https://localhost:8080/"
        },
        "id": "0D5ixg3aEpIB",
        "outputId": "79cdb207-20be-43b5-f719-9228f596d492"
      },
      "outputs": [
        {
          "name": "stdout",
          "output_type": "stream",
          "text": [
            "The athletes who won the gold medal in curling at the 2022 Winter Olympics were:\n",
            "\n",
            "- Men's tournament: Team from Great Britain consisting of Hammy McMillan Jr., Bobby Lammie, Grant Hardie, and Bruce Mouat.\n",
            "- Women's tournament: Team from Japan consisting of Yurika Yoshida, Yumi Suzuki, Chinami Yoshida, and Satsuki Fujisawa.\n"
          ]
        }
      ],
      "source": [
        "print(ask('Which athletes won the gold medal in curling at the 2016 Winter Olympics?'))"
      ]
    },
    {
      "cell_type": "markdown",
      "id": "7M4UdUiiE0N1",
      "metadata": {
        "id": "7M4UdUiiE0N1"
      },
      "source": [
        "Hmm ... it is answering an irrelevant question. Removing that little extra phrase in the header - `as truthfully as possible` - changed its behavior!\n",
        "\n"
      ]
    },
    {
      "cell_type": "markdown",
      "id": "7b48d155-d2d4-447c-ab8e-5a5b4722b07c",
      "metadata": {
        "id": "7b48d155-d2d4-447c-ab8e-5a5b4722b07c"
      },
      "source": [
        "## Conclusion\n",
        "By combining pretrained contextual embeddings and `gpt-3.5-turbo`, we have created a question-answering model using Retrieval-Augmented Generation that can answer questions in natural language using a custom dataset. It also **tries** not to make stuff up and says \"I don't know\" when it doesn't know the answer! **But this is not guaranteed.**\n",
        "\n",
        "For this example we have used a dataset of Wikipedia articles, but that dataset could be replaced with books, articles, documentation, service manuals, or much much more.\n",
        "\n"
      ]
    },
    {
      "cell_type": "markdown",
      "id": "pM5FjVPUCAuT",
      "metadata": {
        "id": "pM5FjVPUCAuT"
      },
      "source": [
        "\n",
        "\n",
        "---\n",
        "\n",
        "How you can use this approach to \"understand\" a dense 56-page legal document:\n",
        "A fun [example](https://www.youtube.com/watch?v=ih9PBGVVOO4)\n",
        "\n",
        "---\n",
        "\n",
        "\n"
      ]
    }
  ],
  "metadata": {
    "colab": {
      "provenance": []
    },
    "kernelspec": {
      "display_name": "Python 3.9.9 ('openai')",
      "language": "python",
      "name": "python3"
    },
    "language_info": {
      "codemirror_mode": {
        "name": "ipython",
        "version": 3
      },
      "file_extension": ".py",
      "mimetype": "text/x-python",
      "name": "python",
      "nbconvert_exporter": "python",
      "pygments_lexer": "ipython3",
      "version": "3.12.2"
    },
    "vscode": {
      "interpreter": {
        "hash": "365536dcbde60510dc9073d6b991cd35db2d9bac356a11f5b64279a5e6708b97"
      }
    }
  },
  "nbformat": 4,
  "nbformat_minor": 5
}
