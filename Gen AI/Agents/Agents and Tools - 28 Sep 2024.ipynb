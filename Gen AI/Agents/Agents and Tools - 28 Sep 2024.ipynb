{
 "cells": [
  {
   "cell_type": "code",
   "execution_count": 25,
   "metadata": {},
   "outputs": [],
   "source": [
    "from langchain_community.tools import ArxivQueryRun, WikipediaQueryRun, DuckDuckGoSearchRun\n",
    "from langchain_community.utilities import ArxivAPIWrapper, WikipediaAPIWrapper, DuckDuckGoSearchAPIWrapper\n",
    "from langchain_community.tools.yahoo_finance_news import YahooFinanceNewsTool\n",
    "# from langchain_community.tools import DuckDuckGoSearchRun"
   ]
  },
  {
   "cell_type": "markdown",
   "metadata": {},
   "source": [
    "### Creating the Tools"
   ]
  },
  {
   "cell_type": "markdown",
   "metadata": {},
   "source": [
    "#### Creating the Wikipedia tool"
   ]
  },
  {
   "cell_type": "code",
   "execution_count": 3,
   "metadata": {},
   "outputs": [],
   "source": [
    "api_wrapper_wiki = WikipediaAPIWrapper(top_k_results=1) # Calling the wikipedia API\n",
    "wiki_tool = WikipediaQueryRun(api_wrapper=api_wrapper_wiki)"
   ]
  },
  {
   "cell_type": "code",
   "execution_count": 4,
   "metadata": {},
   "outputs": [
    {
     "data": {
      "text/plain": [
       "'Page: Donald Trump\\nSummary: Donald John Trump (born June 14, 1946) is an American politician, media personality, and businessman who served as the 45th president of the United States from 2017 to 2021.  \\nTrump received a Bachelor of Science degree in economics from the University of Pennsylvania in 1968. His father made him president of the family real estate business in 1971. Trump renamed it the Trump Organization and reoriented the company toward building and renovating skyscrapers, hotels, casinos, and golf courses. After a series of business failures in the late 1990s, he launched side ventures, mostly licensing the Trump name. From 2004 to 2015, he co-produced and hosted the reality television series The Apprentice. He and his businesses have been plaintiffs or defendants in more than 4,000 legal actions, including six business bankruptcies.\\nTrump won the 2016 presidential election as the Republican Party nominee against Democratic Party candidate Hillary Clinton while losing the popular vote. The Mueller special counsel investigation determined that Russia interfered in the 2016 election to favor Trump. During the campaign, his political positions were described as populist, protectionist, and nationalist. His election and policies sparked numerous protests. He was the only U.S. president without prior military or government experience. Trump promoted conspiracy theories and made many false and misleading statements during his campaigns and presidency, to a degree unprecedented in American politics. Many of his comments and actions have been characterized as racially charged, racist, and misogynistic.\\nAs president, Trump ordered a travel ban on citizens from several Muslim-majority countries, diverted military funding toward building a wall on the U.S.–Mexico border, and implemented a family separation policy. He rolled back more than 100 environmental policies and regulations. He signed the Tax Cuts and Jobs Act of 2017, which cut taxes and eliminated the individual health insurance mandate penalty of the Affordable Care Act. He appointed Neil Gorsuch, Brett Kavanaugh, and Amy Coney Barrett to the U.S. Supreme Court. He reacted slowly to the COVID-19 pandemic, ignored or contradicted many recommendations from health officials, used political pressure to interfere with testing efforts, and spread misinformation about unproven treatments. Trump initiated a trade war with China and withdrew the U.S. from the proposed Trans-Pacific Partnership trade agreement, the Paris Agreement on climate change, and the Iran nuclear deal. He met with North Korean leader Kim Jong Un three times but made no progress on denuclearization.\\nTrump is the only U.S. president to have been impeached twice, in 2019 for abuse of power and obstruction of Congress after he pressured Ukraine to investigate Joe Biden, and in 2021 for incitement of insurrection. The Senate acquitted him in both cases. Trump lost the 2020 presidential election to Biden but refused to concede. He falsely claimed widespread electoral fraud and attempted to overturn the results. On January 6, 2021, he urged his supporters to march to the U.S. Capitol, which many of them attacked. Scholars and historians rank Trump as one of the worst presidents in American history.\\nSince leaving office, Trump has continued to dominate the Republican Party and is their nominee again in the 2024 presidential election. In May 2024, a jury in New York found Trump guilty on 34 felony counts of falsifying business records related to a hush money payment to Stormy Daniels in an attempt to influence the 2016 election, making him the first former U.S. president to be convicted of a crime. He has been indicted in three other jurisdictions on 54 other felony counts related to his mishandling of classified documents and for efforts to overturn the 2020 presidential election. In civil proceedings, Trump was found liable for sexual abuse and defamation in 2023, defamation in 2024, and financial fraud in '"
      ]
     },
     "execution_count": 4,
     "metadata": {},
     "output_type": "execute_result"
    }
   ],
   "source": [
    "api_wrapper_wiki.run(\"Donald Trump\") # Using the Wikipedial API"
   ]
  },
  {
   "cell_type": "markdown",
   "metadata": {},
   "source": [
    "#### Creating the Arxiv tool"
   ]
  },
  {
   "cell_type": "code",
   "execution_count": 5,
   "metadata": {},
   "outputs": [],
   "source": [
    "api_wrapper_arxiv = ArxivAPIWrapper(top_k_results=3) # Calling the arxiv API\n",
    "arxiv_tool = ArxivQueryRun(api_wrapper=api_wrapper_arxiv)"
   ]
  },
  {
   "cell_type": "markdown",
   "metadata": {},
   "source": [
    "#### Creating the Yahoo Finance Tool"
   ]
  },
  {
   "cell_type": "code",
   "execution_count": 6,
   "metadata": {},
   "outputs": [],
   "source": [
    "yfinance_tool = YahooFinanceNewsTool()"
   ]
  },
  {
   "cell_type": "markdown",
   "metadata": {},
   "source": [
    "#### Creating the DuckDuckGo Search Tool"
   ]
  },
  {
   "cell_type": "code",
   "execution_count": 27,
   "metadata": {},
   "outputs": [],
   "source": [
    "api_wrapper_ddg = DuckDuckGoSearchAPIWrapper(max_results=10) # Calling the arxiv API\n",
    "ddg_tool = DuckDuckGoSearchRun(api_wrapper=api_wrapper_ddg)"
   ]
  },
  {
   "cell_type": "code",
   "execution_count": 28,
   "metadata": {},
   "outputs": [],
   "source": [
    "tools = [arxiv_tool, ddg_tool, wiki_tool]"
   ]
  },
  {
   "cell_type": "markdown",
   "metadata": {},
   "source": [
    "### Creating the Agent\n",
    "\n",
    "Agent -> Prompt Template + LLM + Agent Function + Tools "
   ]
  },
  {
   "cell_type": "code",
   "execution_count": 11,
   "metadata": {},
   "outputs": [],
   "source": [
    "from langchain_openai import ChatOpenAI\n",
    "from langchain.agents import AgentExecutor, create_react_agent\n",
    "from dotenv import load_dotenv\n",
    "from langchain import hub"
   ]
  },
  {
   "cell_type": "code",
   "execution_count": 9,
   "metadata": {},
   "outputs": [
    {
     "data": {
      "text/plain": [
       "True"
      ]
     },
     "execution_count": 9,
     "metadata": {},
     "output_type": "execute_result"
    }
   ],
   "source": [
    "load_dotenv()"
   ]
  },
  {
   "cell_type": "markdown",
   "metadata": {},
   "source": [
    "#### Creating the LLM"
   ]
  },
  {
   "cell_type": "code",
   "execution_count": 35,
   "metadata": {},
   "outputs": [],
   "source": [
    "llm = ChatOpenAI(model = \"gpt-4o-mini\")"
   ]
  },
  {
   "cell_type": "markdown",
   "metadata": {},
   "source": [
    "#### Creating the prompt"
   ]
  },
  {
   "cell_type": "code",
   "execution_count": 12,
   "metadata": {},
   "outputs": [
    {
     "name": "stderr",
     "output_type": "stream",
     "text": [
      "c:\\Users\\phani\\anaconda3\\envs\\rag\\Lib\\site-packages\\langsmith\\client.py:323: LangSmithMissingAPIKeyWarning: API key must be provided when using hosted LangSmith API\n",
      "  warnings.warn(\n"
     ]
    }
   ],
   "source": [
    "prompt = hub.pull(\"hwchase17/react\")"
   ]
  },
  {
   "cell_type": "code",
   "execution_count": 13,
   "metadata": {},
   "outputs": [
    {
     "data": {
      "text/plain": [
       "PromptTemplate(input_variables=['agent_scratchpad', 'input', 'tool_names', 'tools'], input_types={}, partial_variables={}, metadata={'lc_hub_owner': 'hwchase17', 'lc_hub_repo': 'react', 'lc_hub_commit_hash': 'd15fe3c426f1c4b3f37c9198853e4a86e20c425ca7f4752ec0c9b0e97ca7ea4d'}, template='Answer the following questions as best you can. You have access to the following tools:\\n\\n{tools}\\n\\nUse the following format:\\n\\nQuestion: the input question you must answer\\nThought: you should always think about what to do\\nAction: the action to take, should be one of [{tool_names}]\\nAction Input: the input to the action\\nObservation: the result of the action\\n... (this Thought/Action/Action Input/Observation can repeat N times)\\nThought: I now know the final answer\\nFinal Answer: the final answer to the original input question\\n\\nBegin!\\n\\nQuestion: {input}\\nThought:{agent_scratchpad}')"
      ]
     },
     "execution_count": 13,
     "metadata": {},
     "output_type": "execute_result"
    }
   ],
   "source": [
    "prompt"
   ]
  },
  {
   "cell_type": "markdown",
   "metadata": {},
   "source": [
    "#### Creating the React Agent"
   ]
  },
  {
   "cell_type": "code",
   "execution_count": 29,
   "metadata": {},
   "outputs": [],
   "source": [
    "agent = create_react_agent(llm = llm, \n",
    "                           tools=tools,\n",
    "                           prompt = prompt)"
   ]
  },
  {
   "cell_type": "code",
   "execution_count": 30,
   "metadata": {},
   "outputs": [],
   "source": [
    "agent_executor = AgentExecutor.from_agent_and_tools(\n",
    "    agent=agent,\n",
    "    tools=tools,\n",
    "    verbose=True,\n",
    ")"
   ]
  },
  {
   "cell_type": "code",
   "execution_count": 16,
   "metadata": {},
   "outputs": [
    {
     "name": "stderr",
     "output_type": "stream",
     "text": [
      "Error in StdOutCallbackHandler.on_chain_start callback: AttributeError(\"'NoneType' object has no attribute 'get'\")\n"
     ]
    },
    {
     "name": "stdout",
     "output_type": "stream",
     "text": [
      "\u001b[32;1m\u001b[1;3mI need to gather information about Donald Trump, including his background, career, and significance in politics and business. A good starting point for this information is Wikipedia, as it provides a comprehensive overview of notable figures.  \n",
      "Action: wikipedia  \n",
      "Action Input: Donald Trump  \u001b[0m\u001b[38;5;200m\u001b[1;3mPage: Donald Trump\n",
      "Summary: Donald John Trump (born June 14, 1946) is an American politician, media personality, and businessman who served as the 45th president of the United States from 2017 to 2021.  \n",
      "Trump received a Bachelor of Science degree in economics from the University of Pennsylvania in 1968. His father made him president of the family real estate business in 1971. Trump renamed it the Trump Organization and reoriented the company toward building and renovating skyscrapers, hotels, casinos, and golf courses. After a series of business failures in the late 1990s, he launched side ventures, mostly licensing the Trump name. From 2004 to 2015, he co-produced and hosted the reality television series The Apprentice. He and his businesses have been plaintiffs or defendants in more than 4,000 legal actions, including six business bankruptcies.\n",
      "Trump won the 2016 presidential election as the Republican Party nominee against Democratic Party candidate Hillary Clinton while losing the popular vote. The Mueller special counsel investigation determined that Russia interfered in the 2016 election to favor Trump. During the campaign, his political positions were described as populist, protectionist, and nationalist. His election and policies sparked numerous protests. He was the only U.S. president without prior military or government experience. Trump promoted conspiracy theories and made many false and misleading statements during his campaigns and presidency, to a degree unprecedented in American politics. Many of his comments and actions have been characterized as racially charged, racist, and misogynistic.\n",
      "As president, Trump ordered a travel ban on citizens from several Muslim-majority countries, diverted military funding toward building a wall on the U.S.–Mexico border, and implemented a family separation policy. He rolled back more than 100 environmental policies and regulations. He signed the Tax Cuts and Jobs Act of 2017, which cut taxes and eliminated the individual health insurance mandate penalty of the Affordable Care Act. He appointed Neil Gorsuch, Brett Kavanaugh, and Amy Coney Barrett to the U.S. Supreme Court. He reacted slowly to the COVID-19 pandemic, ignored or contradicted many recommendations from health officials, used political pressure to interfere with testing efforts, and spread misinformation about unproven treatments. Trump initiated a trade war with China and withdrew the U.S. from the proposed Trans-Pacific Partnership trade agreement, the Paris Agreement on climate change, and the Iran nuclear deal. He met with North Korean leader Kim Jong Un three times but made no progress on denuclearization.\n",
      "Trump is the only U.S. president to have been impeached twice, in 2019 for abuse of power and obstruction of Congress after he pressured Ukraine to investigate Joe Biden, and in 2021 for incitement of insurrection. The Senate acquitted him in both cases. Trump lost the 2020 presidential election to Biden but refused to concede. He falsely claimed widespread electoral fraud and attempted to overturn the results. On January 6, 2021, he urged his supporters to march to the U.S. Capitol, which many of them attacked. Scholars and historians rank Trump as one of the worst presidents in American history.\n",
      "Since leaving office, Trump has continued to dominate the Republican Party and is their nominee again in the 2024 presidential election. In May 2024, a jury in New York found Trump guilty on 34 felony counts of falsifying business records related to a hush money payment to Stormy Daniels in an attempt to influence the 2016 election, making him the first former U.S. president to be convicted of a crime. He has been indicted in three other jurisdictions on 54 other felony counts related to his mishandling of classified documents and for efforts to overturn the 2020 presidential election. In civil proceedings, Trump was found liable for sexual abuse and defamation in 2023, defamation in 2024, and financial fraud in \u001b[0m\u001b[32;1m\u001b[1;3mI now know the final answer.  \n",
      "Final Answer: Donald John Trump (born June 14, 1946) is an American politician, media personality, and businessman who served as the 45th president of the United States from 2017 to 2021. He was the president of the Trump Organization, which he renamed and reoriented towards real estate ventures. Trump gained fame as a reality television star before running for president, winning the election in 2016. His presidency was marked by significant controversies, including impeachment twice, and he has continued to influence the Republican Party since leaving office. He is currently a nominee for the 2024 presidential election.\u001b[0m\n",
      "\n",
      "\u001b[1m> Finished chain.\u001b[0m\n"
     ]
    },
    {
     "data": {
      "text/plain": [
       "{'input': 'Who is Donald Trump',\n",
       " 'output': 'Donald John Trump (born June 14, 1946) is an American politician, media personality, and businessman who served as the 45th president of the United States from 2017 to 2021. He was the president of the Trump Organization, which he renamed and reoriented towards real estate ventures. Trump gained fame as a reality television star before running for president, winning the election in 2016. His presidency was marked by significant controversies, including impeachment twice, and he has continued to influence the Republican Party since leaving office. He is currently a nominee for the 2024 presidential election.'}"
      ]
     },
     "execution_count": 16,
     "metadata": {},
     "output_type": "execute_result"
    }
   ],
   "source": [
    "agent_executor.invoke({'input':\"Who is Donald Trump\"})"
   ]
  },
  {
   "cell_type": "code",
   "execution_count": 31,
   "metadata": {},
   "outputs": [
    {
     "name": "stderr",
     "output_type": "stream",
     "text": [
      "Error in StdOutCallbackHandler.on_chain_start callback: AttributeError(\"'NoneType' object has no attribute 'get'\")\n"
     ]
    },
    {
     "name": "stdout",
     "output_type": "stream",
     "text": [
      "\u001b[32;1m\u001b[1;3mI need to gather current information about the US elections, including details about upcoming elections, candidates, and any notable events. \n",
      "Action: duckduckgo_search \n",
      "Action Input: US elections 2024 updates \u001b[0m\u001b[33;1m\u001b[1;3mFollow here for the latest live news updates on the 2024 presidential race. ... sweeping response to Iranian efforts \"to influence or interfere\" in the 2020 and 2024 US presidential elections. ... 50%. Sept. 27. 46% Trump. 49% Harris. Nate Cohn Chief political analyst. In one sense, new Times/Siena polls in Arizona, Georgia and North Carolina are very clear: They are good numbers for Donald ... Favorability polling average. Updating average for each candidate in 2024 presidential polls, accounting for each poll's recency, sample size, methodology and house effects. Polling averages are adjusted based on state and national polls, which means candidates' averages can shift even if no new polls have been added to this page. Read the. LAST UPDATED Sept. 24. Our latest forecast shows a toss-up race between Vice President Kamala Harris and former President Donald Trump. Harris has a 55-in-100 chance of winning the majority of Electoral College votes, according to our model on Tuesday, Sept. 24 at 6 p.m. Eastern. That's barely better than a coin flip! Election Live Updates: Harris Is Expected to Call for Stronger Border Crackdown During Visit. In her first border visit since she became the Democratic nominee, Vice President Kamala Harris is ... The 2024 presidential election will reverberate through the economy, climate policy, social issues and geopolitics. Follow the stories, results, data and implications here. ... US elections: where ... The latest news and updates on the 2024 election. Follow events from the Harris-Walz and Trump-Vance campaigns ahead of the November presidential election. Updating average for each candidate in 2024 presidential polls, accounting for each poll's recency, sample size, methodology and house effects. Aug. 1, 2024 Sept. 1 0 10 20 30 40 50 60% Harris 48.6% Trump 45.7% Sept. 27, 2024 leader Sept. 27, 2024 leader Harris Harris +2.8. KEY. Every week, we'll update this page with the latest tracking data on all of the major questions heading into the 2024 general election. For our latest state-level tracking of the race in 14 states, as well as key Senate and gubernatorial contests, see here. Sign up for the latest political news and analysis delivered to your inbox every morning. Election Updates: Abortion, inflation, Gaza — 2024's biggest issues are flaring this week for Trump and Biden. Published April 11, 2024 Updated April 13, 2024 Share full article\u001b[0m\u001b[32;1m\u001b[1;3mI have gathered information about the current state of the US elections, specifically focusing on the upcoming 2024 presidential election. This includes polling data and notable events involving key candidates.\n",
      "\n",
      "Final Answer: The 2024 US presidential election is shaping up to be competitive, with Vice President Kamala Harris and former President Donald Trump as prominent candidates. Recent polls indicate a close race, with Harris having a slight lead in favorability ratings. Major issues influencing the election include abortion, inflation, and foreign policy.\u001b[0m\n",
      "\n",
      "\u001b[1m> Finished chain.\u001b[0m\n"
     ]
    },
    {
     "data": {
      "text/plain": [
       "{'input': 'US Elections',\n",
       " 'output': 'The 2024 US presidential election is shaping up to be competitive, with Vice President Kamala Harris and former President Donald Trump as prominent candidates. Recent polls indicate a close race, with Harris having a slight lead in favorability ratings. Major issues influencing the election include abortion, inflation, and foreign policy.'}"
      ]
     },
     "execution_count": 31,
     "metadata": {},
     "output_type": "execute_result"
    }
   ],
   "source": [
    "agent_executor.invoke({'input':\"US Elections\"})"
   ]
  },
  {
   "cell_type": "code",
   "execution_count": 32,
   "metadata": {},
   "outputs": [
    {
     "name": "stderr",
     "output_type": "stream",
     "text": [
      "Error in StdOutCallbackHandler.on_chain_start callback: AttributeError(\"'NoneType' object has no attribute 'get'\")\n"
     ]
    },
    {
     "name": "stdout",
     "output_type": "stream",
     "text": [
      "\u001b[32;1m\u001b[1;3mI need to find out who won the gold medal in swimming at the Paris 2024 Olympics. Since the Olympics have not yet occurred as of my last update, I will search for current information on this event. \n",
      "Action: duckduckgo_search\n",
      "Action Input: \"Paris 2024 Olympics swimming gold medal winners\"\u001b[0m\u001b[33;1m\u001b[1;3mKeep track of the 2024 Olympic swimming results, including the full list of medal winners from each event during the Paris Games. The Sporting News is tracking the live medal count for swimming at the 2024 Olympics. ... bronze medal winners at 2024 Paris Games. ... including 11 who won a gold medal, but it wouldn't be fair ... In the final individual swimming race of the Olympic Games Paris 2024 on Sunday, 4 August, Bobby Finke of Team USA set a new world record in the 1500m freestyle with a time of 14:30.67 to win gold, surpassing the previous mark of 14:31.02.. Italy's Gregorio Paltrinieri took silver with a time of 14:34.55. Ireland's Daniel Wiffen clinched bronze with a time of 14:39.63. A 41-member Australian swimming team, featuring 21 men and 20 women, participated in 35 medal events at the Paris 2024 Olympics and finished with a rich haul of 18 medals - seven gold, 10 silver and three bronze.. The Dolphins' collection from Paris adds to the previous tally 221 medals - 71 gold, 73 silver and 77 bronze - and consolidates swimming as Australia's most rewarding sport at the ... Léon Marchand captures 4th Olympic swimming gold, setting off a party across Paris. Leon Marchand of France, celebrates after winning the men's 200-meter individual medley final at the 2024 Summer Olympics, Friday, Aug. 2, 2024, in Nanterre, France. (AP Photo/Natacha Pisarenko) Leon Marchand of France, poses with his gold medal for the men ... Katie Ledecky has won her ninth career Olympic gold medal on the penultimate night of swimming action here at Paris 2024. Men's 100 fly final: Hungary's Milak gold, Canada bronze and silver Women ... The Washington, D.C., native won four total medals in Paris: gold in the women's 1500m freestyle and 800m freestyle, silver in the 4x200m freestyle relay and bronze in the 400m freestyle. July 28, 20247:25 PM ET. Brian Mann. Leon Marchand, of France, celebrates after receiving his first gold medal in the men's 400-meter individual medley final at the 2024 Paris Summer Olympics on ... With the win, Ledecky now has 12 Olympic medals, including eight gold, to tie American great Jenny Thompson. This was a back-to-back win, as Ledecky won gold at Tokyo 2020 as well, and holds both the world and Olympic records in the 1500m. She won a bronze earlier in the week in the 400m freestyle and will swim again in the 800m freestyle. WATCH: Caeleb Dressel helps US capture first gold medal of 2024 Olympics The U.S. won a third straight Olympic title in men's 4x100m freestyle relay. By Eric Mullin • Published July 27, 2024 ...\u001b[0m\u001b[32;1m\u001b[1;3mI have gathered information on several gold medal winners in swimming at the Paris 2024 Olympics. Notably, Bobby Finke won gold in the men's 1500m freestyle, Léon Marchand won gold in the men's 200-meter individual medley, and Katie Ledecky claimed gold in both the women's 1500m and 800m freestyle events. \n",
      "\n",
      "Final Answer: The gold medal winners in swimming at the Paris 2024 Olympics include Bobby Finke (men's 1500m freestyle), Léon Marchand (men's 200m individual medley), and Katie Ledecky (women's 1500m and 800m freestyle).\u001b[0m\n",
      "\n",
      "\u001b[1m> Finished chain.\u001b[0m\n"
     ]
    },
    {
     "data": {
      "text/plain": [
       "{'input': 'Who won the gold in swimming in Paris 2024',\n",
       " 'output': \"The gold medal winners in swimming at the Paris 2024 Olympics include Bobby Finke (men's 1500m freestyle), Léon Marchand (men's 200m individual medley), and Katie Ledecky (women's 1500m and 800m freestyle).\"}"
      ]
     },
     "execution_count": 32,
     "metadata": {},
     "output_type": "execute_result"
    }
   ],
   "source": [
    "agent_executor.invoke({'input':\"Who won the gold in swimming in Paris 2024\"})"
   ]
  },
  {
   "cell_type": "code",
   "execution_count": 33,
   "metadata": {},
   "outputs": [
    {
     "name": "stderr",
     "output_type": "stream",
     "text": [
      "Error in StdOutCallbackHandler.on_chain_start callback: AttributeError(\"'NoneType' object has no attribute 'get'\")\n"
     ]
    },
    {
     "name": "stdout",
     "output_type": "stream",
     "text": [
      "\u001b[32;1m\u001b[1;3mThe paper \"Attention is All You Need\" introduces a novel architecture for machine translation called the Transformer, which relies entirely on self-attention mechanisms, discarding the recurrent layers commonly used in earlier models. I will look up a summary or key points of this paper to provide a comprehensive overview. \n",
      "\n",
      "Action: arxiv  \n",
      "Action Input: Attention is all you need  \u001b[0m\u001b[36;1m\u001b[1;3mPublished: 2024-07-22\n",
      "Title: Attention Is All You Need But You Don't Need All Of It For Inference of Large Language Models\n",
      "Authors: Georgy Tyukin, Gbetondji J-S Dovonon, Jean Kaddour, Pasquale Minervini\n",
      "Summary: The inference demand for LLMs has skyrocketed in recent months, and serving\n",
      "models with low latencies remains challenging due to the quadratic input length\n",
      "complexity of the attention layers. In this work, we investigate the effect of\n",
      "dropping MLP and attention layers at inference time on the performance of\n",
      "Llama-v2 models. We find that dropping dreeper attention layers only marginally\n",
      "decreases performance but leads to the best speedups alongside dropping entire\n",
      "layers. For example, removing 33\\% of attention layers in a 13B Llama2 model\n",
      "results in a 1.8\\% drop in average performance over the OpenLLM benchmark. We\n",
      "also observe that skipping layers except the latter layers reduces performances\n",
      "for more layers skipped, except for skipping the attention layers.\n",
      "\n",
      "Published: 2021-07-16\n",
      "Title: All the attention you need: Global-local, spatial-channel attention for image retrieval\n",
      "Authors: Chull Hwan Song, Hye Joo Han, Yannis Avrithis\n",
      "Summary: We address representation learning for large-scale instance-level image\n",
      "retrieval. Apart from backbone, training pipelines and loss functions, popular\n",
      "approaches have focused on different spatial pooling and attention mechanisms,\n",
      "which are at the core of learning a powerful global image representation. There\n",
      "are different forms of attention according to the interaction of elements of\n",
      "the feature tensor (local and global) and the dimensions where it is applied\n",
      "(spatial and channel). Unfortunately, each study addresses only one or two\n",
      "forms of attention and applies it to different problems like classification,\n",
      "detection or retrieval.\n",
      "  We present global-local attention module (GLAM), which is attached at the end\n",
      "of a backbone network and incorporates all four forms of attention: local and\n",
      "global, spatial and channel. We obtain a new feature tensor and, by spatial\n",
      "pooling, we learn a powerful embedding for image retrieval. Focusing on global\n",
      "descriptors, we provide empirical evidence of the interaction of all forms of\n",
      "attention and improve the state of the art on standard benchmarks.\n",
      "\n",
      "Published: 2023-06-02\n",
      "Title: RITA: Group Attention is All You Need for Timeseries Analytics\n",
      "Authors: Jiaming Liang, Lei Cao, Samuel Madden, Zachary Ives, Guoliang Li\n",
      "Summary: Timeseries analytics is of great importance in many real-world applications.\n",
      "Recently, the Transformer model, popular in natural language processing, has\n",
      "been leveraged to learn high quality feature embeddings from timeseries, core\n",
      "to the performance of various timeseries analytics tasks. However, the\n",
      "quadratic time and space complexities limit Transformers' scalability,\n",
      "especially for long timeseries. To address these issues, we develop a\n",
      "timeseries analytics tool, RITA, which uses a novel attention mechanism, named\n",
      "group attention, to address this scalability issue. Group attention dynamically\n",
      "clusters the objects based on their similarity into a small number of groups\n",
      "and approximately computes the attention at the coarse group granularity. It\n",
      "thus significantly reduces the time and space complexity, yet provides a\n",
      "theoretical guarantee on the quality of the computed attention. The dynamic\n",
      "scheduler of RITA continuously adapts the number of groups and the batch size\n",
      "in the training process, ensuring group attention always uses the fewest groups\n",
      "needed to meet the approximation quality requirement. Extensive experiments on\n",
      "various timeseries datasets and analytics tasks demonstrate that RITA\n",
      "outperforms the state-of-the-art in accuracy and is significantly faster --\n",
      "with speedups of up to 63X.\u001b[0m\u001b[32;1m\u001b[1;3mThe search did not return the original 2017 paper \"Attention is All You Need,\" but rather other papers related to attention mechanisms. Therefore, I'll search for a summary or a description of the original paper directly.\n",
      "\n",
      "Action: arxiv  \n",
      "Action Input: Attention is All You Need 2017  \u001b[0m\u001b[36;1m\u001b[1;3mPublished: 2024-07-22\n",
      "Title: Attention Is All You Need But You Don't Need All Of It For Inference of Large Language Models\n",
      "Authors: Georgy Tyukin, Gbetondji J-S Dovonon, Jean Kaddour, Pasquale Minervini\n",
      "Summary: The inference demand for LLMs has skyrocketed in recent months, and serving\n",
      "models with low latencies remains challenging due to the quadratic input length\n",
      "complexity of the attention layers. In this work, we investigate the effect of\n",
      "dropping MLP and attention layers at inference time on the performance of\n",
      "Llama-v2 models. We find that dropping dreeper attention layers only marginally\n",
      "decreases performance but leads to the best speedups alongside dropping entire\n",
      "layers. For example, removing 33\\% of attention layers in a 13B Llama2 model\n",
      "results in a 1.8\\% drop in average performance over the OpenLLM benchmark. We\n",
      "also observe that skipping layers except the latter layers reduces performances\n",
      "for more layers skipped, except for skipping the attention layers.\n",
      "\n",
      "Published: 2023-08-02\n",
      "Title: Attention Is All You Need\n",
      "Authors: Ashish Vaswani, Noam Shazeer, Niki Parmar, Jakob Uszkoreit, Llion Jones, Aidan N. Gomez, Lukasz Kaiser, Illia Polosukhin\n",
      "Summary: The dominant sequence transduction models are based on complex recurrent or\n",
      "convolutional neural networks in an encoder-decoder configuration. The best\n",
      "performing models also connect the encoder and decoder through an attention\n",
      "mechanism. We propose a new simple network architecture, the Transformer, based\n",
      "solely on attention mechanisms, dispensing with recurrence and convolutions\n",
      "entirely. Experiments on two machine translation tasks show these models to be\n",
      "superior in quality while being more parallelizable and requiring significantly\n",
      "less time to train. Our model achieves 28.4 BLEU on the WMT 2014\n",
      "English-to-German translation task, improving over the existing best results,\n",
      "including ensembles by over 2 BLEU. On the WMT 2014 English-to-French\n",
      "translation task, our model establishes a new single-model state-of-the-art\n",
      "BLEU score of 41.8 after training for 3.5 days on eight GPUs, a small fraction\n",
      "of the training costs of the best models from the literature. We show that the\n",
      "Transformer generalizes well to other tasks by applying it successfully to\n",
      "English constituency parsing both with large and limited training data.\n",
      "\n",
      "Published: 2018-03-10\n",
      "Title: We Built a Fake News & Click-bait Filter: What Happened Next Will Blow Your Mind!\n",
      "Authors: Georgi Karadzhov, Pepa Gencheva, Preslav Nakov, Ivan Koychev\n",
      "Summary: It is completely amazing! Fake news and click-baits have totally invaded the\n",
      "cyber space. Let us face it: everybody hates them for three simple reasons.\n",
      "Reason #2 will absolutely amaze you. What these can achieve at the time of\n",
      "election will completely blow your mind! Now, we all agree, this cannot go on,\n",
      "you know, somebody has to stop it. So, we did this research on fake\n",
      "news/click-bait detection and trust us, it is totally great research, it really\n",
      "is! Make no mistake. This is the best research ever! Seriously, come have a\n",
      "look, we have it all: neural networks, attention mechanism, sentiment lexicons,\n",
      "author profiling, you name it. Lexical features, semantic features, we\n",
      "absolutely have it all. And we have totally tested it, trust us! We have\n",
      "results, and numbers, really big numbers. The best numbers ever! Oh, and\n",
      "analysis, absolutely top notch analysis. Interested? Come read the shocking\n",
      "truth about fake news and click-bait in the Bulgarian cyber space. You won't\n",
      "believe what we have found!\u001b[0m\u001b[32;1m\u001b[1;3mThe search returned the original paper \"Attention Is All You Need,\" published in 2018, rather than 2017. I will summarize the findings from that paper.\n",
      "\n",
      "The paper introduces the Transformer model, which is designed for sequence transduction tasks, particularly in machine translation. The main innovations include:\n",
      "\n",
      "1. **Architecture**: The Transformer architecture is based entirely on self-attention mechanisms, eliminating the need for recurrent layers or convolutions. This allows for parallelization, leading to more efficient training.\n",
      "\n",
      "2. **Performance**: The Transformer outperforms previous state-of-the-art models on translation tasks, achieving a BLEU score of 28.4 on the WMT 2014 English-to-German task and 41.8 on the English-to-French task, significantly improving over previous results.\n",
      "\n",
      "3. **Generalization**: The model demonstrates strong generalization capabilities, successfully applied to tasks beyond machine translation, including parsing with varying amounts of training data.\n",
      "\n",
      "4. **Efficiency**: Training time is reduced compared to traditional models, achieving superior performance with less computational resources.\n",
      "\n",
      "This paper has had a profound impact on the field of natural language processing and has influenced numerous subsequent models and architectures.\n",
      "\n",
      "Thought: I now know the final answer.\n",
      "Final Answer: The 2017 paper \"Attention Is All You Need\" introduces the Transformer model, which is based entirely on self-attention mechanisms, eliminating recurrent layers. It achieves state-of-the-art performance in machine translation and shows strong generalization capabilities across various tasks, all while being more efficient in training time compared to previous models.\u001b[0m\n",
      "\n",
      "\u001b[1m> Finished chain.\u001b[0m\n"
     ]
    },
    {
     "data": {
      "text/plain": [
       "{'input': 'Summarize the 2017 paper Attention is all you need',\n",
       " 'output': 'The 2017 paper \"Attention Is All You Need\" introduces the Transformer model, which is based entirely on self-attention mechanisms, eliminating recurrent layers. It achieves state-of-the-art performance in machine translation and shows strong generalization capabilities across various tasks, all while being more efficient in training time compared to previous models.'}"
      ]
     },
     "execution_count": 33,
     "metadata": {},
     "output_type": "execute_result"
    }
   ],
   "source": [
    "agent_executor.invoke({'input':\"Summarize the 2017 paper Attention is all you need\"})"
   ]
  }
 ],
 "metadata": {
  "kernelspec": {
   "display_name": "rag",
   "language": "python",
   "name": "python3"
  },
  "language_info": {
   "codemirror_mode": {
    "name": "ipython",
    "version": 3
   },
   "file_extension": ".py",
   "mimetype": "text/x-python",
   "name": "python",
   "nbconvert_exporter": "python",
   "pygments_lexer": "ipython3",
   "version": "3.12.2"
  }
 },
 "nbformat": 4,
 "nbformat_minor": 2
}
