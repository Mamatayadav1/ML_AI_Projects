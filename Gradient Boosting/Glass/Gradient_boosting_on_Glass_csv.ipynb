{
  "cells": [
    {
      "cell_type": "markdown",
      "id": "e03995e0",
      "metadata": {
        "id": "e03995e0",
        "papermill": {
          "duration": 0.01087,
          "end_time": "2024-06-29T07:47:51.572427",
          "exception": false,
          "start_time": "2024-06-29T07:47:51.561557",
          "status": "completed"
        },
        "tags": []
      },
      "source": [
        "\n",
        "# **The principle of operation of gradient boosting for regression**\n",
        "\n",
        "The algorithm is constructed as follows:\n",
        "- 1) the initial prediction is assigned the average value of y_train for all samples;\n",
        "- 2) the residuals of the model are calculated based on the anti-gradient of the loss function;\n",
        "- 3) the regression tree is trained on X_train and residuals, then a prediction is made on X_train;\n",
        "- 4) the resulting prediction is added to the original one and steps 2-4 are repeated for each tree;\n",
        "- 5) after training all models, the initial prediction from step 1 is created again;\n",
        "- 6) next, predictions are made for X_test on trained trees and added to the initial one;\n",
        "- 7) the amount received will be the final prediction.\n",
        "\n",
        "**Formulas for calculations**\n",
        "\n",
        "$L(y_i, F(x_i)) = \\frac{1}{2} (y_i - F(x_i))^2 \\ - \\ $ loss function\n",
        "\n",
        "$r_{ik} = -\\left[\\frac{\\partial L(y_i, F(x_i))}{\\partial F(x_i)}\\right]_\n",
        "{F(x) = F_{m-1}(x)} = y_{i} - F_{m-1}(x_i) \\ - \\ $ residuals"
      ]
    },
    {
      "cell_type": "markdown",
      "id": "569e745e",
      "metadata": {
        "id": "569e745e",
        "papermill": {
          "duration": 0.010889,
          "end_time": "2024-06-29T07:47:51.594785",
          "exception": false,
          "start_time": "2024-06-29T07:47:51.583896",
          "status": "completed"
        },
        "tags": []
      },
      "source": [
        "# **The principle of operation of gradient boosting for classification**\n",
        "In the case of classification things are a little more complicated: one-hot encoding must be applied to each unique class and translated into probabilities using a softmax function and a $\\gamma$ coefficient must be added to tree predictions which regulates the degree of contribution of each new tree to the overall model to reduce overfitting. Also the quality of gradient boosting predictions can be significantly improved by applying the K-class LogitBoost concept: weights are calculated for each tree and only then the residuals are based on them.\n",
        "\n",
        "The algorithm is constructed as follows:\n",
        "- 1) one-hot encoding is used for y_train and the initial prediction is assigned values of 0 for each class;\n",
        "- 2) predictions are converted into probabilities using the softmax function;\n",
        "- 3) the residuals of the model are calculated based on the anti-gradient of the loss function and probabilities (as well as the weight in the case of LogitBoost);\n",
        "- 4) the regression tree is trained on X_train and residuals (and in the case of LogitBoost, weights are also assigned), then a prediction is made on X_train;\n",
        "- 5) for each leaf in the tree the coefficients $\\gamma$ are calculated based on the residuals taken from the positions of observations that fell into a certain leaf node;\n",
        "- 6) the obtained predictions for each class and the sum of the coefficients $\\gamma$ are added to the initial ones;\n",
        "- 7) steps 2-6 are repeated for each tree in each class;\n",
        "- 8) after training all models an initial prediction is created from step 1;\n",
        "- 9) next, predictions are made for X_test on trained trees for each class and added to the initial ones;\n",
        "- 10) classes with the maximum amount will be the final prediction.\n",
        "\n",
        "**Formulas for calculations**\n",
        "\n",
        "$L(\\{y_k, F_k(x)\\}_{1}^{K}) = -\\sum\\limits_{k=1}^{K} y_k \\ log \\ p_k(x) \\ - \\ $ loss function\n",
        "\n",
        "$p_k(x) = softmax(F_k(x)) = \\frac{e^{F_k(x)}}{\\sum\\limits_{l=1}^{K} e^{F_l(x)}} \\ - \\ $ probability of each class\n",
        "\n",
        "$r_{ik} = -\\left[\\frac{\\partial L(\\{y_{il}, F_l(x_i)\\}_{l=1}^{K})}{\\partial F_k(x_i)}\\right]_\n",
        "{\\{F_l(x) = F_{l,m-1}(x)\\}_{1}^{K}} = y_{ik} - p_{k,m-1}(x_i) \\ - \\ $ residuals\n",
        "\n",
        "$\\gamma_{jkm} = \\frac{K-1}{K} \\frac{\\sum_{x_i \\in R_{jkm}} r_{ik}}\n",
        "{\\sum_{x_i \\in R_{jkm}} |r_{ik}| (1 - |r_{ik}|)}$\n",
        "\n",
        "$w_k(x_i) = p_k(x_i) (1 - p_k(x_i)) \\ - \\ $ weigts for K-class LogitBoost\n",
        "\n",
        "$r_{ik} = \\frac{K-1}{K} \\frac{y_{ik} - p_k(x_i)}{w_k(x_i)} \\ - \\ $ residuals for K-class LogitBoost"
      ]
    },
    {
      "cell_type": "markdown",
      "id": "65c6223e",
      "metadata": {
        "id": "65c6223e",
        "papermill": {
          "duration": 0.010946,
          "end_time": "2024-06-29T07:47:51.617163",
          "exception": false,
          "start_time": "2024-06-29T07:47:51.606217",
          "status": "completed"
        },
        "tags": []
      },
      "source": [
        "### **Python implementation from scratch**"
      ]
    },
    {
      "cell_type": "code",
      "execution_count": 1,
      "id": "e629f02d",
      "metadata": {
        "execution": {
          "iopub.execute_input": "2024-06-29T07:47:51.642238Z",
          "iopub.status.busy": "2024-06-29T07:47:51.641839Z",
          "iopub.status.idle": "2024-06-29T07:47:54.653835Z",
          "shell.execute_reply": "2024-06-29T07:47:54.652794Z"
        },
        "id": "e629f02d",
        "papermill": {
          "duration": 3.027299,
          "end_time": "2024-06-29T07:47:54.656520",
          "exception": false,
          "start_time": "2024-06-29T07:47:51.629221",
          "status": "completed"
        },
        "tags": []
      },
      "outputs": [],
      "source": [
        "import numpy as np\n",
        "import pandas as pd\n",
        "import matplotlib.pyplot as plt\n",
        "from sklearn.datasets import load_diabetes\n",
        "from sklearn.preprocessing import LabelEncoder\n",
        "from sklearn.model_selection import train_test_split\n",
        "from sklearn.metrics import accuracy_score, mean_absolute_percentage_error\n",
        "from sklearn.tree import DecisionTreeRegressor\n",
        "from sklearn.ensemble import GradientBoostingClassifier, GradientBoostingRegressor\n",
        "from sklearn.ensemble import HistGradientBoostingClassifier, HistGradientBoostingRegressor\n",
        "from mlxtend.plotting import plot_decision_regions"
      ]
    },
    {
      "cell_type": "code",
      "execution_count": 2,
      "id": "3736d7ed",
      "metadata": {
        "execution": {
          "iopub.execute_input": "2024-06-29T07:47:54.681795Z",
          "iopub.status.busy": "2024-06-29T07:47:54.680767Z",
          "iopub.status.idle": "2024-06-29T07:47:54.702615Z",
          "shell.execute_reply": "2024-06-29T07:47:54.701381Z"
        },
        "id": "3736d7ed",
        "papermill": {
          "duration": 0.037028,
          "end_time": "2024-06-29T07:47:54.705045",
          "exception": false,
          "start_time": "2024-06-29T07:47:54.668017",
          "status": "completed"
        },
        "tags": []
      },
      "outputs": [],
      "source": [
        "class GBMClassifier:\n",
        "    def __init__(self, logitboost=False, learning_rate=0.1, n_estimators=100,\n",
        "                 max_depth=3, random_state=0):\n",
        "        self.logitboost = logitboost\n",
        "        self.learning_rate = learning_rate\n",
        "        self.n_estimators = n_estimators\n",
        "        self.max_depth = max_depth\n",
        "        self.random_state = random_state\n",
        "\n",
        "    def _softmax(self, predictions):\n",
        "        exp = np.exp(predictions)\n",
        "\n",
        "        return exp / np.sum(exp, axis=1, keepdims=True)\n",
        "\n",
        "    def _compute_gammas(self, residuals, leaf_indexes, eps=1e-4):\n",
        "        gammas = []\n",
        "\n",
        "        for j in np.unique(leaf_indexes):\n",
        "            x_i = np.where(leaf_indexes == j)\n",
        "            numerator = np.sum(residuals[x_i])\n",
        "            norm_residuals_xi = np.linalg.norm(residuals[x_i]) + eps\n",
        "            denominator = np.sum(norm_residuals_xi * (1 - norm_residuals_xi))\n",
        "            gamma = (self.K - 1) / self.K * numerator / denominator\n",
        "            gammas.append(gamma)\n",
        "\n",
        "        return gammas\n",
        "\n",
        "    def fit(self, X, y):\n",
        "        self.K = len(np.unique(y))\n",
        "        self.trees = {k: [] for k in range(self.K)}\n",
        "        one_hot_y = pd.get_dummies(y).to_numpy()   # one-hot encoding\n",
        "        predictions = np.zeros(one_hot_y.shape)\n",
        "\n",
        "        for _ in range(self.n_estimators):\n",
        "            probabilities = self._softmax(predictions)\n",
        "\n",
        "            for k in range(self.K):\n",
        "                if self.logitboost:   # based on K-class LogitBoost\n",
        "                    numerator = (one_hot_y.T[k] - probabilities.T[k])\n",
        "                    denominator = probabilities.T[k] * (1 - probabilities.T[k])\n",
        "                    residuals = (self.K - 1) / self.K * numerator / denominator\n",
        "                    weights = denominator\n",
        "                else:\n",
        "                    residuals = one_hot_y.T[k] - probabilities.T[k]\n",
        "                    weights = None\n",
        "\n",
        "                tree = DecisionTreeRegressor(criterion='friedman_mse', max_depth=self.max_depth,\n",
        "                                             random_state=self.random_state)\n",
        "                tree.fit(X, residuals, sample_weight=weights)\n",
        "                self.trees[k].append(tree)\n",
        "\n",
        "                leaf_indexes = tree.apply(X)\n",
        "                gammas = [] if self.logitboost else self._compute_gammas(residuals, leaf_indexes)\n",
        "                predictions.T[k] += self.learning_rate * tree.predict(X) + np.sum(gammas)\n",
        "\n",
        "    def predict(self, samples):\n",
        "        predictions = np.zeros((len(samples), self.K))\n",
        "\n",
        "        for i in range(self.n_estimators):\n",
        "            for k in range(self.K):\n",
        "                predictions.T[k] += self.learning_rate * self.trees[k][i].predict(samples)\n",
        "\n",
        "        return np.argmax(predictions, axis=1)"
      ]
    },
    {
      "cell_type": "code",
      "execution_count": 3,
      "id": "23b00981",
      "metadata": {
        "execution": {
          "iopub.execute_input": "2024-06-29T07:47:54.729588Z",
          "iopub.status.busy": "2024-06-29T07:47:54.729139Z",
          "iopub.status.idle": "2024-06-29T07:47:54.739763Z",
          "shell.execute_reply": "2024-06-29T07:47:54.738652Z"
        },
        "id": "23b00981",
        "papermill": {
          "duration": 0.025821,
          "end_time": "2024-06-29T07:47:54.742254",
          "exception": false,
          "start_time": "2024-06-29T07:47:54.716433",
          "status": "completed"
        },
        "tags": []
      },
      "outputs": [],
      "source": [
        "class GBMRegressor:\n",
        "    def __init__(self, learning_rate=0.1, n_estimators=100, max_depth=3, random_state=0):\n",
        "        self.learning_rate = learning_rate\n",
        "        self.n_estimators = n_estimators\n",
        "        self.max_depth = max_depth\n",
        "        self.random_state = random_state\n",
        "        self.trees = []\n",
        "\n",
        "    def fit(self, X, y):\n",
        "        self.initial_leaf = y.mean()\n",
        "        predictions = np.zeros(len(y)) + self.initial_leaf\n",
        "\n",
        "        for _ in range(self.n_estimators):\n",
        "            residuals = y - predictions\n",
        "            tree = DecisionTreeRegressor(criterion='friedman_mse', max_depth=self.max_depth,\n",
        "                                         random_state=self.random_state)\n",
        "            tree.fit(X, residuals)\n",
        "            predictions += self.learning_rate * tree.predict(X)\n",
        "            self.trees.append(tree)\n",
        "\n",
        "    def predict(self, samples):\n",
        "        predictions = np.zeros(len(samples)) + self.initial_leaf\n",
        "\n",
        "        for i in range(self.n_estimators):\n",
        "            predictions += self.learning_rate * self.trees[i].predict(samples)\n",
        "\n",
        "        return predictions"
      ]
    },
    {
      "cell_type": "code",
      "execution_count": 4,
      "id": "87a2777b",
      "metadata": {
        "execution": {
          "iopub.execute_input": "2024-06-29T07:47:54.766505Z",
          "iopub.status.busy": "2024-06-29T07:47:54.766064Z",
          "iopub.status.idle": "2024-06-29T07:47:54.773457Z",
          "shell.execute_reply": "2024-06-29T07:47:54.772314Z"
        },
        "id": "87a2777b",
        "papermill": {
          "duration": 0.022414,
          "end_time": "2024-06-29T07:47:54.775932",
          "exception": false,
          "start_time": "2024-06-29T07:47:54.753518",
          "status": "completed"
        },
        "tags": []
      },
      "outputs": [],
      "source": [
        "def decision_boundary_plot(X, y, X_train, y_train, clf, feature_indexes, title=None):\n",
        "    feature1_name, feature2_name = X.columns[feature_indexes]\n",
        "    X_feature_columns = X.values[:, feature_indexes]\n",
        "    X_train_feature_columns = X_train.values[:, feature_indexes]\n",
        "    clf.fit(X_train_feature_columns, y_train.values)\n",
        "\n",
        "    plot_decision_regions(X=X_feature_columns, y=y.values, clf=clf)\n",
        "    plt.xlabel(feature1_name)\n",
        "    plt.ylabel(feature2_name)\n",
        "    plt.title(title)"
      ]
    },
    {
      "cell_type": "markdown",
      "id": "d655949c",
      "metadata": {
        "id": "d655949c",
        "papermill": {
          "duration": 0.010929,
          "end_time": "2024-06-29T07:47:54.798308",
          "exception": false,
          "start_time": "2024-06-29T07:47:54.787379",
          "status": "completed"
        },
        "tags": []
      },
      "source": [
        "### **Uploading datasets**\n",
        "[Glass Classification](https://www.kaggle.com/datasets/uciml/glass) dataset will be used to train models, where it is necessary to correctly determine the type of glass by its characteristics. In the case of regression, Diabetes dataset from scikit-learn is used.\n",
        "\n",
        "**The data below will be used in the examples for all modifications of gradient boosting**."
      ]
    },
    {
      "cell_type": "code",
      "execution_count": 5,
      "id": "9465b9a3",
      "metadata": {
        "execution": {
          "iopub.execute_input": "2024-06-29T07:47:54.822670Z",
          "iopub.status.busy": "2024-06-29T07:47:54.822243Z",
          "iopub.status.idle": "2024-06-29T07:47:54.868572Z",
          "shell.execute_reply": "2024-06-29T07:47:54.867269Z"
        },
        "id": "9465b9a3",
        "papermill": {
          "duration": 0.061604,
          "end_time": "2024-06-29T07:47:54.871210",
          "exception": false,
          "start_time": "2024-06-29T07:47:54.809606",
          "status": "completed"
        },
        "tags": []
      },
      "outputs": [],
      "source": [
        "glass_df = pd.read_csv('/content/glass.csv')"
      ]
    },
    {
      "cell_type": "code",
      "source": [
        "print(glass_df)"
      ],
      "metadata": {
        "colab": {
          "base_uri": "https://localhost:8080/"
        },
        "id": "pI8Sh6I_rEYM",
        "outputId": "d61fcbc3-3367-4921-a06b-9888bf54dbb3"
      },
      "id": "pI8Sh6I_rEYM",
      "execution_count": 9,
      "outputs": [
        {
          "output_type": "stream",
          "name": "stdout",
          "text": [
            "          RI     Na    Mg    Al     Si     K    Ca    Ba   Fe  Type\n",
            "0    1.52101  13.64  4.49  1.10  71.78  0.06  8.75  0.00  0.0     1\n",
            "1    1.51761  13.89  3.60  1.36  72.73  0.48  7.83  0.00  0.0     1\n",
            "2    1.51618  13.53  3.55  1.54  72.99  0.39  7.78  0.00  0.0     1\n",
            "3    1.51766  13.21  3.69  1.29  72.61  0.57  8.22  0.00  0.0     1\n",
            "4    1.51742  13.27  3.62  1.24  73.08  0.55  8.07  0.00  0.0     1\n",
            "..       ...    ...   ...   ...    ...   ...   ...   ...  ...   ...\n",
            "209  1.51623  14.14  0.00  2.88  72.61  0.08  9.18  1.06  0.0     7\n",
            "210  1.51685  14.92  0.00  1.99  73.06  0.00  8.40  1.59  0.0     7\n",
            "211  1.52065  14.36  0.00  2.02  73.42  0.00  8.44  1.64  0.0     7\n",
            "212  1.51651  14.38  0.00  1.94  73.61  0.00  8.48  1.57  0.0     7\n",
            "213  1.51711  14.23  0.00  2.08  73.36  0.00  8.62  1.67  0.0     7\n",
            "\n",
            "[214 rows x 10 columns]\n"
          ]
        }
      ]
    },
    {
      "cell_type": "code",
      "source": [
        "X1, y1 = glass_df.iloc[:, :-1], glass_df.iloc[:, -1]"
      ],
      "metadata": {
        "id": "MnBmlBXuq8kd"
      },
      "id": "MnBmlBXuq8kd",
      "execution_count": 6,
      "outputs": []
    },
    {
      "cell_type": "code",
      "source": [
        "y1 = pd.Series(LabelEncoder().fit_transform(y1))"
      ],
      "metadata": {
        "id": "Gbv-9OlIq-bK"
      },
      "id": "Gbv-9OlIq-bK",
      "execution_count": 7,
      "outputs": []
    },
    {
      "cell_type": "code",
      "source": [
        "X1_train, X1_test, y1_train, y1_test = train_test_split(X1, y1, random_state=0)"
      ],
      "metadata": {
        "id": "jm8BGxizq-em"
      },
      "id": "jm8BGxizq-em",
      "execution_count": 8,
      "outputs": []
    },
    {
      "cell_type": "code",
      "execution_count": 10,
      "id": "aaf5f11e",
      "metadata": {
        "execution": {
          "iopub.execute_input": "2024-06-29T07:47:54.898352Z",
          "iopub.status.busy": "2024-06-29T07:47:54.897270Z",
          "iopub.status.idle": "2024-06-29T07:47:54.927157Z",
          "shell.execute_reply": "2024-06-29T07:47:54.925926Z"
        },
        "id": "aaf5f11e",
        "papermill": {
          "duration": 0.045845,
          "end_time": "2024-06-29T07:47:54.929764",
          "exception": false,
          "start_time": "2024-06-29T07:47:54.883919",
          "status": "completed"
        },
        "tags": []
      },
      "outputs": [],
      "source": [
        "X2, y2 = load_diabetes(return_X_y=True, as_frame=True)"
      ]
    },
    {
      "cell_type": "code",
      "source": [
        "X2_train, X2_test, y2_train, y2_test = train_test_split(X2, y2, random_state=0)"
      ],
      "metadata": {
        "id": "NNTtvXSYrejq"
      },
      "id": "NNTtvXSYrejq",
      "execution_count": 11,
      "outputs": []
    },
    {
      "cell_type": "code",
      "source": [
        "print(X2, y2, sep='\\n')"
      ],
      "metadata": {
        "colab": {
          "base_uri": "https://localhost:8080/"
        },
        "id": "b4d4jjOYrjyK",
        "outputId": "56c7ba39-2444-42cb-c9dc-b6d36500e7e4"
      },
      "id": "b4d4jjOYrjyK",
      "execution_count": 12,
      "outputs": [
        {
          "output_type": "stream",
          "name": "stdout",
          "text": [
            "          age       sex       bmi        bp        s1        s2        s3  \\\n",
            "0    0.038076  0.050680  0.061696  0.021872 -0.044223 -0.034821 -0.043401   \n",
            "1   -0.001882 -0.044642 -0.051474 -0.026328 -0.008449 -0.019163  0.074412   \n",
            "2    0.085299  0.050680  0.044451 -0.005670 -0.045599 -0.034194 -0.032356   \n",
            "3   -0.089063 -0.044642 -0.011595 -0.036656  0.012191  0.024991 -0.036038   \n",
            "4    0.005383 -0.044642 -0.036385  0.021872  0.003935  0.015596  0.008142   \n",
            "..        ...       ...       ...       ...       ...       ...       ...   \n",
            "437  0.041708  0.050680  0.019662  0.059744 -0.005697 -0.002566 -0.028674   \n",
            "438 -0.005515  0.050680 -0.015906 -0.067642  0.049341  0.079165 -0.028674   \n",
            "439  0.041708  0.050680 -0.015906  0.017293 -0.037344 -0.013840 -0.024993   \n",
            "440 -0.045472 -0.044642  0.039062  0.001215  0.016318  0.015283 -0.028674   \n",
            "441 -0.045472 -0.044642 -0.073030 -0.081413  0.083740  0.027809  0.173816   \n",
            "\n",
            "           s4        s5        s6  \n",
            "0   -0.002592  0.019907 -0.017646  \n",
            "1   -0.039493 -0.068332 -0.092204  \n",
            "2   -0.002592  0.002861 -0.025930  \n",
            "3    0.034309  0.022688 -0.009362  \n",
            "4   -0.002592 -0.031988 -0.046641  \n",
            "..        ...       ...       ...  \n",
            "437 -0.002592  0.031193  0.007207  \n",
            "438  0.034309 -0.018114  0.044485  \n",
            "439 -0.011080 -0.046883  0.015491  \n",
            "440  0.026560  0.044529 -0.025930  \n",
            "441 -0.039493 -0.004222  0.003064  \n",
            "\n",
            "[442 rows x 10 columns]\n",
            "0      151.0\n",
            "1       75.0\n",
            "2      141.0\n",
            "3      206.0\n",
            "4      135.0\n",
            "       ...  \n",
            "437    178.0\n",
            "438    104.0\n",
            "439    132.0\n",
            "440    220.0\n",
            "441     57.0\n",
            "Name: target, Length: 442, dtype: float64\n"
          ]
        }
      ]
    },
    {
      "cell_type": "markdown",
      "id": "62e5e7d7",
      "metadata": {
        "id": "62e5e7d7",
        "papermill": {
          "duration": 0.011368,
          "end_time": "2024-06-29T07:47:54.952887",
          "exception": false,
          "start_time": "2024-06-29T07:47:54.941519",
          "status": "completed"
        },
        "tags": []
      },
      "source": [
        "# **Model training and evaluation of the obtained results**  \n",
        "In the case of classification the manual implementation differs slightly in terms of accuracy from scikit-learn. This is due to the fact that the latter uses a more sophisticated approach for predicting and calculating residuals, but the essence remains the same and in most cases it works about the same as the manual implementation, especially in comparison with the LogitBoost modification.\n",
        "\n",
        "In the case of regression the error in manual implementation is even slightly lower than in scikit-learn — the differences are insignificant.\n",
        "\n",
        "It is also worth noting that scikit-learn has a special version of gradient boosting — HistGradientBoosting based on LightGBM, designed to work with large datasets which performs much faster and more often better than classic gradient boosting.\n",
        "\n",
        "The results are shown below."
      ]
    },
    {
      "cell_type": "markdown",
      "id": "4ff2ad80",
      "metadata": {
        "id": "4ff2ad80",
        "papermill": {
          "duration": 0.011223,
          "end_time": "2024-06-29T07:47:54.975862",
          "exception": false,
          "start_time": "2024-06-29T07:47:54.964639",
          "status": "completed"
        },
        "tags": []
      },
      "source": [
        "**GBMClassifier**"
      ]
    },
    {
      "cell_type": "code",
      "execution_count": 13,
      "id": "5fb70e61",
      "metadata": {
        "execution": {
          "iopub.execute_input": "2024-06-29T07:47:55.001624Z",
          "iopub.status.busy": "2024-06-29T07:47:55.001169Z",
          "iopub.status.idle": "2024-06-29T07:47:58.712036Z",
          "shell.execute_reply": "2024-06-29T07:47:58.710838Z"
        },
        "id": "5fb70e61",
        "papermill": {
          "duration": 3.726848,
          "end_time": "2024-06-29T07:47:58.714926",
          "exception": false,
          "start_time": "2024-06-29T07:47:54.988078",
          "status": "completed"
        },
        "tags": []
      },
      "outputs": [],
      "source": [
        "gbc = GBMClassifier(random_state=0)\n",
        "gbc.fit(X1_train, y1_train)"
      ]
    },
    {
      "cell_type": "code",
      "source": [
        "gbc_pred_res = gbc.predict(X1_test)"
      ],
      "metadata": {
        "id": "8qaI6f1fuWFC"
      },
      "id": "8qaI6f1fuWFC",
      "execution_count": 14,
      "outputs": []
    },
    {
      "cell_type": "code",
      "source": [
        "gbc_accuracy = accuracy_score(y1_test, gbc_pred_res)"
      ],
      "metadata": {
        "id": "AX98jLmuuYsG"
      },
      "id": "AX98jLmuuYsG",
      "execution_count": 15,
      "outputs": []
    },
    {
      "cell_type": "code",
      "source": [
        "print(f'gbc accuracy: {gbc_accuracy}')\n",
        "print(gbc_pred_res)"
      ],
      "metadata": {
        "colab": {
          "base_uri": "https://localhost:8080/"
        },
        "id": "jc-wG4w3uciA",
        "outputId": "edbcdde2-5928-4637-8d7c-356af60cb26c"
      },
      "id": "jc-wG4w3uciA",
      "execution_count": 16,
      "outputs": [
        {
          "output_type": "stream",
          "name": "stdout",
          "text": [
            "gbc accuracy: 0.6111111111111112\n",
            "[5 0 1 4 1 1 0 1 1 1 1 0 1 1 1 5 0 1 1 1 5 0 5 5 1 0 5 0 1 0 0 4 1 0 0 0 0\n",
            " 0 0 5 1 4 1 0 0 1 0 1 0 1 0 3 5 0]\n"
          ]
        }
      ]
    },
    {
      "cell_type": "markdown",
      "id": "724c8378",
      "metadata": {
        "id": "724c8378",
        "papermill": {
          "duration": 0.011623,
          "end_time": "2024-06-29T07:47:58.738443",
          "exception": false,
          "start_time": "2024-06-29T07:47:58.726820",
          "status": "completed"
        },
        "tags": []
      },
      "source": [
        "**GBMClassifier with LogitBoost concept**"
      ]
    },
    {
      "cell_type": "code",
      "execution_count": 17,
      "id": "db97e18f",
      "metadata": {
        "execution": {
          "iopub.execute_input": "2024-06-29T07:47:58.764226Z",
          "iopub.status.busy": "2024-06-29T07:47:58.763795Z",
          "iopub.status.idle": "2024-06-29T07:48:02.335554Z",
          "shell.execute_reply": "2024-06-29T07:48:02.332927Z"
        },
        "id": "db97e18f",
        "papermill": {
          "duration": 3.587998,
          "end_time": "2024-06-29T07:48:02.338479",
          "exception": false,
          "start_time": "2024-06-29T07:47:58.750481",
          "status": "completed"
        },
        "tags": []
      },
      "outputs": [],
      "source": [
        "logit_bc = GBMClassifier(logitboost=True, random_state=0)\n",
        "logit_bc.fit(X1_train, y1_train)"
      ]
    },
    {
      "cell_type": "code",
      "source": [
        "logit_bc_pred_res = logit_bc.predict(X1_test)"
      ],
      "metadata": {
        "id": "Lg0iQKgfuokE"
      },
      "id": "Lg0iQKgfuokE",
      "execution_count": 18,
      "outputs": []
    },
    {
      "cell_type": "code",
      "source": [
        "logit_bc_accuracy = accuracy_score(y1_test, logit_bc_pred_res)"
      ],
      "metadata": {
        "id": "qWV7pvqXuopz"
      },
      "id": "qWV7pvqXuopz",
      "execution_count": 19,
      "outputs": []
    },
    {
      "cell_type": "code",
      "source": [
        "print(f'logit_gbc accuracy: {logit_bc_accuracy}')\n",
        "print(logit_bc_pred_res)"
      ],
      "metadata": {
        "colab": {
          "base_uri": "https://localhost:8080/"
        },
        "id": "KCtp_Uuouo2L",
        "outputId": "d694a662-48a7-4b20-cec1-2b70a6bfc145"
      },
      "id": "KCtp_Uuouo2L",
      "execution_count": 20,
      "outputs": [
        {
          "output_type": "stream",
          "name": "stdout",
          "text": [
            "logit_gbc accuracy: 0.6666666666666666\n",
            "[5 0 1 4 1 1 0 1 1 1 1 0 0 1 1 5 2 1 1 0 3 0 5 1 2 0 5 0 0 1 0 0 1 0 0 0 0\n",
            " 2 0 5 1 4 1 0 1 1 0 1 0 1 0 1 5 0]\n"
          ]
        }
      ]
    },
    {
      "cell_type": "markdown",
      "id": "849aa90b",
      "metadata": {
        "id": "849aa90b",
        "papermill": {
          "duration": 0.011388,
          "end_time": "2024-06-29T07:48:02.361966",
          "exception": false,
          "start_time": "2024-06-29T07:48:02.350578",
          "status": "completed"
        },
        "tags": []
      },
      "source": [
        "**GradientBoostingClassifier (scikit-learn)**"
      ]
    },
    {
      "cell_type": "code",
      "execution_count": 21,
      "id": "3268a668",
      "metadata": {
        "execution": {
          "iopub.execute_input": "2024-06-29T07:48:02.387143Z",
          "iopub.status.busy": "2024-06-29T07:48:02.386731Z",
          "iopub.status.idle": "2024-06-29T07:48:06.022335Z",
          "shell.execute_reply": "2024-06-29T07:48:06.021150Z"
        },
        "id": "3268a668",
        "outputId": "d54bd5ea-455f-464d-e9b8-134f58b0c5d2",
        "papermill": {
          "duration": 3.650995,
          "end_time": "2024-06-29T07:48:06.024717",
          "exception": false,
          "start_time": "2024-06-29T07:48:02.373722",
          "status": "completed"
        },
        "tags": [],
        "colab": {
          "base_uri": "https://localhost:8080/",
          "height": 80
        }
      },
      "outputs": [
        {
          "output_type": "execute_result",
          "data": {
            "text/plain": [
              "GradientBoostingClassifier(random_state=0)"
            ],
            "text/html": [
              "<style>#sk-container-id-1 {\n",
              "  /* Definition of color scheme common for light and dark mode */\n",
              "  --sklearn-color-text: #000;\n",
              "  --sklearn-color-text-muted: #666;\n",
              "  --sklearn-color-line: gray;\n",
              "  /* Definition of color scheme for unfitted estimators */\n",
              "  --sklearn-color-unfitted-level-0: #fff5e6;\n",
              "  --sklearn-color-unfitted-level-1: #f6e4d2;\n",
              "  --sklearn-color-unfitted-level-2: #ffe0b3;\n",
              "  --sklearn-color-unfitted-level-3: chocolate;\n",
              "  /* Definition of color scheme for fitted estimators */\n",
              "  --sklearn-color-fitted-level-0: #f0f8ff;\n",
              "  --sklearn-color-fitted-level-1: #d4ebff;\n",
              "  --sklearn-color-fitted-level-2: #b3dbfd;\n",
              "  --sklearn-color-fitted-level-3: cornflowerblue;\n",
              "\n",
              "  /* Specific color for light theme */\n",
              "  --sklearn-color-text-on-default-background: var(--sg-text-color, var(--theme-code-foreground, var(--jp-content-font-color1, black)));\n",
              "  --sklearn-color-background: var(--sg-background-color, var(--theme-background, var(--jp-layout-color0, white)));\n",
              "  --sklearn-color-border-box: var(--sg-text-color, var(--theme-code-foreground, var(--jp-content-font-color1, black)));\n",
              "  --sklearn-color-icon: #696969;\n",
              "\n",
              "  @media (prefers-color-scheme: dark) {\n",
              "    /* Redefinition of color scheme for dark theme */\n",
              "    --sklearn-color-text-on-default-background: var(--sg-text-color, var(--theme-code-foreground, var(--jp-content-font-color1, white)));\n",
              "    --sklearn-color-background: var(--sg-background-color, var(--theme-background, var(--jp-layout-color0, #111)));\n",
              "    --sklearn-color-border-box: var(--sg-text-color, var(--theme-code-foreground, var(--jp-content-font-color1, white)));\n",
              "    --sklearn-color-icon: #878787;\n",
              "  }\n",
              "}\n",
              "\n",
              "#sk-container-id-1 {\n",
              "  color: var(--sklearn-color-text);\n",
              "}\n",
              "\n",
              "#sk-container-id-1 pre {\n",
              "  padding: 0;\n",
              "}\n",
              "\n",
              "#sk-container-id-1 input.sk-hidden--visually {\n",
              "  border: 0;\n",
              "  clip: rect(1px 1px 1px 1px);\n",
              "  clip: rect(1px, 1px, 1px, 1px);\n",
              "  height: 1px;\n",
              "  margin: -1px;\n",
              "  overflow: hidden;\n",
              "  padding: 0;\n",
              "  position: absolute;\n",
              "  width: 1px;\n",
              "}\n",
              "\n",
              "#sk-container-id-1 div.sk-dashed-wrapped {\n",
              "  border: 1px dashed var(--sklearn-color-line);\n",
              "  margin: 0 0.4em 0.5em 0.4em;\n",
              "  box-sizing: border-box;\n",
              "  padding-bottom: 0.4em;\n",
              "  background-color: var(--sklearn-color-background);\n",
              "}\n",
              "\n",
              "#sk-container-id-1 div.sk-container {\n",
              "  /* jupyter's `normalize.less` sets `[hidden] { display: none; }`\n",
              "     but bootstrap.min.css set `[hidden] { display: none !important; }`\n",
              "     so we also need the `!important` here to be able to override the\n",
              "     default hidden behavior on the sphinx rendered scikit-learn.org.\n",
              "     See: https://github.com/scikit-learn/scikit-learn/issues/21755 */\n",
              "  display: inline-block !important;\n",
              "  position: relative;\n",
              "}\n",
              "\n",
              "#sk-container-id-1 div.sk-text-repr-fallback {\n",
              "  display: none;\n",
              "}\n",
              "\n",
              "div.sk-parallel-item,\n",
              "div.sk-serial,\n",
              "div.sk-item {\n",
              "  /* draw centered vertical line to link estimators */\n",
              "  background-image: linear-gradient(var(--sklearn-color-text-on-default-background), var(--sklearn-color-text-on-default-background));\n",
              "  background-size: 2px 100%;\n",
              "  background-repeat: no-repeat;\n",
              "  background-position: center center;\n",
              "}\n",
              "\n",
              "/* Parallel-specific style estimator block */\n",
              "\n",
              "#sk-container-id-1 div.sk-parallel-item::after {\n",
              "  content: \"\";\n",
              "  width: 100%;\n",
              "  border-bottom: 2px solid var(--sklearn-color-text-on-default-background);\n",
              "  flex-grow: 1;\n",
              "}\n",
              "\n",
              "#sk-container-id-1 div.sk-parallel {\n",
              "  display: flex;\n",
              "  align-items: stretch;\n",
              "  justify-content: center;\n",
              "  background-color: var(--sklearn-color-background);\n",
              "  position: relative;\n",
              "}\n",
              "\n",
              "#sk-container-id-1 div.sk-parallel-item {\n",
              "  display: flex;\n",
              "  flex-direction: column;\n",
              "}\n",
              "\n",
              "#sk-container-id-1 div.sk-parallel-item:first-child::after {\n",
              "  align-self: flex-end;\n",
              "  width: 50%;\n",
              "}\n",
              "\n",
              "#sk-container-id-1 div.sk-parallel-item:last-child::after {\n",
              "  align-self: flex-start;\n",
              "  width: 50%;\n",
              "}\n",
              "\n",
              "#sk-container-id-1 div.sk-parallel-item:only-child::after {\n",
              "  width: 0;\n",
              "}\n",
              "\n",
              "/* Serial-specific style estimator block */\n",
              "\n",
              "#sk-container-id-1 div.sk-serial {\n",
              "  display: flex;\n",
              "  flex-direction: column;\n",
              "  align-items: center;\n",
              "  background-color: var(--sklearn-color-background);\n",
              "  padding-right: 1em;\n",
              "  padding-left: 1em;\n",
              "}\n",
              "\n",
              "\n",
              "/* Toggleable style: style used for estimator/Pipeline/ColumnTransformer box that is\n",
              "clickable and can be expanded/collapsed.\n",
              "- Pipeline and ColumnTransformer use this feature and define the default style\n",
              "- Estimators will overwrite some part of the style using the `sk-estimator` class\n",
              "*/\n",
              "\n",
              "/* Pipeline and ColumnTransformer style (default) */\n",
              "\n",
              "#sk-container-id-1 div.sk-toggleable {\n",
              "  /* Default theme specific background. It is overwritten whether we have a\n",
              "  specific estimator or a Pipeline/ColumnTransformer */\n",
              "  background-color: var(--sklearn-color-background);\n",
              "}\n",
              "\n",
              "/* Toggleable label */\n",
              "#sk-container-id-1 label.sk-toggleable__label {\n",
              "  cursor: pointer;\n",
              "  display: flex;\n",
              "  width: 100%;\n",
              "  margin-bottom: 0;\n",
              "  padding: 0.5em;\n",
              "  box-sizing: border-box;\n",
              "  text-align: center;\n",
              "  align-items: start;\n",
              "  justify-content: space-between;\n",
              "  gap: 0.5em;\n",
              "}\n",
              "\n",
              "#sk-container-id-1 label.sk-toggleable__label .caption {\n",
              "  font-size: 0.6rem;\n",
              "  font-weight: lighter;\n",
              "  color: var(--sklearn-color-text-muted);\n",
              "}\n",
              "\n",
              "#sk-container-id-1 label.sk-toggleable__label-arrow:before {\n",
              "  /* Arrow on the left of the label */\n",
              "  content: \"▸\";\n",
              "  float: left;\n",
              "  margin-right: 0.25em;\n",
              "  color: var(--sklearn-color-icon);\n",
              "}\n",
              "\n",
              "#sk-container-id-1 label.sk-toggleable__label-arrow:hover:before {\n",
              "  color: var(--sklearn-color-text);\n",
              "}\n",
              "\n",
              "/* Toggleable content - dropdown */\n",
              "\n",
              "#sk-container-id-1 div.sk-toggleable__content {\n",
              "  max-height: 0;\n",
              "  max-width: 0;\n",
              "  overflow: hidden;\n",
              "  text-align: left;\n",
              "  /* unfitted */\n",
              "  background-color: var(--sklearn-color-unfitted-level-0);\n",
              "}\n",
              "\n",
              "#sk-container-id-1 div.sk-toggleable__content.fitted {\n",
              "  /* fitted */\n",
              "  background-color: var(--sklearn-color-fitted-level-0);\n",
              "}\n",
              "\n",
              "#sk-container-id-1 div.sk-toggleable__content pre {\n",
              "  margin: 0.2em;\n",
              "  border-radius: 0.25em;\n",
              "  color: var(--sklearn-color-text);\n",
              "  /* unfitted */\n",
              "  background-color: var(--sklearn-color-unfitted-level-0);\n",
              "}\n",
              "\n",
              "#sk-container-id-1 div.sk-toggleable__content.fitted pre {\n",
              "  /* unfitted */\n",
              "  background-color: var(--sklearn-color-fitted-level-0);\n",
              "}\n",
              "\n",
              "#sk-container-id-1 input.sk-toggleable__control:checked~div.sk-toggleable__content {\n",
              "  /* Expand drop-down */\n",
              "  max-height: 200px;\n",
              "  max-width: 100%;\n",
              "  overflow: auto;\n",
              "}\n",
              "\n",
              "#sk-container-id-1 input.sk-toggleable__control:checked~label.sk-toggleable__label-arrow:before {\n",
              "  content: \"▾\";\n",
              "}\n",
              "\n",
              "/* Pipeline/ColumnTransformer-specific style */\n",
              "\n",
              "#sk-container-id-1 div.sk-label input.sk-toggleable__control:checked~label.sk-toggleable__label {\n",
              "  color: var(--sklearn-color-text);\n",
              "  background-color: var(--sklearn-color-unfitted-level-2);\n",
              "}\n",
              "\n",
              "#sk-container-id-1 div.sk-label.fitted input.sk-toggleable__control:checked~label.sk-toggleable__label {\n",
              "  background-color: var(--sklearn-color-fitted-level-2);\n",
              "}\n",
              "\n",
              "/* Estimator-specific style */\n",
              "\n",
              "/* Colorize estimator box */\n",
              "#sk-container-id-1 div.sk-estimator input.sk-toggleable__control:checked~label.sk-toggleable__label {\n",
              "  /* unfitted */\n",
              "  background-color: var(--sklearn-color-unfitted-level-2);\n",
              "}\n",
              "\n",
              "#sk-container-id-1 div.sk-estimator.fitted input.sk-toggleable__control:checked~label.sk-toggleable__label {\n",
              "  /* fitted */\n",
              "  background-color: var(--sklearn-color-fitted-level-2);\n",
              "}\n",
              "\n",
              "#sk-container-id-1 div.sk-label label.sk-toggleable__label,\n",
              "#sk-container-id-1 div.sk-label label {\n",
              "  /* The background is the default theme color */\n",
              "  color: var(--sklearn-color-text-on-default-background);\n",
              "}\n",
              "\n",
              "/* On hover, darken the color of the background */\n",
              "#sk-container-id-1 div.sk-label:hover label.sk-toggleable__label {\n",
              "  color: var(--sklearn-color-text);\n",
              "  background-color: var(--sklearn-color-unfitted-level-2);\n",
              "}\n",
              "\n",
              "/* Label box, darken color on hover, fitted */\n",
              "#sk-container-id-1 div.sk-label.fitted:hover label.sk-toggleable__label.fitted {\n",
              "  color: var(--sklearn-color-text);\n",
              "  background-color: var(--sklearn-color-fitted-level-2);\n",
              "}\n",
              "\n",
              "/* Estimator label */\n",
              "\n",
              "#sk-container-id-1 div.sk-label label {\n",
              "  font-family: monospace;\n",
              "  font-weight: bold;\n",
              "  display: inline-block;\n",
              "  line-height: 1.2em;\n",
              "}\n",
              "\n",
              "#sk-container-id-1 div.sk-label-container {\n",
              "  text-align: center;\n",
              "}\n",
              "\n",
              "/* Estimator-specific */\n",
              "#sk-container-id-1 div.sk-estimator {\n",
              "  font-family: monospace;\n",
              "  border: 1px dotted var(--sklearn-color-border-box);\n",
              "  border-radius: 0.25em;\n",
              "  box-sizing: border-box;\n",
              "  margin-bottom: 0.5em;\n",
              "  /* unfitted */\n",
              "  background-color: var(--sklearn-color-unfitted-level-0);\n",
              "}\n",
              "\n",
              "#sk-container-id-1 div.sk-estimator.fitted {\n",
              "  /* fitted */\n",
              "  background-color: var(--sklearn-color-fitted-level-0);\n",
              "}\n",
              "\n",
              "/* on hover */\n",
              "#sk-container-id-1 div.sk-estimator:hover {\n",
              "  /* unfitted */\n",
              "  background-color: var(--sklearn-color-unfitted-level-2);\n",
              "}\n",
              "\n",
              "#sk-container-id-1 div.sk-estimator.fitted:hover {\n",
              "  /* fitted */\n",
              "  background-color: var(--sklearn-color-fitted-level-2);\n",
              "}\n",
              "\n",
              "/* Specification for estimator info (e.g. \"i\" and \"?\") */\n",
              "\n",
              "/* Common style for \"i\" and \"?\" */\n",
              "\n",
              ".sk-estimator-doc-link,\n",
              "a:link.sk-estimator-doc-link,\n",
              "a:visited.sk-estimator-doc-link {\n",
              "  float: right;\n",
              "  font-size: smaller;\n",
              "  line-height: 1em;\n",
              "  font-family: monospace;\n",
              "  background-color: var(--sklearn-color-background);\n",
              "  border-radius: 1em;\n",
              "  height: 1em;\n",
              "  width: 1em;\n",
              "  text-decoration: none !important;\n",
              "  margin-left: 0.5em;\n",
              "  text-align: center;\n",
              "  /* unfitted */\n",
              "  border: var(--sklearn-color-unfitted-level-1) 1pt solid;\n",
              "  color: var(--sklearn-color-unfitted-level-1);\n",
              "}\n",
              "\n",
              ".sk-estimator-doc-link.fitted,\n",
              "a:link.sk-estimator-doc-link.fitted,\n",
              "a:visited.sk-estimator-doc-link.fitted {\n",
              "  /* fitted */\n",
              "  border: var(--sklearn-color-fitted-level-1) 1pt solid;\n",
              "  color: var(--sklearn-color-fitted-level-1);\n",
              "}\n",
              "\n",
              "/* On hover */\n",
              "div.sk-estimator:hover .sk-estimator-doc-link:hover,\n",
              ".sk-estimator-doc-link:hover,\n",
              "div.sk-label-container:hover .sk-estimator-doc-link:hover,\n",
              ".sk-estimator-doc-link:hover {\n",
              "  /* unfitted */\n",
              "  background-color: var(--sklearn-color-unfitted-level-3);\n",
              "  color: var(--sklearn-color-background);\n",
              "  text-decoration: none;\n",
              "}\n",
              "\n",
              "div.sk-estimator.fitted:hover .sk-estimator-doc-link.fitted:hover,\n",
              ".sk-estimator-doc-link.fitted:hover,\n",
              "div.sk-label-container:hover .sk-estimator-doc-link.fitted:hover,\n",
              ".sk-estimator-doc-link.fitted:hover {\n",
              "  /* fitted */\n",
              "  background-color: var(--sklearn-color-fitted-level-3);\n",
              "  color: var(--sklearn-color-background);\n",
              "  text-decoration: none;\n",
              "}\n",
              "\n",
              "/* Span, style for the box shown on hovering the info icon */\n",
              ".sk-estimator-doc-link span {\n",
              "  display: none;\n",
              "  z-index: 9999;\n",
              "  position: relative;\n",
              "  font-weight: normal;\n",
              "  right: .2ex;\n",
              "  padding: .5ex;\n",
              "  margin: .5ex;\n",
              "  width: min-content;\n",
              "  min-width: 20ex;\n",
              "  max-width: 50ex;\n",
              "  color: var(--sklearn-color-text);\n",
              "  box-shadow: 2pt 2pt 4pt #999;\n",
              "  /* unfitted */\n",
              "  background: var(--sklearn-color-unfitted-level-0);\n",
              "  border: .5pt solid var(--sklearn-color-unfitted-level-3);\n",
              "}\n",
              "\n",
              ".sk-estimator-doc-link.fitted span {\n",
              "  /* fitted */\n",
              "  background: var(--sklearn-color-fitted-level-0);\n",
              "  border: var(--sklearn-color-fitted-level-3);\n",
              "}\n",
              "\n",
              ".sk-estimator-doc-link:hover span {\n",
              "  display: block;\n",
              "}\n",
              "\n",
              "/* \"?\"-specific style due to the `<a>` HTML tag */\n",
              "\n",
              "#sk-container-id-1 a.estimator_doc_link {\n",
              "  float: right;\n",
              "  font-size: 1rem;\n",
              "  line-height: 1em;\n",
              "  font-family: monospace;\n",
              "  background-color: var(--sklearn-color-background);\n",
              "  border-radius: 1rem;\n",
              "  height: 1rem;\n",
              "  width: 1rem;\n",
              "  text-decoration: none;\n",
              "  /* unfitted */\n",
              "  color: var(--sklearn-color-unfitted-level-1);\n",
              "  border: var(--sklearn-color-unfitted-level-1) 1pt solid;\n",
              "}\n",
              "\n",
              "#sk-container-id-1 a.estimator_doc_link.fitted {\n",
              "  /* fitted */\n",
              "  border: var(--sklearn-color-fitted-level-1) 1pt solid;\n",
              "  color: var(--sklearn-color-fitted-level-1);\n",
              "}\n",
              "\n",
              "/* On hover */\n",
              "#sk-container-id-1 a.estimator_doc_link:hover {\n",
              "  /* unfitted */\n",
              "  background-color: var(--sklearn-color-unfitted-level-3);\n",
              "  color: var(--sklearn-color-background);\n",
              "  text-decoration: none;\n",
              "}\n",
              "\n",
              "#sk-container-id-1 a.estimator_doc_link.fitted:hover {\n",
              "  /* fitted */\n",
              "  background-color: var(--sklearn-color-fitted-level-3);\n",
              "}\n",
              "</style><div id=\"sk-container-id-1\" class=\"sk-top-container\"><div class=\"sk-text-repr-fallback\"><pre>GradientBoostingClassifier(random_state=0)</pre><b>In a Jupyter environment, please rerun this cell to show the HTML representation or trust the notebook. <br />On GitHub, the HTML representation is unable to render, please try loading this page with nbviewer.org.</b></div><div class=\"sk-container\" hidden><div class=\"sk-item\"><div class=\"sk-estimator fitted sk-toggleable\"><input class=\"sk-toggleable__control sk-hidden--visually\" id=\"sk-estimator-id-1\" type=\"checkbox\" checked><label for=\"sk-estimator-id-1\" class=\"sk-toggleable__label fitted sk-toggleable__label-arrow\"><div><div>GradientBoostingClassifier</div></div><div><a class=\"sk-estimator-doc-link fitted\" rel=\"noreferrer\" target=\"_blank\" href=\"https://scikit-learn.org/1.6/modules/generated/sklearn.ensemble.GradientBoostingClassifier.html\">?<span>Documentation for GradientBoostingClassifier</span></a><span class=\"sk-estimator-doc-link fitted\">i<span>Fitted</span></span></div></label><div class=\"sk-toggleable__content fitted\"><pre>GradientBoostingClassifier(random_state=0)</pre></div> </div></div></div></div>"
            ]
          },
          "metadata": {},
          "execution_count": 21
        }
      ],
      "source": [
        "sk_gbc = GradientBoostingClassifier(random_state=0)\n",
        "sk_gbc.fit(X1_train, y1_train)"
      ]
    },
    {
      "cell_type": "code",
      "source": [
        "sk_gbc_pred_res = sk_gbc.predict(X1_test)"
      ],
      "metadata": {
        "id": "edDLLecDvC6J"
      },
      "id": "edDLLecDvC6J",
      "execution_count": 22,
      "outputs": []
    },
    {
      "cell_type": "code",
      "source": [
        "sk_gbc_accuracy = accuracy_score(y1_test, sk_gbc_pred_res)"
      ],
      "metadata": {
        "id": "_CYE-2BhvC_V"
      },
      "id": "_CYE-2BhvC_V",
      "execution_count": 23,
      "outputs": []
    },
    {
      "cell_type": "code",
      "source": [
        "print(f'sk_gbc accuracy: {sk_gbc_accuracy}')\n",
        "print(sk_gbc_pred_res)"
      ],
      "metadata": {
        "colab": {
          "base_uri": "https://localhost:8080/"
        },
        "id": "vlaY5_M6vDE1",
        "outputId": "c5a4e7eb-3f6f-4c7a-9c0b-3d6f8cb83579"
      },
      "id": "vlaY5_M6vDE1",
      "execution_count": 24,
      "outputs": [
        {
          "output_type": "stream",
          "name": "stdout",
          "text": [
            "sk_gbc accuracy: 0.6666666666666666\n",
            "[5 0 1 4 1 1 0 1 1 1 1 0 1 1 1 5 2 1 2 0 1 0 5 5 0 0 5 0 0 1 0 0 1 0 1 0 0\n",
            " 0 0 5 1 1 1 0 1 1 0 1 0 1 0 1 5 0]\n"
          ]
        }
      ]
    },
    {
      "cell_type": "code",
      "source": [
        "feature_indexes = [1, 3]"
      ],
      "metadata": {
        "id": "Y6z-cZ3ZvDkT"
      },
      "id": "Y6z-cZ3ZvDkT",
      "execution_count": 25,
      "outputs": []
    },
    {
      "cell_type": "code",
      "source": [
        "decision_boundary_plot(X1, y1, X1_train, y1_train, sk_gbc, feature_indexes, 'GradientBoostingClassifier surface')"
      ],
      "metadata": {
        "colab": {
          "base_uri": "https://localhost:8080/",
          "height": 527
        },
        "id": "z4UEhU7uvfH6",
        "outputId": "4c47ecfa-6f11-43db-d37e-cc2347d382c6"
      },
      "id": "z4UEhU7uvfH6",
      "execution_count": 26,
      "outputs": [
        {
          "output_type": "stream",
          "name": "stderr",
          "text": [
            "/usr/local/lib/python3.11/dist-packages/mlxtend/plotting/decision_regions.py:346: UserWarning: You passed a edgecolor/edgecolors ('black') for an unfilled marker ('x').  Matplotlib is ignoring the edgecolor in favor of the facecolor.  This behavior may change in the future.\n",
            "  ax.scatter(\n"
          ]
        },
        {
          "output_type": "display_data",
          "data": {
            "text/plain": [
              "<Figure size 640x480 with 1 Axes>"
            ],
            "image/png": "[encoded data removed]"
          },
          "metadata": {}
        }
      ]
    },
    {
      "cell_type": "markdown",
      "id": "afc0d4df",
      "metadata": {
        "id": "afc0d4df",
        "papermill": {
          "duration": 0.012931,
          "end_time": "2024-06-29T07:48:06.051119",
          "exception": false,
          "start_time": "2024-06-29T07:48:06.038188",
          "status": "completed"
        },
        "tags": []
      },
      "source": [
        "**HistGradientBoostingClassifier (scikit-learn)**"
      ]
    },
    {
      "cell_type": "code",
      "execution_count": 28,
      "id": "2ea6db0c",
      "metadata": {
        "execution": {
          "iopub.execute_input": "2024-06-29T07:48:06.079346Z",
          "iopub.status.busy": "2024-06-29T07:48:06.078895Z",
          "iopub.status.idle": "2024-06-29T07:48:12.050312Z",
          "shell.execute_reply": "2024-06-29T07:48:12.049204Z"
        },
        "id": "2ea6db0c",
        "outputId": "63bf0f52-d278-4f5c-ef18-7dc20b77e76f",
        "papermill": {
          "duration": 5.989013,
          "end_time": "2024-06-29T07:48:12.053315",
          "exception": false,
          "start_time": "2024-06-29T07:48:06.064302",
          "status": "completed"
        },
        "tags": [],
        "colab": {
          "base_uri": "https://localhost:8080/",
          "height": 80
        }
      },
      "outputs": [
        {
          "output_type": "execute_result",
          "data": {
            "text/plain": [
              "HistGradientBoostingClassifier(random_state=0)"
            ],
            "text/html": [
              "<style>#sk-container-id-2 {\n",
              "  /* Definition of color scheme common for light and dark mode */\n",
              "  --sklearn-color-text: #000;\n",
              "  --sklearn-color-text-muted: #666;\n",
              "  --sklearn-color-line: gray;\n",
              "  /* Definition of color scheme for unfitted estimators */\n",
              "  --sklearn-color-unfitted-level-0: #fff5e6;\n",
              "  --sklearn-color-unfitted-level-1: #f6e4d2;\n",
              "  --sklearn-color-unfitted-level-2: #ffe0b3;\n",
              "  --sklearn-color-unfitted-level-3: chocolate;\n",
              "  /* Definition of color scheme for fitted estimators */\n",
              "  --sklearn-color-fitted-level-0: #f0f8ff;\n",
              "  --sklearn-color-fitted-level-1: #d4ebff;\n",
              "  --sklearn-color-fitted-level-2: #b3dbfd;\n",
              "  --sklearn-color-fitted-level-3: cornflowerblue;\n",
              "\n",
              "  /* Specific color for light theme */\n",
              "  --sklearn-color-text-on-default-background: var(--sg-text-color, var(--theme-code-foreground, var(--jp-content-font-color1, black)));\n",
              "  --sklearn-color-background: var(--sg-background-color, var(--theme-background, var(--jp-layout-color0, white)));\n",
              "  --sklearn-color-border-box: var(--sg-text-color, var(--theme-code-foreground, var(--jp-content-font-color1, black)));\n",
              "  --sklearn-color-icon: #696969;\n",
              "\n",
              "  @media (prefers-color-scheme: dark) {\n",
              "    /* Redefinition of color scheme for dark theme */\n",
              "    --sklearn-color-text-on-default-background: var(--sg-text-color, var(--theme-code-foreground, var(--jp-content-font-color1, white)));\n",
              "    --sklearn-color-background: var(--sg-background-color, var(--theme-background, var(--jp-layout-color0, #111)));\n",
              "    --sklearn-color-border-box: var(--sg-text-color, var(--theme-code-foreground, var(--jp-content-font-color1, white)));\n",
              "    --sklearn-color-icon: #878787;\n",
              "  }\n",
              "}\n",
              "\n",
              "#sk-container-id-2 {\n",
              "  color: var(--sklearn-color-text);\n",
              "}\n",
              "\n",
              "#sk-container-id-2 pre {\n",
              "  padding: 0;\n",
              "}\n",
              "\n",
              "#sk-container-id-2 input.sk-hidden--visually {\n",
              "  border: 0;\n",
              "  clip: rect(1px 1px 1px 1px);\n",
              "  clip: rect(1px, 1px, 1px, 1px);\n",
              "  height: 1px;\n",
              "  margin: -1px;\n",
              "  overflow: hidden;\n",
              "  padding: 0;\n",
              "  position: absolute;\n",
              "  width: 1px;\n",
              "}\n",
              "\n",
              "#sk-container-id-2 div.sk-dashed-wrapped {\n",
              "  border: 1px dashed var(--sklearn-color-line);\n",
              "  margin: 0 0.4em 0.5em 0.4em;\n",
              "  box-sizing: border-box;\n",
              "  padding-bottom: 0.4em;\n",
              "  background-color: var(--sklearn-color-background);\n",
              "}\n",
              "\n",
              "#sk-container-id-2 div.sk-container {\n",
              "  /* jupyter's `normalize.less` sets `[hidden] { display: none; }`\n",
              "     but bootstrap.min.css set `[hidden] { display: none !important; }`\n",
              "     so we also need the `!important` here to be able to override the\n",
              "     default hidden behavior on the sphinx rendered scikit-learn.org.\n",
              "     See: https://github.com/scikit-learn/scikit-learn/issues/21755 */\n",
              "  display: inline-block !important;\n",
              "  position: relative;\n",
              "}\n",
              "\n",
              "#sk-container-id-2 div.sk-text-repr-fallback {\n",
              "  display: none;\n",
              "}\n",
              "\n",
              "div.sk-parallel-item,\n",
              "div.sk-serial,\n",
              "div.sk-item {\n",
              "  /* draw centered vertical line to link estimators */\n",
              "  background-image: linear-gradient(var(--sklearn-color-text-on-default-background), var(--sklearn-color-text-on-default-background));\n",
              "  background-size: 2px 100%;\n",
              "  background-repeat: no-repeat;\n",
              "  background-position: center center;\n",
              "}\n",
              "\n",
              "/* Parallel-specific style estimator block */\n",
              "\n",
              "#sk-container-id-2 div.sk-parallel-item::after {\n",
              "  content: \"\";\n",
              "  width: 100%;\n",
              "  border-bottom: 2px solid var(--sklearn-color-text-on-default-background);\n",
              "  flex-grow: 1;\n",
              "}\n",
              "\n",
              "#sk-container-id-2 div.sk-parallel {\n",
              "  display: flex;\n",
              "  align-items: stretch;\n",
              "  justify-content: center;\n",
              "  background-color: var(--sklearn-color-background);\n",
              "  position: relative;\n",
              "}\n",
              "\n",
              "#sk-container-id-2 div.sk-parallel-item {\n",
              "  display: flex;\n",
              "  flex-direction: column;\n",
              "}\n",
              "\n",
              "#sk-container-id-2 div.sk-parallel-item:first-child::after {\n",
              "  align-self: flex-end;\n",
              "  width: 50%;\n",
              "}\n",
              "\n",
              "#sk-container-id-2 div.sk-parallel-item:last-child::after {\n",
              "  align-self: flex-start;\n",
              "  width: 50%;\n",
              "}\n",
              "\n",
              "#sk-container-id-2 div.sk-parallel-item:only-child::after {\n",
              "  width: 0;\n",
              "}\n",
              "\n",
              "/* Serial-specific style estimator block */\n",
              "\n",
              "#sk-container-id-2 div.sk-serial {\n",
              "  display: flex;\n",
              "  flex-direction: column;\n",
              "  align-items: center;\n",
              "  background-color: var(--sklearn-color-background);\n",
              "  padding-right: 1em;\n",
              "  padding-left: 1em;\n",
              "}\n",
              "\n",
              "\n",
              "/* Toggleable style: style used for estimator/Pipeline/ColumnTransformer box that is\n",
              "clickable and can be expanded/collapsed.\n",
              "- Pipeline and ColumnTransformer use this feature and define the default style\n",
              "- Estimators will overwrite some part of the style using the `sk-estimator` class\n",
              "*/\n",
              "\n",
              "/* Pipeline and ColumnTransformer style (default) */\n",
              "\n",
              "#sk-container-id-2 div.sk-toggleable {\n",
              "  /* Default theme specific background. It is overwritten whether we have a\n",
              "  specific estimator or a Pipeline/ColumnTransformer */\n",
              "  background-color: var(--sklearn-color-background);\n",
              "}\n",
              "\n",
              "/* Toggleable label */\n",
              "#sk-container-id-2 label.sk-toggleable__label {\n",
              "  cursor: pointer;\n",
              "  display: flex;\n",
              "  width: 100%;\n",
              "  margin-bottom: 0;\n",
              "  padding: 0.5em;\n",
              "  box-sizing: border-box;\n",
              "  text-align: center;\n",
              "  align-items: start;\n",
              "  justify-content: space-between;\n",
              "  gap: 0.5em;\n",
              "}\n",
              "\n",
              "#sk-container-id-2 label.sk-toggleable__label .caption {\n",
              "  font-size: 0.6rem;\n",
              "  font-weight: lighter;\n",
              "  color: var(--sklearn-color-text-muted);\n",
              "}\n",
              "\n",
              "#sk-container-id-2 label.sk-toggleable__label-arrow:before {\n",
              "  /* Arrow on the left of the label */\n",
              "  content: \"▸\";\n",
              "  float: left;\n",
              "  margin-right: 0.25em;\n",
              "  color: var(--sklearn-color-icon);\n",
              "}\n",
              "\n",
              "#sk-container-id-2 label.sk-toggleable__label-arrow:hover:before {\n",
              "  color: var(--sklearn-color-text);\n",
              "}\n",
              "\n",
              "/* Toggleable content - dropdown */\n",
              "\n",
              "#sk-container-id-2 div.sk-toggleable__content {\n",
              "  max-height: 0;\n",
              "  max-width: 0;\n",
              "  overflow: hidden;\n",
              "  text-align: left;\n",
              "  /* unfitted */\n",
              "  background-color: var(--sklearn-color-unfitted-level-0);\n",
              "}\n",
              "\n",
              "#sk-container-id-2 div.sk-toggleable__content.fitted {\n",
              "  /* fitted */\n",
              "  background-color: var(--sklearn-color-fitted-level-0);\n",
              "}\n",
              "\n",
              "#sk-container-id-2 div.sk-toggleable__content pre {\n",
              "  margin: 0.2em;\n",
              "  border-radius: 0.25em;\n",
              "  color: var(--sklearn-color-text);\n",
              "  /* unfitted */\n",
              "  background-color: var(--sklearn-color-unfitted-level-0);\n",
              "}\n",
              "\n",
              "#sk-container-id-2 div.sk-toggleable__content.fitted pre {\n",
              "  /* unfitted */\n",
              "  background-color: var(--sklearn-color-fitted-level-0);\n",
              "}\n",
              "\n",
              "#sk-container-id-2 input.sk-toggleable__control:checked~div.sk-toggleable__content {\n",
              "  /* Expand drop-down */\n",
              "  max-height: 200px;\n",
              "  max-width: 100%;\n",
              "  overflow: auto;\n",
              "}\n",
              "\n",
              "#sk-container-id-2 input.sk-toggleable__control:checked~label.sk-toggleable__label-arrow:before {\n",
              "  content: \"▾\";\n",
              "}\n",
              "\n",
              "/* Pipeline/ColumnTransformer-specific style */\n",
              "\n",
              "#sk-container-id-2 div.sk-label input.sk-toggleable__control:checked~label.sk-toggleable__label {\n",
              "  color: var(--sklearn-color-text);\n",
              "  background-color: var(--sklearn-color-unfitted-level-2);\n",
              "}\n",
              "\n",
              "#sk-container-id-2 div.sk-label.fitted input.sk-toggleable__control:checked~label.sk-toggleable__label {\n",
              "  background-color: var(--sklearn-color-fitted-level-2);\n",
              "}\n",
              "\n",
              "/* Estimator-specific style */\n",
              "\n",
              "/* Colorize estimator box */\n",
              "#sk-container-id-2 div.sk-estimator input.sk-toggleable__control:checked~label.sk-toggleable__label {\n",
              "  /* unfitted */\n",
              "  background-color: var(--sklearn-color-unfitted-level-2);\n",
              "}\n",
              "\n",
              "#sk-container-id-2 div.sk-estimator.fitted input.sk-toggleable__control:checked~label.sk-toggleable__label {\n",
              "  /* fitted */\n",
              "  background-color: var(--sklearn-color-fitted-level-2);\n",
              "}\n",
              "\n",
              "#sk-container-id-2 div.sk-label label.sk-toggleable__label,\n",
              "#sk-container-id-2 div.sk-label label {\n",
              "  /* The background is the default theme color */\n",
              "  color: var(--sklearn-color-text-on-default-background);\n",
              "}\n",
              "\n",
              "/* On hover, darken the color of the background */\n",
              "#sk-container-id-2 div.sk-label:hover label.sk-toggleable__label {\n",
              "  color: var(--sklearn-color-text);\n",
              "  background-color: var(--sklearn-color-unfitted-level-2);\n",
              "}\n",
              "\n",
              "/* Label box, darken color on hover, fitted */\n",
              "#sk-container-id-2 div.sk-label.fitted:hover label.sk-toggleable__label.fitted {\n",
              "  color: var(--sklearn-color-text);\n",
              "  background-color: var(--sklearn-color-fitted-level-2);\n",
              "}\n",
              "\n",
              "/* Estimator label */\n",
              "\n",
              "#sk-container-id-2 div.sk-label label {\n",
              "  font-family: monospace;\n",
              "  font-weight: bold;\n",
              "  display: inline-block;\n",
              "  line-height: 1.2em;\n",
              "}\n",
              "\n",
              "#sk-container-id-2 div.sk-label-container {\n",
              "  text-align: center;\n",
              "}\n",
              "\n",
              "/* Estimator-specific */\n",
              "#sk-container-id-2 div.sk-estimator {\n",
              "  font-family: monospace;\n",
              "  border: 1px dotted var(--sklearn-color-border-box);\n",
              "  border-radius: 0.25em;\n",
              "  box-sizing: border-box;\n",
              "  margin-bottom: 0.5em;\n",
              "  /* unfitted */\n",
              "  background-color: var(--sklearn-color-unfitted-level-0);\n",
              "}\n",
              "\n",
              "#sk-container-id-2 div.sk-estimator.fitted {\n",
              "  /* fitted */\n",
              "  background-color: var(--sklearn-color-fitted-level-0);\n",
              "}\n",
              "\n",
              "/* on hover */\n",
              "#sk-container-id-2 div.sk-estimator:hover {\n",
              "  /* unfitted */\n",
              "  background-color: var(--sklearn-color-unfitted-level-2);\n",
              "}\n",
              "\n",
              "#sk-container-id-2 div.sk-estimator.fitted:hover {\n",
              "  /* fitted */\n",
              "  background-color: var(--sklearn-color-fitted-level-2);\n",
              "}\n",
              "\n",
              "/* Specification for estimator info (e.g. \"i\" and \"?\") */\n",
              "\n",
              "/* Common style for \"i\" and \"?\" */\n",
              "\n",
              ".sk-estimator-doc-link,\n",
              "a:link.sk-estimator-doc-link,\n",
              "a:visited.sk-estimator-doc-link {\n",
              "  float: right;\n",
              "  font-size: smaller;\n",
              "  line-height: 1em;\n",
              "  font-family: monospace;\n",
              "  background-color: var(--sklearn-color-background);\n",
              "  border-radius: 1em;\n",
              "  height: 1em;\n",
              "  width: 1em;\n",
              "  text-decoration: none !important;\n",
              "  margin-left: 0.5em;\n",
              "  text-align: center;\n",
              "  /* unfitted */\n",
              "  border: var(--sklearn-color-unfitted-level-1) 1pt solid;\n",
              "  color: var(--sklearn-color-unfitted-level-1);\n",
              "}\n",
              "\n",
              ".sk-estimator-doc-link.fitted,\n",
              "a:link.sk-estimator-doc-link.fitted,\n",
              "a:visited.sk-estimator-doc-link.fitted {\n",
              "  /* fitted */\n",
              "  border: var(--sklearn-color-fitted-level-1) 1pt solid;\n",
              "  color: var(--sklearn-color-fitted-level-1);\n",
              "}\n",
              "\n",
              "/* On hover */\n",
              "div.sk-estimator:hover .sk-estimator-doc-link:hover,\n",
              ".sk-estimator-doc-link:hover,\n",
              "div.sk-label-container:hover .sk-estimator-doc-link:hover,\n",
              ".sk-estimator-doc-link:hover {\n",
              "  /* unfitted */\n",
              "  background-color: var(--sklearn-color-unfitted-level-3);\n",
              "  color: var(--sklearn-color-background);\n",
              "  text-decoration: none;\n",
              "}\n",
              "\n",
              "div.sk-estimator.fitted:hover .sk-estimator-doc-link.fitted:hover,\n",
              ".sk-estimator-doc-link.fitted:hover,\n",
              "div.sk-label-container:hover .sk-estimator-doc-link.fitted:hover,\n",
              ".sk-estimator-doc-link.fitted:hover {\n",
              "  /* fitted */\n",
              "  background-color: var(--sklearn-color-fitted-level-3);\n",
              "  color: var(--sklearn-color-background);\n",
              "  text-decoration: none;\n",
              "}\n",
              "\n",
              "/* Span, style for the box shown on hovering the info icon */\n",
              ".sk-estimator-doc-link span {\n",
              "  display: none;\n",
              "  z-index: 9999;\n",
              "  position: relative;\n",
              "  font-weight: normal;\n",
              "  right: .2ex;\n",
              "  padding: .5ex;\n",
              "  margin: .5ex;\n",
              "  width: min-content;\n",
              "  min-width: 20ex;\n",
              "  max-width: 50ex;\n",
              "  color: var(--sklearn-color-text);\n",
              "  box-shadow: 2pt 2pt 4pt #999;\n",
              "  /* unfitted */\n",
              "  background: var(--sklearn-color-unfitted-level-0);\n",
              "  border: .5pt solid var(--sklearn-color-unfitted-level-3);\n",
              "}\n",
              "\n",
              ".sk-estimator-doc-link.fitted span {\n",
              "  /* fitted */\n",
              "  background: var(--sklearn-color-fitted-level-0);\n",
              "  border: var(--sklearn-color-fitted-level-3);\n",
              "}\n",
              "\n",
              ".sk-estimator-doc-link:hover span {\n",
              "  display: block;\n",
              "}\n",
              "\n",
              "/* \"?\"-specific style due to the `<a>` HTML tag */\n",
              "\n",
              "#sk-container-id-2 a.estimator_doc_link {\n",
              "  float: right;\n",
              "  font-size: 1rem;\n",
              "  line-height: 1em;\n",
              "  font-family: monospace;\n",
              "  background-color: var(--sklearn-color-background);\n",
              "  border-radius: 1rem;\n",
              "  height: 1rem;\n",
              "  width: 1rem;\n",
              "  text-decoration: none;\n",
              "  /* unfitted */\n",
              "  color: var(--sklearn-color-unfitted-level-1);\n",
              "  border: var(--sklearn-color-unfitted-level-1) 1pt solid;\n",
              "}\n",
              "\n",
              "#sk-container-id-2 a.estimator_doc_link.fitted {\n",
              "  /* fitted */\n",
              "  border: var(--sklearn-color-fitted-level-1) 1pt solid;\n",
              "  color: var(--sklearn-color-fitted-level-1);\n",
              "}\n",
              "\n",
              "/* On hover */\n",
              "#sk-container-id-2 a.estimator_doc_link:hover {\n",
              "  /* unfitted */\n",
              "  background-color: var(--sklearn-color-unfitted-level-3);\n",
              "  color: var(--sklearn-color-background);\n",
              "  text-decoration: none;\n",
              "}\n",
              "\n",
              "#sk-container-id-2 a.estimator_doc_link.fitted:hover {\n",
              "  /* fitted */\n",
              "  background-color: var(--sklearn-color-fitted-level-3);\n",
              "}\n",
              "</style><div id=\"sk-container-id-2\" class=\"sk-top-container\"><div class=\"sk-text-repr-fallback\"><pre>HistGradientBoostingClassifier(random_state=0)</pre><b>In a Jupyter environment, please rerun this cell to show the HTML representation or trust the notebook. <br />On GitHub, the HTML representation is unable to render, please try loading this page with nbviewer.org.</b></div><div class=\"sk-container\" hidden><div class=\"sk-item\"><div class=\"sk-estimator fitted sk-toggleable\"><input class=\"sk-toggleable__control sk-hidden--visually\" id=\"sk-estimator-id-2\" type=\"checkbox\" checked><label for=\"sk-estimator-id-2\" class=\"sk-toggleable__label fitted sk-toggleable__label-arrow\"><div><div>HistGradientBoostingClassifier</div></div><div><a class=\"sk-estimator-doc-link fitted\" rel=\"noreferrer\" target=\"_blank\" href=\"https://scikit-learn.org/1.6/modules/generated/sklearn.ensemble.HistGradientBoostingClassifier.html\">?<span>Documentation for HistGradientBoostingClassifier</span></a><span class=\"sk-estimator-doc-link fitted\">i<span>Fitted</span></span></div></label><div class=\"sk-toggleable__content fitted\"><pre>HistGradientBoostingClassifier(random_state=0)</pre></div> </div></div></div></div>"
            ]
          },
          "metadata": {},
          "execution_count": 28
        }
      ],
      "source": [
        "sk_hist_gbc = HistGradientBoostingClassifier(random_state=0)\n",
        "sk_hist_gbc.fit(X1_train, y1_train)"
      ]
    },
    {
      "cell_type": "code",
      "source": [
        "sk_hist_gbc_pred_res = sk_hist_gbc.predict(X1_test)"
      ],
      "metadata": {
        "id": "PnDjYhNFvq9R"
      },
      "id": "PnDjYhNFvq9R",
      "execution_count": 29,
      "outputs": []
    },
    {
      "cell_type": "code",
      "source": [
        "sk_hist_gbc_accuracy = accuracy_score(y1_test, sk_hist_gbc_pred_res)"
      ],
      "metadata": {
        "id": "iwIlk4s0vtJK"
      },
      "id": "iwIlk4s0vtJK",
      "execution_count": 30,
      "outputs": []
    },
    {
      "cell_type": "code",
      "source": [
        "print(f'sk_hist_gbc accuracy: {sk_hist_gbc_accuracy}')\n",
        "print(sk_hist_gbc_pred_res)"
      ],
      "metadata": {
        "colab": {
          "base_uri": "https://localhost:8080/"
        },
        "id": "NPhGUqMMvtXb",
        "outputId": "17d6d32c-bc4a-4a80-83dd-1e4f8aa08dec"
      },
      "id": "NPhGUqMMvtXb",
      "execution_count": 31,
      "outputs": [
        {
          "output_type": "stream",
          "name": "stdout",
          "text": [
            "sk_hist_gbc accuracy: 0.7407407407407407\n",
            "[5 0 1 4 1 1 0 1 1 1 0 1 0 1 1 5 2 1 0 2 3 0 5 5 0 0 5 0 1 1 0 0 1 0 0 0 0\n",
            " 2 0 5 1 4 1 0 0 1 0 1 0 1 0 1 5 0]\n"
          ]
        }
      ]
    },
    {
      "cell_type": "code",
      "source": [
        "feature_indexes = [1, 3]\n",
        "\n",
        "decision_boundary_plot(X1, y1, X1_train, y1_train, sk_hist_gbc, feature_indexes, 'HistGradientBoostingClassifier surface')"
      ],
      "metadata": {
        "colab": {
          "base_uri": "https://localhost:8080/",
          "height": 527
        },
        "id": "AAEu1gMXvrJd",
        "outputId": "88d73cf3-ca24-4757-daac-4a1f88089413"
      },
      "id": "AAEu1gMXvrJd",
      "execution_count": 32,
      "outputs": [
        {
          "output_type": "stream",
          "name": "stderr",
          "text": [
            "/usr/local/lib/python3.11/dist-packages/mlxtend/plotting/decision_regions.py:346: UserWarning: You passed a edgecolor/edgecolors ('black') for an unfilled marker ('x').  Matplotlib is ignoring the edgecolor in favor of the facecolor.  This behavior may change in the future.\n",
            "  ax.scatter(\n"
          ]
        },
        {
          "output_type": "display_data",
          "data": {
            "text/plain": [
              "<Figure size 640x480 with 1 Axes>"
            ],
            "image/png": "[encoded data removed]"
          },
          "metadata": {}
        }
      ]
    },
    {
      "cell_type": "markdown",
      "id": "419882a6",
      "metadata": {
        "id": "419882a6",
        "papermill": {
          "duration": 0.013993,
          "end_time": "2024-06-29T07:48:12.081673",
          "exception": false,
          "start_time": "2024-06-29T07:48:12.067680",
          "status": "completed"
        },
        "tags": []
      },
      "source": [
        "**GBMRegressor**"
      ]
    },
    {
      "cell_type": "code",
      "execution_count": 33,
      "id": "9193b104",
      "metadata": {
        "execution": {
          "iopub.execute_input": "2024-06-29T07:48:12.111987Z",
          "iopub.status.busy": "2024-06-29T07:48:12.111560Z",
          "iopub.status.idle": "2024-06-29T07:48:12.661359Z",
          "shell.execute_reply": "2024-06-29T07:48:12.659996Z"
        },
        "id": "9193b104",
        "papermill": {
          "duration": 0.568162,
          "end_time": "2024-06-29T07:48:12.664098",
          "exception": false,
          "start_time": "2024-06-29T07:48:12.095936",
          "status": "completed"
        },
        "tags": []
      },
      "outputs": [],
      "source": [
        "gbr = GBMRegressor(random_state=0)\n",
        "gbr.fit(X2_train, y2_train)"
      ]
    },
    {
      "cell_type": "code",
      "source": [
        "gbr_pred_res = gbr.predict(X2_test)\n",
        "mape = mean_absolute_percentage_error(y2_test, gbr_pred_res)"
      ],
      "metadata": {
        "id": "ETOkiNY8waES"
      },
      "id": "ETOkiNY8waES",
      "execution_count": 34,
      "outputs": []
    },
    {
      "cell_type": "code",
      "source": [
        "print(f'gbr mape: {mape}')\n",
        "print(gbr_pred_res)"
      ],
      "metadata": {
        "colab": {
          "base_uri": "https://localhost:8080/"
        },
        "id": "zNp8EO6Twbdk",
        "outputId": "429ca037-ca12-41c6-afe4-50c0392187c4"
      },
      "id": "zNp8EO6Twbdk",
      "execution_count": 35,
      "outputs": [
        {
          "output_type": "stream",
          "name": "stdout",
          "text": [
            "gbr mape: 0.399913339601999\n",
            "[255.26058697 236.87383554 189.22369747 111.4291292  195.31958776\n",
            " 249.2293251   97.46956406 205.91110801 133.47952304 240.88679883\n",
            " 187.19018483 171.09963906 132.63933991  86.28964353 286.56077589\n",
            " 105.78347251 161.94686043  72.58069452 105.92470096 236.52718059\n",
            " 178.31146418 127.93036968 164.16563703 147.68681371 229.72747212\n",
            " 194.16656023 142.44300193  68.79177464 237.21638657 163.36730299\n",
            " 228.0338107   85.82843049 122.42781509 153.99332065 133.44848601\n",
            " 159.00754731 151.98981608 147.1238119   88.56372077 200.84785209\n",
            " 111.32129613 157.60108633 137.94395538 173.39402287 176.29284757\n",
            "  62.85019316 109.646804   124.14982054  83.45697583 266.40618239\n",
            " 141.2307366   42.05033124 163.57898214 149.92213387 230.37326368\n",
            " 226.98842404 176.95426024 128.73302071  94.7641018  180.13853236\n",
            " 242.31821245 147.52903035 130.45931832  97.32617479 246.70709949\n",
            " 155.26338705  88.36785447 243.39330218 215.93042351  57.89243255\n",
            "  87.76236479 138.21222825 101.23449416 140.80521012 128.63575744\n",
            " 180.15062966 126.14000544 220.28212417 272.05642136 203.4384734\n",
            " 135.96206295 180.87259854  55.62066017 241.84218009 137.19320157\n",
            "  85.57441147 154.16763601 198.15465153 107.34659467 158.72672412\n",
            " 102.17554103 114.4602227   70.44016611 165.66282053 108.02991765\n",
            "  87.88855231 218.47152891 250.1208086  131.93276827 164.8880371\n",
            " 174.16393905 119.21512394 150.9405975   93.44225978 234.7444088\n",
            " 139.46581273 248.28728947 276.8291188  121.36081625  77.12248695\n",
            " 252.1021757 ]\n"
          ]
        }
      ]
    },
    {
      "cell_type": "markdown",
      "id": "ae379c28",
      "metadata": {
        "id": "ae379c28",
        "papermill": {
          "duration": 0.014058,
          "end_time": "2024-06-29T07:48:12.692851",
          "exception": false,
          "start_time": "2024-06-29T07:48:12.678793",
          "status": "completed"
        },
        "tags": []
      },
      "source": [
        "**GradientBoostingRegressor (scikit-learn)**"
      ]
    },
    {
      "cell_type": "code",
      "execution_count": 40,
      "id": "14d1b492",
      "metadata": {
        "execution": {
          "iopub.execute_input": "2024-06-29T07:48:12.724258Z",
          "iopub.status.busy": "2024-06-29T07:48:12.723221Z",
          "iopub.status.idle": "2024-06-29T07:48:12.859857Z",
          "shell.execute_reply": "2024-06-29T07:48:12.858396Z"
        },
        "id": "14d1b492",
        "outputId": "cb0d3735-7484-4dc1-9aca-e916ff1db16c",
        "papermill": {
          "duration": 0.15535,
          "end_time": "2024-06-29T07:48:12.862744",
          "exception": false,
          "start_time": "2024-06-29T07:48:12.707394",
          "status": "completed"
        },
        "tags": [],
        "colab": {
          "base_uri": "https://localhost:8080/"
        }
      },
      "outputs": [
        {
          "output_type": "stream",
          "name": "stdout",
          "text": [
            "sk_gbr mape: 0.4010647096251489\n",
            "[255.26058697 236.87383554 189.22369747 111.4291292  195.31958776\n",
            " 249.2293251   97.46956406 205.91110801 133.47952304 240.88679883\n",
            " 187.19018483 171.09963906 132.63933991  86.28964353 286.56077589\n",
            " 105.78347251 161.94686043  72.58069452 105.92470096 236.52718059\n",
            " 182.08417504 127.93036968 164.16563703 147.68681371 229.72747212\n",
            " 194.16656023 142.44300193  68.79177464 237.21638657 163.36730299\n",
            " 223.14955275  85.82843049 122.42781509 153.99332065 133.44848601\n",
            " 159.00754731 151.98981608 147.1238119   88.56372077 200.84785209\n",
            " 117.71059889 157.60108633 137.94395538 173.39402287 176.29284757\n",
            "  62.85019316 109.646804   124.14982054  83.45697583 266.40618239\n",
            " 141.2307366   42.05033124 163.57898214 149.92213387 230.37326368\n",
            " 226.98842404 176.95426024 128.73302071  94.7641018  180.13853236\n",
            " 242.31821245 147.52903035 131.71442058  97.32617479 246.70709949\n",
            " 155.26338705  88.36785447 243.39330218 215.93042351  54.04270734\n",
            "  87.76236479 138.21222825 101.23449416 140.80521012 128.63575744\n",
            " 180.15062966 126.14000544 220.28212417 272.05642136 203.4384734\n",
            " 135.96206295 180.87259854  55.62066017 241.84218009 137.19320157\n",
            "  85.57441147 154.16763601 198.15465153 107.34659467 158.72672412\n",
            " 102.17554103 114.4602227   70.44016611 165.66282053 108.02991765\n",
            "  87.88855231 218.47152891 247.93843617 131.93276827 164.8880371\n",
            " 174.16393905 119.21512394 150.9405975   93.44225978 234.7444088\n",
            " 139.46581273 248.28728947 286.90898175 121.36081625  77.12248695\n",
            " 252.1021757 ]\n"
          ]
        }
      ],
      "source": [
        "sk_gbr = GradientBoostingRegressor(random_state=0)\n",
        "sk_gbr.fit(X2_train, y2_train)\n",
        "sk_gbr_pred_res = sk_gbr.predict(X2_test)\n",
        "sk_mape = mean_absolute_percentage_error(y2_test, sk_gbr_pred_res)\n",
        "print(f'sk_gbr mape: {sk_mape}')\n",
        "print(sk_gbr_pred_res)\n"
      ]
    },
    {
      "cell_type": "markdown",
      "id": "942e72e6",
      "metadata": {
        "id": "942e72e6",
        "papermill": {
          "duration": 0.014349,
          "end_time": "2024-06-29T07:48:12.892240",
          "exception": false,
          "start_time": "2024-06-29T07:48:12.877891",
          "status": "completed"
        },
        "tags": []
      },
      "source": [
        "**HistGradientBoostingRegressor (scikit-learn)**"
      ]
    },
    {
      "cell_type": "code",
      "execution_count": 37,
      "id": "da199bd8",
      "metadata": {
        "execution": {
          "iopub.execute_input": "2024-06-29T07:48:12.923503Z",
          "iopub.status.busy": "2024-06-29T07:48:12.923065Z",
          "iopub.status.idle": "2024-06-29T07:48:13.141160Z",
          "shell.execute_reply": "2024-06-29T07:48:13.139209Z"
        },
        "id": "da199bd8",
        "outputId": "2b26db0c-5d94-470c-a9fe-92c3fb3374b9",
        "papermill": {
          "duration": 0.236775,
          "end_time": "2024-06-29T07:48:13.143704",
          "exception": false,
          "start_time": "2024-06-29T07:48:12.906929",
          "status": "completed"
        },
        "tags": [],
        "colab": {
          "base_uri": "https://localhost:8080/"
        }
      },
      "outputs": [
        {
          "output_type": "stream",
          "name": "stdout",
          "text": [
            "sk_hist_gbr mape: 0.39301688868165796\n",
            "[264.59007545 243.59190524 180.62442773 108.53165744 195.17695513\n",
            " 258.1710931  112.67894454 239.18006052 144.50027011 244.02461776\n",
            " 180.19087697 171.2628973  142.6966707   94.26236013 301.44493762\n",
            "  90.25622203 154.82566511  75.43291346  96.36987316 230.14565012\n",
            " 196.50928346 134.41863815 167.28719774 118.51218378 209.75431111\n",
            " 176.46248808 113.40188129  68.47515467 248.57638999 116.15751993\n",
            " 195.54397416  59.94733366 153.03012884 165.84819847 135.95402508\n",
            " 133.54279177 190.26058998 153.08963938  86.65214731 185.07312005\n",
            " 110.00197459 142.99434304 111.32566034 205.63519803 163.76035901\n",
            "  68.26003406 118.15074567 101.01137587  57.54356002 247.29839792\n",
            " 140.32714196  41.87878548 149.89720974 189.08931404 251.48016218\n",
            " 175.76119949 160.38118455 110.76716142 107.00114228 154.75409577\n",
            " 256.3194536  148.8935956  119.32752592  78.65118163 252.18315433\n",
            " 122.833807    92.10033912 219.56310647 199.35553751  87.27114699\n",
            "  78.83529151 114.14943246  86.07433503 110.44443265 126.1152782\n",
            " 193.58960355 125.06171193 207.62012728 297.41734601 206.57210109\n",
            " 121.92170504 194.37322797  69.66978916 260.97214455  99.77944002\n",
            " 104.34927662 131.51094535 200.0857846  114.70076625 144.92225838\n",
            " 107.08233694  84.70304021  65.20782844 156.77203859  93.87016441\n",
            " 117.10361355 213.79169982 258.68468943 129.45477593 140.06443861\n",
            " 176.72311312 107.95798342 172.45179867 115.75603211 240.83612061\n",
            " 102.2339954  249.6969811  293.80624063 110.47825419  73.86099524\n",
            " 238.42985813]\n"
          ]
        }
      ],
      "source": [
        "sk_hist_gbr = HistGradientBoostingRegressor(random_state=0)\n",
        "sk_hist_gbr.fit(X2_train, y2_train)\n",
        "sk_hist_gbr_pred_res = sk_hist_gbr.predict(X2_test)\n",
        "sk_hist_mape = mean_absolute_percentage_error(y2_test, sk_hist_gbr_pred_res)\n",
        "print(f'sk_hist_gbr mape: {sk_hist_mape}')\n",
        "print(sk_hist_gbr_pred_res)"
      ]
    },
    {
      "cell_type": "markdown",
      "id": "4cfddc8c",
      "metadata": {
        "id": "4cfddc8c",
        "papermill": {
          "duration": 0.014344,
          "end_time": "2024-06-29T07:48:13.173934",
          "exception": false,
          "start_time": "2024-06-29T07:48:13.159590",
          "status": "completed"
        },
        "tags": []
      },
      "source": [
        "# **Pros and cons of Gradient Boosting (GBM)**\n",
        "Pros:\n",
        "- high accuracy;\n",
        "- works well with heterogeneous data;\n",
        "- it's the basis of other modifications of gradient boosting.\n",
        "\n",
        "Cons:\n",
        "- low training speed when working with large datasets;\n",
        "- lack of ability to work with categorical features;\n",
        "- the possibility of overfitting due to poor data preprocessing.\n",
        "\n",
        "It is worth noting that the above disadvantages have been partially or completely eliminated in the modifications of gradient boosting which will be discussed now."
      ]
    },
    {
      "cell_type": "code",
      "source": [],
      "metadata": {
        "id": "U0eh3ksU4FK-"
      },
      "id": "U0eh3ksU4FK-",
      "execution_count": null,
      "outputs": []
    }
  ],
  "metadata": {
    "colab": {
      "provenance": []
    },
    "kaggle": {
      "accelerator": "none",
      "dataSources": [
        {
          "datasetId": 738,
          "sourceId": 1370,
          "sourceType": "datasetVersion"
        }
      ],
      "dockerImageVersionId": 30664,
      "isGpuEnabled": false,
      "isInternetEnabled": true,
      "language": "python",
      "sourceType": "notebook"
    },
    "kernelspec": {
      "display_name": "Python 3",
      "language": "python",
      "name": "python3"
    },
    "language_info": {
      "codemirror_mode": {
        "name": "ipython",
        "version": 3
      },
      "file_extension": ".py",
      "mimetype": "text/x-python",
      "name": "python",
      "nbconvert_exporter": "python",
      "pygments_lexer": "ipython3",
      "version": "3.10.13"
    },
    "papermill": {
      "default_parameters": {},
      "duration": 26.018476,
      "end_time": "2024-06-29T07:48:13.940546",
      "environment_variables": {},
      "exception": null,
      "input_path": "__notebook__.ipynb",
      "output_path": "__notebook__.ipynb",
      "parameters": {},
      "start_time": "2024-06-29T07:47:47.922070",
      "version": "2.5.0"
    }
  },
  "nbformat": 4,
  "nbformat_minor": 5
}