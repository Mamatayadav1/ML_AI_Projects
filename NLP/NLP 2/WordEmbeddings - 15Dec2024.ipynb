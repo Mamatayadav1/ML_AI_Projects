{
 "cells": [
  {
   "cell_type": "code",
   "execution_count": 9,
   "metadata": {},
   "outputs": [
    {
     "name": "stderr",
     "output_type": "stream",
     "text": [
      "\n",
      "A module that was compiled using NumPy 1.x cannot be run in\n",
      "NumPy 2.3.1 as it may crash. To support both 1.x and 2.x\n",
      "versions of NumPy, modules must be compiled with NumPy 2.0.\n",
      "Some module may need to rebuild instead e.g. with 'pybind11>=2.12'.\n",
      "\n",
      "If you are a user of the module, the easiest solution will be to\n",
      "downgrade to 'numpy<2' or try to upgrade the affected module.\n",
      "We expect that some modules will need time to support NumPy 2.\n",
      "\n",
      "Traceback (most recent call last):  File \"<frozen runpy>\", line 198, in _run_module_as_main\n",
      "  File \"<frozen runpy>\", line 88, in _run_code\n",
      "  File \"c:\\Users\\HP\\anaconda3\\Lib\\site-packages\\ipykernel_launcher.py\", line 17, in <module>\n",
      "    app.launch_new_instance()\n",
      "  File \"c:\\Users\\HP\\anaconda3\\Lib\\site-packages\\traitlets\\config\\application.py\", line 992, in launch_instance\n",
      "    app.start()\n",
      "  File \"c:\\Users\\HP\\anaconda3\\Lib\\site-packages\\ipykernel\\kernelapp.py\", line 701, in start\n",
      "    self.io_loop.start()\n",
      "  File \"c:\\Users\\HP\\anaconda3\\Lib\\site-packages\\tornado\\platform\\asyncio.py\", line 195, in start\n",
      "    self.asyncio_loop.run_forever()\n",
      "  File \"c:\\Users\\HP\\anaconda3\\Lib\\asyncio\\windows_events.py\", line 321, in run_forever\n",
      "    super().run_forever()\n",
      "  File \"c:\\Users\\HP\\anaconda3\\Lib\\asyncio\\base_events.py\", line 607, in run_forever\n",
      "    self._run_once()\n",
      "  File \"c:\\Users\\HP\\anaconda3\\Lib\\asyncio\\base_events.py\", line 1922, in _run_once\n",
      "    handle._run()\n",
      "  File \"c:\\Users\\HP\\anaconda3\\Lib\\asyncio\\events.py\", line 80, in _run\n",
      "    self._context.run(self._callback, *self._args)\n",
      "  File \"c:\\Users\\HP\\anaconda3\\Lib\\site-packages\\ipykernel\\kernelbase.py\", line 534, in dispatch_queue\n",
      "    await self.process_one()\n",
      "  File \"c:\\Users\\HP\\anaconda3\\Lib\\site-packages\\ipykernel\\kernelbase.py\", line 523, in process_one\n",
      "    await dispatch(*args)\n",
      "  File \"c:\\Users\\HP\\anaconda3\\Lib\\site-packages\\ipykernel\\kernelbase.py\", line 429, in dispatch_shell\n",
      "    await result\n",
      "  File \"c:\\Users\\HP\\anaconda3\\Lib\\site-packages\\ipykernel\\kernelbase.py\", line 767, in execute_request\n",
      "    reply_content = await reply_content\n",
      "  File \"c:\\Users\\HP\\anaconda3\\Lib\\site-packages\\ipykernel\\ipkernel.py\", line 429, in do_execute\n",
      "    res = shell.run_cell(\n",
      "  File \"c:\\Users\\HP\\anaconda3\\Lib\\site-packages\\ipykernel\\zmqshell.py\", line 549, in run_cell\n",
      "    return super().run_cell(*args, **kwargs)\n",
      "  File \"c:\\Users\\HP\\anaconda3\\Lib\\site-packages\\IPython\\core\\interactiveshell.py\", line 3051, in run_cell\n",
      "    result = self._run_cell(\n",
      "  File \"c:\\Users\\HP\\anaconda3\\Lib\\site-packages\\IPython\\core\\interactiveshell.py\", line 3106, in _run_cell\n",
      "    result = runner(coro)\n",
      "  File \"c:\\Users\\HP\\anaconda3\\Lib\\site-packages\\IPython\\core\\async_helpers.py\", line 129, in _pseudo_sync_runner\n",
      "    coro.send(None)\n",
      "  File \"c:\\Users\\HP\\anaconda3\\Lib\\site-packages\\IPython\\core\\interactiveshell.py\", line 3311, in run_cell_async\n",
      "    has_raised = await self.run_ast_nodes(code_ast.body, cell_name,\n",
      "  File \"c:\\Users\\HP\\anaconda3\\Lib\\site-packages\\IPython\\core\\interactiveshell.py\", line 3493, in run_ast_nodes\n",
      "    if await self.run_code(code, result, async_=asy):\n",
      "  File \"c:\\Users\\HP\\anaconda3\\Lib\\site-packages\\IPython\\core\\interactiveshell.py\", line 3553, in run_code\n",
      "    exec(code_obj, self.user_global_ns, self.user_ns)\n",
      "  File \"C:\\Users\\HP\\AppData\\Local\\Temp\\ipykernel_50476\\10203660.py\", line 1, in <module>\n",
      "    import gensim\n",
      "  File \"c:\\Users\\HP\\anaconda3\\Lib\\site-packages\\gensim\\__init__.py\", line 11, in <module>\n",
      "    from gensim import parsing, corpora, matutils, interfaces, models, similarities, utils  # noqa:F401\n",
      "  File \"c:\\Users\\HP\\anaconda3\\Lib\\site-packages\\gensim\\parsing\\__init__.py\", line 4, in <module>\n",
      "    from .preprocessing import (  # noqa:F401\n",
      "  File \"c:\\Users\\HP\\anaconda3\\Lib\\site-packages\\gensim\\parsing\\preprocessing.py\", line 26, in <module>\n",
      "    from gensim import utils\n",
      "  File \"c:\\Users\\HP\\anaconda3\\Lib\\site-packages\\gensim\\utils.py\", line 36, in <module>\n",
      "    import scipy.sparse\n",
      "  File \"c:\\Users\\HP\\anaconda3\\Lib\\site-packages\\scipy\\sparse\\__init__.py\", line 274, in <module>\n",
      "    from ._csr import *\n",
      "  File \"c:\\Users\\HP\\anaconda3\\Lib\\site-packages\\scipy\\sparse\\_csr.py\", line 11, in <module>\n",
      "    from ._sparsetools import (csr_tocsc, csr_tobsr, csr_count_blocks,\n"
     ]
    },
    {
     "ename": "AttributeError",
     "evalue": "_ARRAY_API not found",
     "output_type": "error",
     "traceback": [
      "\u001b[1;31m---------------------------------------------------------------------------\u001b[0m",
      "\u001b[1;31mAttributeError\u001b[0m                            Traceback (most recent call last)",
      "\u001b[1;31mAttributeError\u001b[0m: _ARRAY_API not found"
     ]
    },
    {
     "ename": "ImportError",
     "evalue": "numpy.core.multiarray failed to import",
     "output_type": "error",
     "traceback": [
      "\u001b[1;31m---------------------------------------------------------------------------\u001b[0m",
      "\u001b[1;31mImportError\u001b[0m                               Traceback (most recent call last)",
      "Cell \u001b[1;32mIn[9], line 1\u001b[0m\n\u001b[1;32m----> 1\u001b[0m \u001b[38;5;28;01mimport\u001b[39;00m \u001b[38;5;21;01mgensim\u001b[39;00m\n\u001b[0;32m      2\u001b[0m \u001b[38;5;28;01mimport\u001b[39;00m \u001b[38;5;21;01mgensim\u001b[39;00m\u001b[38;5;21;01m.\u001b[39;00m\u001b[38;5;21;01mdownloader\u001b[39;00m\n",
      "File \u001b[1;32mc:\\Users\\HP\\anaconda3\\Lib\\site-packages\\gensim\\__init__.py:11\u001b[0m\n\u001b[0;32m      7\u001b[0m __version__ \u001b[38;5;241m=\u001b[39m \u001b[38;5;124m'\u001b[39m\u001b[38;5;124m4.3.0\u001b[39m\u001b[38;5;124m'\u001b[39m\n\u001b[0;32m      9\u001b[0m \u001b[38;5;28;01mimport\u001b[39;00m \u001b[38;5;21;01mlogging\u001b[39;00m\n\u001b[1;32m---> 11\u001b[0m \u001b[38;5;28;01mfrom\u001b[39;00m \u001b[38;5;21;01mgensim\u001b[39;00m \u001b[38;5;28;01mimport\u001b[39;00m parsing, corpora, matutils, interfaces, models, similarities, utils  \u001b[38;5;66;03m# noqa:F401\u001b[39;00m\n\u001b[0;32m     14\u001b[0m logger \u001b[38;5;241m=\u001b[39m logging\u001b[38;5;241m.\u001b[39mgetLogger(\u001b[38;5;124m'\u001b[39m\u001b[38;5;124mgensim\u001b[39m\u001b[38;5;124m'\u001b[39m)\n\u001b[0;32m     15\u001b[0m \u001b[38;5;28;01mif\u001b[39;00m \u001b[38;5;129;01mnot\u001b[39;00m logger\u001b[38;5;241m.\u001b[39mhandlers:  \u001b[38;5;66;03m# To ensure reload() doesn't add another one\u001b[39;00m\n",
      "File \u001b[1;32mc:\\Users\\HP\\anaconda3\\Lib\\site-packages\\gensim\\parsing\\__init__.py:4\u001b[0m\n\u001b[0;32m      1\u001b[0m \u001b[38;5;124;03m\"\"\"This package contains functions to preprocess raw text\"\"\"\u001b[39;00m\n\u001b[0;32m      3\u001b[0m \u001b[38;5;28;01mfrom\u001b[39;00m \u001b[38;5;21;01m.\u001b[39;00m\u001b[38;5;21;01mporter\u001b[39;00m \u001b[38;5;28;01mimport\u001b[39;00m PorterStemmer  \u001b[38;5;66;03m# noqa:F401\u001b[39;00m\n\u001b[1;32m----> 4\u001b[0m \u001b[38;5;28;01mfrom\u001b[39;00m \u001b[38;5;21;01m.\u001b[39;00m\u001b[38;5;21;01mpreprocessing\u001b[39;00m \u001b[38;5;28;01mimport\u001b[39;00m (  \u001b[38;5;66;03m# noqa:F401\u001b[39;00m\n\u001b[0;32m      5\u001b[0m     preprocess_documents,\n\u001b[0;32m      6\u001b[0m     preprocess_string,\n\u001b[0;32m      7\u001b[0m     read_file,\n\u001b[0;32m      8\u001b[0m     read_files,\n\u001b[0;32m      9\u001b[0m     remove_stopwords,\n\u001b[0;32m     10\u001b[0m     split_alphanum,\n\u001b[0;32m     11\u001b[0m     stem_text,\n\u001b[0;32m     12\u001b[0m     strip_multiple_whitespaces,\n\u001b[0;32m     13\u001b[0m     strip_non_alphanum,\n\u001b[0;32m     14\u001b[0m     strip_numeric,\n\u001b[0;32m     15\u001b[0m     strip_punctuation,\n\u001b[0;32m     16\u001b[0m     strip_short,\n\u001b[0;32m     17\u001b[0m     strip_tags,\n\u001b[0;32m     18\u001b[0m )\n",
      "File \u001b[1;32mc:\\Users\\HP\\anaconda3\\Lib\\site-packages\\gensim\\parsing\\preprocessing.py:26\u001b[0m\n\u001b[0;32m     23\u001b[0m \u001b[38;5;28;01mimport\u001b[39;00m \u001b[38;5;21;01mstring\u001b[39;00m\n\u001b[0;32m     24\u001b[0m \u001b[38;5;28;01mimport\u001b[39;00m \u001b[38;5;21;01mglob\u001b[39;00m\n\u001b[1;32m---> 26\u001b[0m \u001b[38;5;28;01mfrom\u001b[39;00m \u001b[38;5;21;01mgensim\u001b[39;00m \u001b[38;5;28;01mimport\u001b[39;00m utils\n\u001b[0;32m     27\u001b[0m \u001b[38;5;28;01mfrom\u001b[39;00m \u001b[38;5;21;01mgensim\u001b[39;00m\u001b[38;5;21;01m.\u001b[39;00m\u001b[38;5;21;01mparsing\u001b[39;00m\u001b[38;5;21;01m.\u001b[39;00m\u001b[38;5;21;01mporter\u001b[39;00m \u001b[38;5;28;01mimport\u001b[39;00m PorterStemmer\n\u001b[0;32m     30\u001b[0m STOPWORDS \u001b[38;5;241m=\u001b[39m \u001b[38;5;28mfrozenset\u001b[39m([\n\u001b[0;32m     31\u001b[0m     \u001b[38;5;124m'\u001b[39m\u001b[38;5;124mall\u001b[39m\u001b[38;5;124m'\u001b[39m, \u001b[38;5;124m'\u001b[39m\u001b[38;5;124msix\u001b[39m\u001b[38;5;124m'\u001b[39m, \u001b[38;5;124m'\u001b[39m\u001b[38;5;124mjust\u001b[39m\u001b[38;5;124m'\u001b[39m, \u001b[38;5;124m'\u001b[39m\u001b[38;5;124mless\u001b[39m\u001b[38;5;124m'\u001b[39m, \u001b[38;5;124m'\u001b[39m\u001b[38;5;124mbeing\u001b[39m\u001b[38;5;124m'\u001b[39m, \u001b[38;5;124m'\u001b[39m\u001b[38;5;124mindeed\u001b[39m\u001b[38;5;124m'\u001b[39m, \u001b[38;5;124m'\u001b[39m\u001b[38;5;124mover\u001b[39m\u001b[38;5;124m'\u001b[39m, \u001b[38;5;124m'\u001b[39m\u001b[38;5;124mmove\u001b[39m\u001b[38;5;124m'\u001b[39m, \u001b[38;5;124m'\u001b[39m\u001b[38;5;124manyway\u001b[39m\u001b[38;5;124m'\u001b[39m, \u001b[38;5;124m'\u001b[39m\u001b[38;5;124mfour\u001b[39m\u001b[38;5;124m'\u001b[39m, \u001b[38;5;124m'\u001b[39m\u001b[38;5;124mnot\u001b[39m\u001b[38;5;124m'\u001b[39m, \u001b[38;5;124m'\u001b[39m\u001b[38;5;124mown\u001b[39m\u001b[38;5;124m'\u001b[39m, \u001b[38;5;124m'\u001b[39m\u001b[38;5;124mthrough\u001b[39m\u001b[38;5;124m'\u001b[39m,\n\u001b[0;32m     32\u001b[0m     \u001b[38;5;124m'\u001b[39m\u001b[38;5;124musing\u001b[39m\u001b[38;5;124m'\u001b[39m, \u001b[38;5;124m'\u001b[39m\u001b[38;5;124mfifty\u001b[39m\u001b[38;5;124m'\u001b[39m, \u001b[38;5;124m'\u001b[39m\u001b[38;5;124mwhere\u001b[39m\u001b[38;5;124m'\u001b[39m, \u001b[38;5;124m'\u001b[39m\u001b[38;5;124mmill\u001b[39m\u001b[38;5;124m'\u001b[39m, \u001b[38;5;124m'\u001b[39m\u001b[38;5;124monly\u001b[39m\u001b[38;5;124m'\u001b[39m, \u001b[38;5;124m'\u001b[39m\u001b[38;5;124mfind\u001b[39m\u001b[38;5;124m'\u001b[39m, \u001b[38;5;124m'\u001b[39m\u001b[38;5;124mbefore\u001b[39m\u001b[38;5;124m'\u001b[39m, \u001b[38;5;124m'\u001b[39m\u001b[38;5;124mone\u001b[39m\u001b[38;5;124m'\u001b[39m, \u001b[38;5;124m'\u001b[39m\u001b[38;5;124mwhose\u001b[39m\u001b[38;5;124m'\u001b[39m, \u001b[38;5;124m'\u001b[39m\u001b[38;5;124msystem\u001b[39m\u001b[38;5;124m'\u001b[39m, \u001b[38;5;124m'\u001b[39m\u001b[38;5;124mhow\u001b[39m\u001b[38;5;124m'\u001b[39m, \u001b[38;5;124m'\u001b[39m\u001b[38;5;124msomewhere\u001b[39m\u001b[38;5;124m'\u001b[39m,\n\u001b[1;32m   (...)\u001b[0m\n\u001b[0;32m     58\u001b[0m     \u001b[38;5;124m'\u001b[39m\u001b[38;5;124mmake\u001b[39m\u001b[38;5;124m'\u001b[39m, \u001b[38;5;124m'\u001b[39m\u001b[38;5;124monce\u001b[39m\u001b[38;5;124m'\u001b[39m\n\u001b[0;32m     59\u001b[0m ])\n",
      "File \u001b[1;32mc:\\Users\\HP\\anaconda3\\Lib\\site-packages\\gensim\\utils.py:36\u001b[0m\n\u001b[0;32m     33\u001b[0m \u001b[38;5;28;01mimport\u001b[39;00m \u001b[38;5;21;01mtypes\u001b[39;00m\n\u001b[0;32m     35\u001b[0m \u001b[38;5;28;01mimport\u001b[39;00m \u001b[38;5;21;01mnumpy\u001b[39;00m \u001b[38;5;28;01mas\u001b[39;00m \u001b[38;5;21;01mnp\u001b[39;00m\n\u001b[1;32m---> 36\u001b[0m \u001b[38;5;28;01mimport\u001b[39;00m \u001b[38;5;21;01mscipy\u001b[39;00m\u001b[38;5;21;01m.\u001b[39;00m\u001b[38;5;21;01msparse\u001b[39;00m\n\u001b[0;32m     37\u001b[0m \u001b[38;5;28;01mfrom\u001b[39;00m \u001b[38;5;21;01msmart_open\u001b[39;00m \u001b[38;5;28;01mimport\u001b[39;00m \u001b[38;5;28mopen\u001b[39m\n\u001b[0;32m     39\u001b[0m \u001b[38;5;28;01mfrom\u001b[39;00m \u001b[38;5;21;01mgensim\u001b[39;00m \u001b[38;5;28;01mimport\u001b[39;00m __version__ \u001b[38;5;28;01mas\u001b[39;00m gensim_version\n",
      "File \u001b[1;32mc:\\Users\\HP\\anaconda3\\Lib\\site-packages\\scipy\\sparse\\__init__.py:274\u001b[0m\n\u001b[0;32m    271\u001b[0m \u001b[38;5;28;01mimport\u001b[39;00m \u001b[38;5;21;01mwarnings\u001b[39;00m \u001b[38;5;28;01mas\u001b[39;00m \u001b[38;5;21;01m_warnings\u001b[39;00m\n\u001b[0;32m    273\u001b[0m \u001b[38;5;28;01mfrom\u001b[39;00m \u001b[38;5;21;01m.\u001b[39;00m\u001b[38;5;21;01m_base\u001b[39;00m \u001b[38;5;28;01mimport\u001b[39;00m \u001b[38;5;241m*\u001b[39m\n\u001b[1;32m--> 274\u001b[0m \u001b[38;5;28;01mfrom\u001b[39;00m \u001b[38;5;21;01m.\u001b[39;00m\u001b[38;5;21;01m_csr\u001b[39;00m \u001b[38;5;28;01mimport\u001b[39;00m \u001b[38;5;241m*\u001b[39m\n\u001b[0;32m    275\u001b[0m \u001b[38;5;28;01mfrom\u001b[39;00m \u001b[38;5;21;01m.\u001b[39;00m\u001b[38;5;21;01m_csc\u001b[39;00m \u001b[38;5;28;01mimport\u001b[39;00m \u001b[38;5;241m*\u001b[39m\n\u001b[0;32m    276\u001b[0m \u001b[38;5;28;01mfrom\u001b[39;00m \u001b[38;5;21;01m.\u001b[39;00m\u001b[38;5;21;01m_lil\u001b[39;00m \u001b[38;5;28;01mimport\u001b[39;00m \u001b[38;5;241m*\u001b[39m\n",
      "File \u001b[1;32mc:\\Users\\HP\\anaconda3\\Lib\\site-packages\\scipy\\sparse\\_csr.py:11\u001b[0m\n\u001b[0;32m      9\u001b[0m \u001b[38;5;28;01mfrom\u001b[39;00m \u001b[38;5;21;01m.\u001b[39;00m\u001b[38;5;21;01m_matrix\u001b[39;00m \u001b[38;5;28;01mimport\u001b[39;00m spmatrix, _array_doc_to_matrix\n\u001b[0;32m     10\u001b[0m \u001b[38;5;28;01mfrom\u001b[39;00m \u001b[38;5;21;01m.\u001b[39;00m\u001b[38;5;21;01m_base\u001b[39;00m \u001b[38;5;28;01mimport\u001b[39;00m _spbase, sparray\n\u001b[1;32m---> 11\u001b[0m \u001b[38;5;28;01mfrom\u001b[39;00m \u001b[38;5;21;01m.\u001b[39;00m\u001b[38;5;21;01m_sparsetools\u001b[39;00m \u001b[38;5;28;01mimport\u001b[39;00m (csr_tocsc, csr_tobsr, csr_count_blocks,\n\u001b[0;32m     12\u001b[0m                            get_csr_submatrix)\n\u001b[0;32m     13\u001b[0m \u001b[38;5;28;01mfrom\u001b[39;00m \u001b[38;5;21;01m.\u001b[39;00m\u001b[38;5;21;01m_sputils\u001b[39;00m \u001b[38;5;28;01mimport\u001b[39;00m upcast\n\u001b[0;32m     15\u001b[0m \u001b[38;5;28;01mfrom\u001b[39;00m \u001b[38;5;21;01m.\u001b[39;00m\u001b[38;5;21;01m_compressed\u001b[39;00m \u001b[38;5;28;01mimport\u001b[39;00m _cs_matrix\n",
      "\u001b[1;31mImportError\u001b[0m: numpy.core.multiarray failed to import"
     ]
    }
   ],
   "source": [
    "import gensim\n",
    "import gensim.downloader"
   ]
  },
  {
   "cell_type": "code",
   "execution_count": 10,
   "metadata": {},
   "outputs": [
    {
     "ename": "SyntaxError",
     "evalue": "invalid syntax (3867816118.py, line 1)",
     "output_type": "error",
     "traceback": [
      "\u001b[1;36m  Cell \u001b[1;32mIn[10], line 1\u001b[1;36m\u001b[0m\n\u001b[1;33m    python -m venv venv_gensim\u001b[0m\n\u001b[1;37m              ^\u001b[0m\n\u001b[1;31mSyntaxError\u001b[0m\u001b[1;31m:\u001b[0m invalid syntax\n"
     ]
    }
   ],
   "source": [
    "python -m venv venv_gensim"
   ]
  },
  {
   "cell_type": "code",
   "execution_count": 7,
   "metadata": {},
   "outputs": [
    {
     "name": "stdout",
     "output_type": "stream",
     "text": [
      "Collecting numpy==1.24.4\n",
      "  Downloading numpy-1.24.4-cp311-cp311-win_amd64.whl.metadata (5.6 kB)\n",
      "Downloading numpy-1.24.4-cp311-cp311-win_amd64.whl (14.8 MB)\n",
      "   ---------------------------------------- 0.0/14.8 MB ? eta -:--:--\n",
      "   ---------------------------------------- 0.0/14.8 MB ? eta -:--:--\n",
      "   ---------------------------------------- 0.0/14.8 MB 445.2 kB/s eta 0:00:34\n",
      "   ---------------------------------------- 0.1/14.8 MB 550.5 kB/s eta 0:00:27\n",
      "   ---------------------------------------- 0.1/14.8 MB 804.6 kB/s eta 0:00:19\n",
      "    --------------------------------------- 0.3/14.8 MB 1.3 MB/s eta 0:00:12\n",
      "   - -------------------------------------- 0.4/14.8 MB 1.7 MB/s eta 0:00:09\n",
      "   - -------------------------------------- 0.5/14.8 MB 2.0 MB/s eta 0:00:08\n",
      "   - -------------------------------------- 0.7/14.8 MB 2.1 MB/s eta 0:00:07\n",
      "   -- ------------------------------------- 0.8/14.8 MB 2.3 MB/s eta 0:00:06\n",
      "   -- ------------------------------------- 0.9/14.8 MB 2.1 MB/s eta 0:00:07\n",
      "   -- ------------------------------------- 0.9/14.8 MB 2.1 MB/s eta 0:00:07\n",
      "   -- ------------------------------------- 0.9/14.8 MB 2.1 MB/s eta 0:00:07\n",
      "   -- ------------------------------------- 1.0/14.8 MB 1.7 MB/s eta 0:00:08\n",
      "   --- ------------------------------------ 1.2/14.8 MB 2.0 MB/s eta 0:00:07\n",
      "   --- ------------------------------------ 1.4/14.8 MB 2.1 MB/s eta 0:00:07\n",
      "   ---- ----------------------------------- 1.5/14.8 MB 2.1 MB/s eta 0:00:07\n",
      "   ---- ----------------------------------- 1.6/14.8 MB 2.2 MB/s eta 0:00:07\n",
      "   ---- ----------------------------------- 1.6/14.8 MB 2.2 MB/s eta 0:00:07\n",
      "   ---- ----------------------------------- 1.7/14.8 MB 2.0 MB/s eta 0:00:07\n",
      "   ---- ----------------------------------- 1.8/14.8 MB 2.0 MB/s eta 0:00:07\n",
      "   ---- ----------------------------------- 1.8/14.8 MB 2.0 MB/s eta 0:00:07\n",
      "   ----- ---------------------------------- 1.9/14.8 MB 1.9 MB/s eta 0:00:07\n",
      "   ----- ---------------------------------- 1.9/14.8 MB 1.9 MB/s eta 0:00:07\n",
      "   ----- ---------------------------------- 2.1/14.8 MB 1.9 MB/s eta 0:00:07\n",
      "   ----- ---------------------------------- 2.2/14.8 MB 1.9 MB/s eta 0:00:07\n",
      "   ------ --------------------------------- 2.3/14.8 MB 1.9 MB/s eta 0:00:07\n",
      "   ------ --------------------------------- 2.4/14.8 MB 2.0 MB/s eta 0:00:07\n",
      "   ------- -------------------------------- 2.6/14.8 MB 2.0 MB/s eta 0:00:07\n",
      "   ------- -------------------------------- 2.7/14.8 MB 2.0 MB/s eta 0:00:07\n",
      "   ------- -------------------------------- 2.9/14.8 MB 2.1 MB/s eta 0:00:06\n",
      "   -------- ------------------------------- 3.0/14.8 MB 2.1 MB/s eta 0:00:06\n",
      "   -------- ------------------------------- 3.1/14.8 MB 2.1 MB/s eta 0:00:06\n",
      "   -------- ------------------------------- 3.2/14.8 MB 2.1 MB/s eta 0:00:06\n",
      "   --------- ------------------------------ 3.5/14.8 MB 2.2 MB/s eta 0:00:06\n",
      "   --------- ------------------------------ 3.6/14.8 MB 2.3 MB/s eta 0:00:05\n",
      "   ---------- ----------------------------- 3.9/14.8 MB 2.3 MB/s eta 0:00:05\n",
      "   ----------- ---------------------------- 4.1/14.8 MB 2.4 MB/s eta 0:00:05\n",
      "   ----------- ---------------------------- 4.2/14.8 MB 2.4 MB/s eta 0:00:05\n",
      "   ----------- ---------------------------- 4.4/14.8 MB 2.4 MB/s eta 0:00:05\n",
      "   ------------ --------------------------- 4.5/14.8 MB 2.5 MB/s eta 0:00:05\n",
      "   ------------ --------------------------- 4.7/14.8 MB 2.5 MB/s eta 0:00:05\n",
      "   ------------ --------------------------- 4.7/14.8 MB 2.5 MB/s eta 0:00:05\n",
      "   ------------ --------------------------- 4.8/14.8 MB 2.4 MB/s eta 0:00:05\n",
      "   ------------ --------------------------- 4.8/14.8 MB 2.4 MB/s eta 0:00:05\n",
      "   ------------- -------------------------- 5.0/14.8 MB 2.4 MB/s eta 0:00:05\n",
      "   ------------- -------------------------- 5.2/14.8 MB 2.4 MB/s eta 0:00:04\n",
      "   -------------- ------------------------- 5.4/14.8 MB 2.4 MB/s eta 0:00:04\n",
      "   -------------- ------------------------- 5.6/14.8 MB 2.5 MB/s eta 0:00:04\n",
      "   --------------- ------------------------ 5.8/14.8 MB 2.5 MB/s eta 0:00:04\n",
      "   ---------------- ----------------------- 6.0/14.8 MB 2.6 MB/s eta 0:00:04\n",
      "   ---------------- ----------------------- 6.3/14.8 MB 2.7 MB/s eta 0:00:04\n",
      "   ----------------- ---------------------- 6.5/14.8 MB 2.7 MB/s eta 0:00:04\n",
      "   ------------------ --------------------- 6.7/14.8 MB 2.7 MB/s eta 0:00:04\n",
      "   ------------------ --------------------- 6.9/14.8 MB 2.7 MB/s eta 0:00:03\n",
      "   ------------------- -------------------- 7.1/14.8 MB 2.8 MB/s eta 0:00:03\n",
      "   ------------------- -------------------- 7.3/14.8 MB 2.8 MB/s eta 0:00:03\n",
      "   -------------------- ------------------- 7.5/14.8 MB 2.8 MB/s eta 0:00:03\n",
      "   -------------------- ------------------- 7.8/14.8 MB 2.9 MB/s eta 0:00:03\n",
      "   --------------------- ------------------ 8.0/14.8 MB 2.9 MB/s eta 0:00:03\n",
      "   ---------------------- ----------------- 8.2/14.8 MB 2.9 MB/s eta 0:00:03\n",
      "   ---------------------- ----------------- 8.4/14.8 MB 3.0 MB/s eta 0:00:03\n",
      "   ----------------------- ---------------- 8.6/14.8 MB 3.0 MB/s eta 0:00:03\n",
      "   ----------------------- ---------------- 8.7/14.8 MB 3.0 MB/s eta 0:00:03\n",
      "   ----------------------- ---------------- 8.8/14.8 MB 2.9 MB/s eta 0:00:03\n",
      "   ----------------------- ---------------- 8.9/14.8 MB 3.0 MB/s eta 0:00:03\n",
      "   ------------------------ --------------- 8.9/14.8 MB 2.9 MB/s eta 0:00:03\n",
      "   ------------------------ --------------- 9.2/14.8 MB 2.9 MB/s eta 0:00:02\n",
      "   ------------------------- -------------- 9.4/14.8 MB 3.0 MB/s eta 0:00:02\n",
      "   ------------------------- -------------- 9.6/14.8 MB 3.0 MB/s eta 0:00:02\n",
      "   -------------------------- ------------- 9.8/14.8 MB 3.0 MB/s eta 0:00:02\n",
      "   -------------------------- ------------- 9.8/14.8 MB 3.0 MB/s eta 0:00:02\n",
      "   -------------------------- ------------- 9.8/14.8 MB 3.0 MB/s eta 0:00:02\n",
      "   -------------------------- ------------- 9.8/14.8 MB 2.9 MB/s eta 0:00:02\n",
      "   -------------------------- ------------- 9.9/14.8 MB 2.9 MB/s eta 0:00:02\n",
      "   -------------------------- ------------- 10.0/14.8 MB 2.9 MB/s eta 0:00:02\n",
      "   --------------------------- ------------ 10.1/14.8 MB 2.9 MB/s eta 0:00:02\n",
      "   --------------------------- ------------ 10.1/14.8 MB 2.8 MB/s eta 0:00:02\n",
      "   --------------------------- ------------ 10.3/14.8 MB 2.9 MB/s eta 0:00:02\n",
      "   --------------------------- ------------ 10.3/14.8 MB 2.9 MB/s eta 0:00:02\n",
      "   ---------------------------- ----------- 10.5/14.8 MB 2.9 MB/s eta 0:00:02\n",
      "   ---------------------------- ----------- 10.6/14.8 MB 2.9 MB/s eta 0:00:02\n",
      "   ---------------------------- ----------- 10.7/14.8 MB 2.9 MB/s eta 0:00:02\n",
      "   ----------------------------- ---------- 10.8/14.8 MB 2.9 MB/s eta 0:00:02\n",
      "   ----------------------------- ---------- 10.9/14.8 MB 2.8 MB/s eta 0:00:02\n",
      "   ----------------------------- ---------- 10.9/14.8 MB 2.8 MB/s eta 0:00:02\n",
      "   ----------------------------- ---------- 10.9/14.8 MB 2.8 MB/s eta 0:00:02\n",
      "   ----------------------------- ---------- 11.0/14.8 MB 2.8 MB/s eta 0:00:02\n",
      "   ------------------------------ --------- 11.1/14.8 MB 2.9 MB/s eta 0:00:02\n",
      "   ------------------------------ --------- 11.2/14.8 MB 2.8 MB/s eta 0:00:02\n",
      "   ------------------------------ --------- 11.3/14.8 MB 2.8 MB/s eta 0:00:02\n",
      "   ------------------------------ --------- 11.4/14.8 MB 2.8 MB/s eta 0:00:02\n",
      "   ------------------------------ --------- 11.4/14.8 MB 2.8 MB/s eta 0:00:02\n",
      "   ------------------------------- -------- 11.5/14.8 MB 2.8 MB/s eta 0:00:02\n",
      "   ------------------------------- -------- 11.6/14.8 MB 2.7 MB/s eta 0:00:02\n",
      "   ------------------------------- -------- 11.6/14.8 MB 2.7 MB/s eta 0:00:02\n",
      "   ------------------------------- -------- 11.7/14.8 MB 2.7 MB/s eta 0:00:02\n",
      "   ------------------------------- -------- 11.8/14.8 MB 2.7 MB/s eta 0:00:02\n",
      "   ------------------------------- -------- 11.8/14.8 MB 2.7 MB/s eta 0:00:02\n",
      "   -------------------------------- ------- 11.9/14.8 MB 2.7 MB/s eta 0:00:02\n",
      "   -------------------------------- ------- 12.0/14.8 MB 2.7 MB/s eta 0:00:02\n",
      "   -------------------------------- ------- 12.0/14.8 MB 2.7 MB/s eta 0:00:02\n",
      "   -------------------------------- ------- 12.0/14.8 MB 2.7 MB/s eta 0:00:02\n",
      "   -------------------------------- ------- 12.1/14.8 MB 2.7 MB/s eta 0:00:02\n",
      "   --------------------------------- ------ 12.2/14.8 MB 2.7 MB/s eta 0:00:01\n",
      "   --------------------------------- ------ 12.3/14.8 MB 2.7 MB/s eta 0:00:01\n",
      "   --------------------------------- ------ 12.5/14.8 MB 2.7 MB/s eta 0:00:01\n",
      "   --------------------------------- ------ 12.5/14.8 MB 2.7 MB/s eta 0:00:01\n",
      "   --------------------------------- ------ 12.6/14.8 MB 2.7 MB/s eta 0:00:01\n",
      "   ---------------------------------- ----- 12.6/14.8 MB 2.6 MB/s eta 0:00:01\n",
      "   ---------------------------------- ----- 12.8/14.8 MB 2.6 MB/s eta 0:00:01\n",
      "   ---------------------------------- ----- 12.9/14.8 MB 2.6 MB/s eta 0:00:01\n",
      "   ---------------------------------- ----- 13.0/14.8 MB 2.6 MB/s eta 0:00:01\n",
      "   ----------------------------------- ---- 13.0/14.8 MB 2.6 MB/s eta 0:00:01\n",
      "   ----------------------------------- ---- 13.1/14.8 MB 2.6 MB/s eta 0:00:01\n",
      "   ----------------------------------- ---- 13.3/14.8 MB 2.6 MB/s eta 0:00:01\n",
      "   ------------------------------------ --- 13.4/14.8 MB 2.6 MB/s eta 0:00:01\n",
      "   ------------------------------------ --- 13.4/14.8 MB 2.6 MB/s eta 0:00:01\n",
      "   ------------------------------------ --- 13.5/14.8 MB 2.6 MB/s eta 0:00:01\n",
      "   ------------------------------------ --- 13.6/14.8 MB 2.5 MB/s eta 0:00:01\n",
      "   ------------------------------------ --- 13.6/14.8 MB 2.5 MB/s eta 0:00:01\n",
      "   ------------------------------------- -- 13.7/14.8 MB 2.5 MB/s eta 0:00:01\n",
      "   ------------------------------------- -- 13.7/14.8 MB 2.5 MB/s eta 0:00:01\n",
      "   ------------------------------------- -- 13.8/14.8 MB 2.5 MB/s eta 0:00:01\n",
      "   ------------------------------------- -- 13.8/14.8 MB 2.5 MB/s eta 0:00:01\n",
      "   ------------------------------------- -- 13.9/14.8 MB 2.4 MB/s eta 0:00:01\n",
      "   ------------------------------------- -- 13.9/14.8 MB 2.4 MB/s eta 0:00:01\n",
      "   ------------------------------------- -- 14.0/14.8 MB 2.4 MB/s eta 0:00:01\n",
      "   -------------------------------------- - 14.1/14.8 MB 2.4 MB/s eta 0:00:01\n",
      "   -------------------------------------- - 14.2/14.8 MB 2.4 MB/s eta 0:00:01\n",
      "   -------------------------------------- - 14.3/14.8 MB 2.3 MB/s eta 0:00:01\n",
      "   -------------------------------------- - 14.4/14.8 MB 2.3 MB/s eta 0:00:01\n",
      "   ---------------------------------------  14.5/14.8 MB 2.3 MB/s eta 0:00:01\n",
      "   ---------------------------------------  14.6/14.8 MB 2.3 MB/s eta 0:00:01\n",
      "   ---------------------------------------  14.6/14.8 MB 2.3 MB/s eta 0:00:01\n",
      "   ---------------------------------------  14.7/14.8 MB 2.3 MB/s eta 0:00:01\n",
      "   ---------------------------------------  14.8/14.8 MB 2.3 MB/s eta 0:00:01\n",
      "   ---------------------------------------  14.8/14.8 MB 2.3 MB/s eta 0:00:01\n",
      "   ---------------------------------------  14.8/14.8 MB 2.3 MB/s eta 0:00:01\n",
      "   ---------------------------------------  14.8/14.8 MB 2.2 MB/s eta 0:00:01\n",
      "   ---------------------------------------- 14.8/14.8 MB 2.2 MB/s eta 0:00:00\n",
      "Installing collected packages: numpy\n",
      "  Attempting uninstall: numpy\n",
      "    Found existing installation: numpy 2.3.1\n",
      "    Uninstalling numpy-2.3.1:\n",
      "      Successfully uninstalled numpy-2.3.1\n",
      "Successfully installed numpy-1.24.4\n"
     ]
    },
    {
     "name": "stderr",
     "output_type": "stream",
     "text": [
      "  WARNING: Failed to remove contents in a temporary directory 'C:\\Users\\HP\\anaconda3\\Lib\\site-packages\\~umpy.libs'.\n",
      "  You can safely remove it manually.\n",
      "  WARNING: Failed to remove contents in a temporary directory 'C:\\Users\\HP\\AppData\\Local\\Temp\\pip-uninstall-3q4n_u40'.\n",
      "  You can safely remove it manually.\n",
      "ERROR: pip's dependency resolver does not currently take into account all the packages that are installed. This behaviour is the source of the following dependency conflicts.\n",
      "gensim 4.3.0 requires FuzzyTM>=0.4.0, which is not installed.\n",
      "thinc 8.3.6 requires numpy<3.0.0,>=2.0.0, but you have numpy 1.24.4 which is incompatible.\n"
     ]
    }
   ],
   "source": [
    "! pip install numpy==1.24.4"
   ]
  },
  {
   "cell_type": "code",
   "execution_count": 1,
   "metadata": {},
   "outputs": [
    {
     "ename": "NameError",
     "evalue": "name 'gensim' is not defined",
     "output_type": "error",
     "traceback": [
      "\u001b[1;31m---------------------------------------------------------------------------\u001b[0m",
      "\u001b[1;31mNameError\u001b[0m                                 Traceback (most recent call last)",
      "Cell \u001b[1;32mIn[1], line 1\u001b[0m\n\u001b[1;32m----> 1\u001b[0m gensim\u001b[38;5;241m.\u001b[39mdownloader\u001b[38;5;241m.\u001b[39minfo()[\u001b[38;5;124m\"\u001b[39m\u001b[38;5;124mmodels\u001b[39m\u001b[38;5;124m\"\u001b[39m]\u001b[38;5;241m.\u001b[39mkeys()\n",
      "\u001b[1;31mNameError\u001b[0m: name 'gensim' is not defined"
     ]
    }
   ],
   "source": [
    "gensim.downloader.info()[\"models\"].keys()"
   ]
  },
  {
   "cell_type": "code",
   "execution_count": 8,
   "metadata": {},
   "outputs": [],
   "source": [
    "word2vec_300 = gensim.downloader.load(\"word2vec-google-news-300\")\n",
    "# W2V model. Pretrained on part of Google news dataset. Each word/embedding is a 300 long vector"
   ]
  },
  {
   "cell_type": "code",
   "execution_count": 14,
   "metadata": {},
   "outputs": [],
   "source": [
    "king = word2vec_300.get_vector(\"king\")"
   ]
  },
  {
   "cell_type": "code",
   "execution_count": 17,
   "metadata": {},
   "outputs": [
    {
     "data": {
      "text/plain": [
       "[('kings', 0.7138045430183411),\n",
       " ('queen', 0.6510956883430481),\n",
       " ('monarch', 0.6413194537162781),\n",
       " ('crown_prince', 0.6204220056533813),\n",
       " ('prince', 0.6159993410110474),\n",
       " ('sultan', 0.5864824056625366),\n",
       " ('ruler', 0.5797567367553711),\n",
       " ('princes', 0.5646552443504333),\n",
       " ('Prince_Paras', 0.5432944297790527),\n",
       " ('throne', 0.5422105193138123)]"
      ]
     },
     "execution_count": 17,
     "metadata": {},
     "output_type": "execute_result"
    }
   ],
   "source": [
    "word2vec_300.most_similar(\"king\")"
   ]
  },
  {
   "cell_type": "code",
   "execution_count": 16,
   "metadata": {},
   "outputs": [],
   "source": [
    "queen = word2vec_300.get_vector(\"queen\")"
   ]
  },
  {
   "cell_type": "code",
   "execution_count": 21,
   "metadata": {},
   "outputs": [
    {
     "data": {
      "text/plain": [
       "[('queens', 0.739944338798523),\n",
       " ('princess', 0.7070532441139221),\n",
       " ('king', 0.6510956883430481),\n",
       " ('monarch', 0.6383602023124695),\n",
       " ('very_pampered_McElhatton', 0.6357026696205139),\n",
       " ('Queen', 0.6163407564163208),\n",
       " ('NYC_anglophiles_aflutter', 0.6060680150985718),\n",
       " ('Queen_Consort', 0.5923796892166138),\n",
       " ('princesses', 0.5908074975013733),\n",
       " ('royal', 0.5637185573577881)]"
      ]
     },
     "execution_count": 21,
     "metadata": {},
     "output_type": "execute_result"
    }
   ],
   "source": [
    "word2vec_300.most_similar(\"queen\")"
   ]
  },
  {
   "cell_type": "code",
   "execution_count": 22,
   "metadata": {},
   "outputs": [
    {
     "data": {
      "text/plain": [
       "array([[0.6510957]], dtype=float32)"
      ]
     },
     "execution_count": 22,
     "metadata": {},
     "output_type": "execute_result"
    }
   ],
   "source": [
    "from sklearn.metrics.pairwise import cosine_similarity\n",
    "cosine_similarity(king.reshape(1,300), queen.reshape(1,300))"
   ]
  },
  {
   "cell_type": "code",
   "execution_count": 25,
   "metadata": {},
   "outputs": [
    {
     "data": {
      "text/plain": [
       "array([[0.7300518]], dtype=float32)"
      ]
     },
     "execution_count": 25,
     "metadata": {},
     "output_type": "execute_result"
    }
   ],
   "source": [
    "king = word2vec_300.get_vector(\"king\")\n",
    "queen = word2vec_300.get_vector(\"queen\")\n",
    "man = word2vec_300.get_vector(\"man\")\n",
    "woman = word2vec_300.get_vector(\"woman\")\n",
    "\n",
    "new_vec = king-man+woman \n",
    "\n",
    "cosine_similarity(new_vec.reshape(1,300), queen.reshape(1,300))"
   ]
  },
  {
   "cell_type": "code",
   "execution_count": 28,
   "metadata": {},
   "outputs": [
    {
     "data": {
      "text/plain": [
       "array([[0.6476528]], dtype=float32)"
      ]
     },
     "execution_count": 28,
     "metadata": {},
     "output_type": "execute_result"
    }
   ],
   "source": [
    "Italy = word2vec_300.get_vector(\"Italy\")\n",
    "Rome = word2vec_300.get_vector(\"Rome\")\n",
    "Japan = word2vec_300.get_vector(\"Japan\")\n",
    "Tokyo = word2vec_300.get_vector(\"Tokyo\")\n",
    "\n",
    "new_vec = Japan - Tokyo + Rome \n",
    "\n",
    "cosine_similarity(new_vec.reshape(1,300), Italy.reshape(1,300))"
   ]
  },
  {
   "cell_type": "code",
   "execution_count": 29,
   "metadata": {},
   "outputs": [
    {
     "data": {
      "text/plain": [
       "[('spain', 0.6375302672386169),\n",
       " ('french', 0.6326055526733398),\n",
       " ('germany', 0.6314354538917542),\n",
       " ('europe', 0.6264256238937378),\n",
       " ('italy', 0.6257959008216858),\n",
       " ('england', 0.6120776534080505),\n",
       " ('european', 0.6074905395507812),\n",
       " ('belgium', 0.5972345471382141),\n",
       " ('usa', 0.5948355197906494),\n",
       " ('serbia', 0.5805614590644836)]"
      ]
     },
     "execution_count": 29,
     "metadata": {},
     "output_type": "execute_result"
    }
   ],
   "source": [
    "word2vec_300.most_similar(\"france\")"
   ]
  },
  {
   "cell_type": "code",
   "execution_count": 36,
   "metadata": {},
   "outputs": [],
   "source": [
    "Sent1 = \"Narendra Modi is addressing the media\"\n",
    "Sent2 = \"Prime Minister is speaking to the press\""
   ]
  },
  {
   "cell_type": "code",
   "execution_count": 40,
   "metadata": {},
   "outputs": [
    {
     "data": {
      "text/plain": [
       "array([[0.6136963]], dtype=float32)"
      ]
     },
     "execution_count": 40,
     "metadata": {},
     "output_type": "execute_result"
    }
   ],
   "source": [
    "embed_1 = word2vec_300.get_mean_vector(Sent1.split())\n",
    "embed_2 = word2vec_300.get_mean_vector(Sent2.split())\n",
    "\n",
    "cosine_similarity(embed_1.reshape(1,300), embed_2.reshape(1,300))"
   ]
  },
  {
   "cell_type": "markdown",
   "metadata": {},
   "source": [
    "### Training a Word2Vec Model"
   ]
  },
  {
   "cell_type": "code",
   "execution_count": 41,
   "metadata": {},
   "outputs": [],
   "source": [
    "from nltk.corpus import brown"
   ]
  },
  {
   "cell_type": "code",
   "execution_count": 42,
   "metadata": {},
   "outputs": [
    {
     "data": {
      "text/plain": [
       "'Daniel personally led the fight for the measure , which he had watered down considerably since its rejection by two previous Legislatures , in a public hearing before the House Committee on Revenue and Taxation .'"
      ]
     },
     "execution_count": 42,
     "metadata": {},
     "output_type": "execute_result"
    }
   ],
   "source": [
    "\" \".join(brown.sents()[100])"
   ]
  },
  {
   "cell_type": "code",
   "execution_count": 43,
   "metadata": {},
   "outputs": [],
   "source": [
    "model = gensim.models.Word2Vec(brown.sents(), vector_size=20, epochs=10, window=10)"
   ]
  },
  {
   "cell_type": "code",
   "execution_count": null,
   "metadata": {},
   "outputs": [
    {
     "data": {
      "text/plain": [
       "(20,)"
      ]
     },
     "execution_count": 48,
     "metadata": {},
     "output_type": "execute_result"
    }
   ],
   "source": [
    "model.wv.get_vector(\"King\").shape"
   ]
  },
  {
   "cell_type": "code",
   "execution_count": 49,
   "metadata": {},
   "outputs": [
    {
     "data": {
      "text/plain": [
       "[('Richard', 0.8972120881080627),\n",
       " ('John', 0.8911973834037781),\n",
       " ('Charles', 0.8906499147415161),\n",
       " ('Judge', 0.8796738386154175),\n",
       " ('Powell', 0.8778663277626038),\n",
       " ('Marshall', 0.8773447871208191),\n",
       " ('Thompson', 0.8706364631652832),\n",
       " ('Martin', 0.8654319643974304),\n",
       " ('Sir', 0.8641459345817566),\n",
       " ('Ritter', 0.8616040945053101)]"
      ]
     },
     "execution_count": 49,
     "metadata": {},
     "output_type": "execute_result"
    }
   ],
   "source": [
    "model.wv.most_similar(\"King\")"
   ]
  },
  {
   "cell_type": "markdown",
   "metadata": {},
   "source": [
    "#### Limitations of Word2Vec"
   ]
  },
  {
   "cell_type": "code",
   "execution_count": null,
   "metadata": {},
   "outputs": [
    {
     "ename": "KeyError",
     "evalue": "\"Key 'joebiden' not present\"",
     "output_type": "error",
     "traceback": [
      "\u001b[1;31m---------------------------------------------------------------------------\u001b[0m",
      "\u001b[1;31mKeyError\u001b[0m                                  Traceback (most recent call last)",
      "Input \u001b[1;32mIn [61]\u001b[0m, in \u001b[0;36m<cell line: 1>\u001b[1;34m()\u001b[0m\n\u001b[1;32m----> 1\u001b[0m \u001b[43mword2vec_300\u001b[49m\u001b[38;5;241;43m.\u001b[39;49m\u001b[43mget_vector\u001b[49m\u001b[43m(\u001b[49m\u001b[38;5;124;43m\"\u001b[39;49m\u001b[38;5;124;43mjoebiden\u001b[39;49m\u001b[38;5;124;43m\"\u001b[39;49m\u001b[43m)\u001b[49m\n",
      "File \u001b[1;32mc:\\Users\\phani\\anaconda3\\envs\\tf\\lib\\site-packages\\gensim\\models\\keyedvectors.py:446\u001b[0m, in \u001b[0;36mKeyedVectors.get_vector\u001b[1;34m(self, key, norm)\u001b[0m\n\u001b[0;32m    422\u001b[0m \u001b[38;5;28;01mdef\u001b[39;00m \u001b[38;5;21mget_vector\u001b[39m(\u001b[38;5;28mself\u001b[39m, key, norm\u001b[38;5;241m=\u001b[39m\u001b[38;5;28;01mFalse\u001b[39;00m):\n\u001b[0;32m    423\u001b[0m \u001b[38;5;250m    \u001b[39m\u001b[38;5;124;03m\"\"\"Get the key's vector, as a 1D numpy array.\u001b[39;00m\n\u001b[0;32m    424\u001b[0m \n\u001b[0;32m    425\u001b[0m \u001b[38;5;124;03m    Parameters\u001b[39;00m\n\u001b[1;32m   (...)\u001b[0m\n\u001b[0;32m    444\u001b[0m \n\u001b[0;32m    445\u001b[0m \u001b[38;5;124;03m    \"\"\"\u001b[39;00m\n\u001b[1;32m--> 446\u001b[0m     index \u001b[38;5;241m=\u001b[39m \u001b[38;5;28;43mself\u001b[39;49m\u001b[38;5;241;43m.\u001b[39;49m\u001b[43mget_index\u001b[49m\u001b[43m(\u001b[49m\u001b[43mkey\u001b[49m\u001b[43m)\u001b[49m\n\u001b[0;32m    447\u001b[0m     \u001b[38;5;28;01mif\u001b[39;00m norm:\n\u001b[0;32m    448\u001b[0m         \u001b[38;5;28mself\u001b[39m\u001b[38;5;241m.\u001b[39mfill_norms()\n",
      "File \u001b[1;32mc:\\Users\\phani\\anaconda3\\envs\\tf\\lib\\site-packages\\gensim\\models\\keyedvectors.py:420\u001b[0m, in \u001b[0;36mKeyedVectors.get_index\u001b[1;34m(self, key, default)\u001b[0m\n\u001b[0;32m    418\u001b[0m     \u001b[38;5;28;01mreturn\u001b[39;00m default\n\u001b[0;32m    419\u001b[0m \u001b[38;5;28;01melse\u001b[39;00m:\n\u001b[1;32m--> 420\u001b[0m     \u001b[38;5;28;01mraise\u001b[39;00m \u001b[38;5;167;01mKeyError\u001b[39;00m(\u001b[38;5;124mf\u001b[39m\u001b[38;5;124m\"\u001b[39m\u001b[38;5;124mKey \u001b[39m\u001b[38;5;124m'\u001b[39m\u001b[38;5;132;01m{\u001b[39;00mkey\u001b[38;5;132;01m}\u001b[39;00m\u001b[38;5;124m'\u001b[39m\u001b[38;5;124m not present\u001b[39m\u001b[38;5;124m\"\u001b[39m)\n",
      "\u001b[1;31mKeyError\u001b[0m: \"Key 'joebiden' not present\""
     ]
    }
   ],
   "source": [
    "word2vec_300.get_vector(\"joebiden\")"
   ]
  }
 ],
 "metadata": {
  "kernelspec": {
   "display_name": "base",
   "language": "python",
   "name": "python3"
  },
  "language_info": {
   "codemirror_mode": {
    "name": "ipython",
    "version": 3
   },
   "file_extension": ".py",
   "mimetype": "text/x-python",
   "name": "python",
   "nbconvert_exporter": "python",
   "pygments_lexer": "ipython3",
   "version": "3.11.7"
  }
 },
 "nbformat": 4,
 "nbformat_minor": 2
}
